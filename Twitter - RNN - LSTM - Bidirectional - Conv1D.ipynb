{
 "cells": [
  {
   "cell_type": "code",
   "execution_count": 1,
   "metadata": {},
   "outputs": [],
   "source": [
    "import pandas as pd\n",
    "import numpy as np\n",
    "import matplotlib.pyplot as plt\n",
    "import seaborn as sn\n",
    "import statsmodels.api as sm\n",
    "import string\n",
    "import re\n",
    "from sklearn.feature_extraction.text import CountVectorizer, TfidfVectorizer\n",
    "import warnings\n",
    "warnings.filterwarnings('ignore')\n",
    "%matplotlib inline"
   ]
  },
  {
   "cell_type": "code",
   "execution_count": 2,
   "metadata": {},
   "outputs": [],
   "source": [
    "train = pd.read_csv('/Users/skylark/Desktop/Misc/dataset/train.csv')"
   ]
  },
  {
   "cell_type": "code",
   "execution_count": 3,
   "metadata": {},
   "outputs": [
    {
     "data": {
      "text/html": [
       "<div>\n",
       "<style scoped>\n",
       "    .dataframe tbody tr th:only-of-type {\n",
       "        vertical-align: middle;\n",
       "    }\n",
       "\n",
       "    .dataframe tbody tr th {\n",
       "        vertical-align: top;\n",
       "    }\n",
       "\n",
       "    .dataframe thead th {\n",
       "        text-align: right;\n",
       "    }\n",
       "</style>\n",
       "<table border=\"1\" class=\"dataframe\">\n",
       "  <thead>\n",
       "    <tr style=\"text-align: right;\">\n",
       "      <th></th>\n",
       "      <th>id</th>\n",
       "      <th>original_text</th>\n",
       "      <th>lang</th>\n",
       "      <th>retweet_count</th>\n",
       "      <th>original_author</th>\n",
       "      <th>sentiment_class</th>\n",
       "    </tr>\n",
       "  </thead>\n",
       "  <tbody>\n",
       "    <tr>\n",
       "      <td>0</td>\n",
       "      <td>1.245025e+18</td>\n",
       "      <td>Happy #MothersDay to all you amazing mothers o...</td>\n",
       "      <td>en</td>\n",
       "      <td>0</td>\n",
       "      <td>BeenXXPired</td>\n",
       "      <td>0</td>\n",
       "    </tr>\n",
       "    <tr>\n",
       "      <td>1</td>\n",
       "      <td>1.245759e+18</td>\n",
       "      <td>Happy Mothers Day Mum - I'm sorry I can't be t...</td>\n",
       "      <td>en</td>\n",
       "      <td>1</td>\n",
       "      <td>FestiveFeeling</td>\n",
       "      <td>0</td>\n",
       "    </tr>\n",
       "    <tr>\n",
       "      <td>2</td>\n",
       "      <td>1.246087e+18</td>\n",
       "      <td>Happy mothers day To all This doing a mothers ...</td>\n",
       "      <td>en</td>\n",
       "      <td>0</td>\n",
       "      <td>KrisAllenSak</td>\n",
       "      <td>-1</td>\n",
       "    </tr>\n",
       "    <tr>\n",
       "      <td>3</td>\n",
       "      <td>1.244803e+18</td>\n",
       "      <td>Happy mothers day to this beautiful woman...ro...</td>\n",
       "      <td>en</td>\n",
       "      <td>0</td>\n",
       "      <td>Queenuchee</td>\n",
       "      <td>0</td>\n",
       "    </tr>\n",
       "    <tr>\n",
       "      <td>4</td>\n",
       "      <td>1.244876e+18</td>\n",
       "      <td>Remembering the 3 most amazing ladies who made...</td>\n",
       "      <td>en</td>\n",
       "      <td>0</td>\n",
       "      <td>brittan17446794</td>\n",
       "      <td>-1</td>\n",
       "    </tr>\n",
       "    <tr>\n",
       "      <td>...</td>\n",
       "      <td>...</td>\n",
       "      <td>...</td>\n",
       "      <td>...</td>\n",
       "      <td>...</td>\n",
       "      <td>...</td>\n",
       "      <td>...</td>\n",
       "    </tr>\n",
       "    <tr>\n",
       "      <td>3230</td>\n",
       "      <td>1.245745e+18</td>\n",
       "      <td>To all my sisters ,my sisters -in -law and als...</td>\n",
       "      <td>en</td>\n",
       "      <td>0</td>\n",
       "      <td>TheBookTweeters</td>\n",
       "      <td>0</td>\n",
       "    </tr>\n",
       "    <tr>\n",
       "      <td>3231</td>\n",
       "      <td>1.244368e+18</td>\n",
       "      <td>Happy Mother’s Day to all the Mums, Step Mums,...</td>\n",
       "      <td>en</td>\n",
       "      <td>0</td>\n",
       "      <td>MPWTW</td>\n",
       "      <td>1</td>\n",
       "    </tr>\n",
       "    <tr>\n",
       "      <td>3232</td>\n",
       "      <td>1.245675e+18</td>\n",
       "      <td>Happy Mothers Day to the craziest woman I know...</td>\n",
       "      <td>en</td>\n",
       "      <td>0</td>\n",
       "      <td>localcreativity</td>\n",
       "      <td>0</td>\n",
       "    </tr>\n",
       "    <tr>\n",
       "      <td>3233</td>\n",
       "      <td>1.243976e+18</td>\n",
       "      <td>Happy Mother's Day to my amazing wife! We both...</td>\n",
       "      <td>en</td>\n",
       "      <td>0</td>\n",
       "      <td>LoveluK77651882</td>\n",
       "      <td>0</td>\n",
       "    </tr>\n",
       "    <tr>\n",
       "      <td>3234</td>\n",
       "      <td>1.245409e+18</td>\n",
       "      <td>Wishing you all a safe &amp; happy Mothers Day #mo...</td>\n",
       "      <td>en</td>\n",
       "      <td>0</td>\n",
       "      <td>andreaanderegg</td>\n",
       "      <td>-1</td>\n",
       "    </tr>\n",
       "  </tbody>\n",
       "</table>\n",
       "<p>3235 rows × 6 columns</p>\n",
       "</div>"
      ],
      "text/plain": [
       "                id                                      original_text lang  \\\n",
       "0     1.245025e+18  Happy #MothersDay to all you amazing mothers o...   en   \n",
       "1     1.245759e+18  Happy Mothers Day Mum - I'm sorry I can't be t...   en   \n",
       "2     1.246087e+18  Happy mothers day To all This doing a mothers ...   en   \n",
       "3     1.244803e+18  Happy mothers day to this beautiful woman...ro...   en   \n",
       "4     1.244876e+18  Remembering the 3 most amazing ladies who made...   en   \n",
       "...            ...                                                ...  ...   \n",
       "3230  1.245745e+18  To all my sisters ,my sisters -in -law and als...   en   \n",
       "3231  1.244368e+18  Happy Mother’s Day to all the Mums, Step Mums,...   en   \n",
       "3232  1.245675e+18  Happy Mothers Day to the craziest woman I know...   en   \n",
       "3233  1.243976e+18  Happy Mother's Day to my amazing wife! We both...   en   \n",
       "3234  1.245409e+18  Wishing you all a safe & happy Mothers Day #mo...   en   \n",
       "\n",
       "     retweet_count  original_author  sentiment_class  \n",
       "0                0      BeenXXPired                0  \n",
       "1                1   FestiveFeeling                0  \n",
       "2                0     KrisAllenSak               -1  \n",
       "3                0       Queenuchee                0  \n",
       "4                0  brittan17446794               -1  \n",
       "...            ...              ...              ...  \n",
       "3230             0  TheBookTweeters                0  \n",
       "3231             0            MPWTW                1  \n",
       "3232             0  localcreativity                0  \n",
       "3233             0  LoveluK77651882                0  \n",
       "3234             0   andreaanderegg               -1  \n",
       "\n",
       "[3235 rows x 6 columns]"
      ]
     },
     "execution_count": 3,
     "metadata": {},
     "output_type": "execute_result"
    }
   ],
   "source": [
    "train"
   ]
  },
  {
   "cell_type": "code",
   "execution_count": 4,
   "metadata": {},
   "outputs": [
    {
     "data": {
      "text/html": [
       "<div>\n",
       "<style scoped>\n",
       "    .dataframe tbody tr th:only-of-type {\n",
       "        vertical-align: middle;\n",
       "    }\n",
       "\n",
       "    .dataframe tbody tr th {\n",
       "        vertical-align: top;\n",
       "    }\n",
       "\n",
       "    .dataframe thead th {\n",
       "        text-align: right;\n",
       "    }\n",
       "</style>\n",
       "<table border=\"1\" class=\"dataframe\">\n",
       "  <thead>\n",
       "    <tr style=\"text-align: right;\">\n",
       "      <th></th>\n",
       "      <th>id</th>\n",
       "      <th>original_text</th>\n",
       "      <th>lang</th>\n",
       "      <th>retweet_count</th>\n",
       "      <th>original_author</th>\n",
       "    </tr>\n",
       "  </thead>\n",
       "  <tbody>\n",
       "    <tr>\n",
       "      <td>0</td>\n",
       "      <td>1.246628e+18</td>\n",
       "      <td>3. Yeah, I once cooked potatoes when I was 3 y...</td>\n",
       "      <td>en</td>\n",
       "      <td>0</td>\n",
       "      <td>LToddWood</td>\n",
       "    </tr>\n",
       "    <tr>\n",
       "      <td>1</td>\n",
       "      <td>1.245898e+18</td>\n",
       "      <td>Happy Mother's Day to all the mums, step-mums,...</td>\n",
       "      <td>en</td>\n",
       "      <td>0</td>\n",
       "      <td>iiarushii</td>\n",
       "    </tr>\n",
       "    <tr>\n",
       "      <td>2</td>\n",
       "      <td>1.244717e+18</td>\n",
       "      <td>I love the people from the UK, however, when I...</td>\n",
       "      <td>en</td>\n",
       "      <td>0</td>\n",
       "      <td>andreaanderegg</td>\n",
       "    </tr>\n",
       "    <tr>\n",
       "      <td>3</td>\n",
       "      <td>1.245730e+18</td>\n",
       "      <td>Happy 81st Birthday Happy Mother’s Day to my m...</td>\n",
       "      <td>en</td>\n",
       "      <td>1</td>\n",
       "      <td>TheBookTweeters</td>\n",
       "    </tr>\n",
       "    <tr>\n",
       "      <td>4</td>\n",
       "      <td>1.244636e+18</td>\n",
       "      <td>Happy Mothers day to all those wonderful mothe...</td>\n",
       "      <td>en</td>\n",
       "      <td>0</td>\n",
       "      <td>andreaanderegg</td>\n",
       "    </tr>\n",
       "    <tr>\n",
       "      <td>...</td>\n",
       "      <td>...</td>\n",
       "      <td>...</td>\n",
       "      <td>...</td>\n",
       "      <td>...</td>\n",
       "      <td>...</td>\n",
       "    </tr>\n",
       "    <tr>\n",
       "      <td>1382</td>\n",
       "      <td>1.245219e+18</td>\n",
       "      <td>Happy Mother’s Day you crazy bitch I’m sorry c...</td>\n",
       "      <td>en</td>\n",
       "      <td>0</td>\n",
       "      <td>MarlosFinds</td>\n",
       "    </tr>\n",
       "    <tr>\n",
       "      <td>1383</td>\n",
       "      <td>1.245882e+18</td>\n",
       "      <td>Mum can't get to the bingo, so we brought the ...</td>\n",
       "      <td>-0.8393813523</td>\n",
       "      <td>en</td>\n",
       "      <td>1</td>\n",
       "    </tr>\n",
       "    <tr>\n",
       "      <td>1384</td>\n",
       "      <td>1.246461e+18</td>\n",
       "      <td>Despite all this bullshit today has been one o...</td>\n",
       "      <td>en</td>\n",
       "      <td>0</td>\n",
       "      <td>LToddWood</td>\n",
       "    </tr>\n",
       "    <tr>\n",
       "      <td>1385</td>\n",
       "      <td>1.246245e+18</td>\n",
       "      <td>Happy Mothers Day Firstly to my Queen daniele_...</td>\n",
       "      <td>en</td>\n",
       "      <td>0</td>\n",
       "      <td>LToddWood</td>\n",
       "    </tr>\n",
       "    <tr>\n",
       "      <td>1386</td>\n",
       "      <td>1.245178e+18</td>\n",
       "      <td>Mothers Day Walk When you live in a tiny villa...</td>\n",
       "      <td>en</td>\n",
       "      <td>0</td>\n",
       "      <td>HerHistoryatYC</td>\n",
       "    </tr>\n",
       "  </tbody>\n",
       "</table>\n",
       "<p>1387 rows × 5 columns</p>\n",
       "</div>"
      ],
      "text/plain": [
       "                id                                      original_text  \\\n",
       "0     1.246628e+18  3. Yeah, I once cooked potatoes when I was 3 y...   \n",
       "1     1.245898e+18  Happy Mother's Day to all the mums, step-mums,...   \n",
       "2     1.244717e+18  I love the people from the UK, however, when I...   \n",
       "3     1.245730e+18  Happy 81st Birthday Happy Mother’s Day to my m...   \n",
       "4     1.244636e+18  Happy Mothers day to all those wonderful mothe...   \n",
       "...            ...                                                ...   \n",
       "1382  1.245219e+18  Happy Mother’s Day you crazy bitch I’m sorry c...   \n",
       "1383  1.245882e+18  Mum can't get to the bingo, so we brought the ...   \n",
       "1384  1.246461e+18  Despite all this bullshit today has been one o...   \n",
       "1385  1.246245e+18  Happy Mothers Day Firstly to my Queen daniele_...   \n",
       "1386  1.245178e+18  Mothers Day Walk When you live in a tiny villa...   \n",
       "\n",
       "               lang retweet_count  original_author  \n",
       "0                en             0        LToddWood  \n",
       "1                en             0        iiarushii  \n",
       "2                en             0   andreaanderegg  \n",
       "3                en             1  TheBookTweeters  \n",
       "4                en             0   andreaanderegg  \n",
       "...             ...           ...              ...  \n",
       "1382             en             0      MarlosFinds  \n",
       "1383  -0.8393813523            en                1  \n",
       "1384             en             0        LToddWood  \n",
       "1385             en             0        LToddWood  \n",
       "1386             en             0   HerHistoryatYC  \n",
       "\n",
       "[1387 rows x 5 columns]"
      ]
     },
     "execution_count": 4,
     "metadata": {},
     "output_type": "execute_result"
    }
   ],
   "source": [
    "test = pd.read_csv('/Users/skylark/Desktop/Misc/dataset/test.csv')\n",
    "test"
   ]
  },
  {
   "cell_type": "code",
   "execution_count": 19,
   "metadata": {},
   "outputs": [],
   "source": [
    "pat = re.compile(r'[\\w]+\\s')"
   ]
  },
  {
   "cell_type": "code",
   "execution_count": 20,
   "metadata": {},
   "outputs": [
    {
     "data": {
      "text/plain": [
       "'happy mothersday to all you amazing mothers out i know s hard not being able to see your mothers today but s on all of us to do what we can to protect the most vulnerable members of our beatcoronavirus '"
      ]
     },
     "execution_count": 20,
     "metadata": {},
     "output_type": "execute_result"
    }
   ],
   "source": [
    "''.join(pat.findall(train.original_text[0])).lower()"
   ]
  },
  {
   "cell_type": "code",
   "execution_count": 15,
   "metadata": {},
   "outputs": [],
   "source": [
    "train['filtered '] = train.original_text.apply(lambda x: ''.join(pat.findall(x)).lower())"
   ]
  },
  {
   "cell_type": "code",
   "execution_count": 16,
   "metadata": {},
   "outputs": [
    {
     "data": {
      "text/html": [
       "<div>\n",
       "<style scoped>\n",
       "    .dataframe tbody tr th:only-of-type {\n",
       "        vertical-align: middle;\n",
       "    }\n",
       "\n",
       "    .dataframe tbody tr th {\n",
       "        vertical-align: top;\n",
       "    }\n",
       "\n",
       "    .dataframe thead th {\n",
       "        text-align: right;\n",
       "    }\n",
       "</style>\n",
       "<table border=\"1\" class=\"dataframe\">\n",
       "  <thead>\n",
       "    <tr style=\"text-align: right;\">\n",
       "      <th></th>\n",
       "      <th>id</th>\n",
       "      <th>original_text</th>\n",
       "      <th>lang</th>\n",
       "      <th>retweet_count</th>\n",
       "      <th>original_author</th>\n",
       "      <th>sentiment_class</th>\n",
       "      <th>filtered</th>\n",
       "    </tr>\n",
       "  </thead>\n",
       "  <tbody>\n",
       "    <tr>\n",
       "      <td>0</td>\n",
       "      <td>1.245025e+18</td>\n",
       "      <td>Happy #MothersDay to all you amazing mothers o...</td>\n",
       "      <td>en</td>\n",
       "      <td>0</td>\n",
       "      <td>BeenXXPired</td>\n",
       "      <td>0</td>\n",
       "      <td>happy mothersday to all you amazing mothers ou...</td>\n",
       "    </tr>\n",
       "    <tr>\n",
       "      <td>1</td>\n",
       "      <td>1.245759e+18</td>\n",
       "      <td>Happy Mothers Day Mum - I'm sorry I can't be t...</td>\n",
       "      <td>en</td>\n",
       "      <td>1</td>\n",
       "      <td>FestiveFeeling</td>\n",
       "      <td>0</td>\n",
       "      <td>happy mothers day mum m sorry i t be there to ...</td>\n",
       "    </tr>\n",
       "    <tr>\n",
       "      <td>2</td>\n",
       "      <td>1.246087e+18</td>\n",
       "      <td>Happy mothers day To all This doing a mothers ...</td>\n",
       "      <td>en</td>\n",
       "      <td>0</td>\n",
       "      <td>KrisAllenSak</td>\n",
       "      <td>-1</td>\n",
       "      <td>happy mothers day to all this doing a mothers ...</td>\n",
       "    </tr>\n",
       "    <tr>\n",
       "      <td>3</td>\n",
       "      <td>1.244803e+18</td>\n",
       "      <td>Happy mothers day to this beautiful woman...ro...</td>\n",
       "      <td>en</td>\n",
       "      <td>0</td>\n",
       "      <td>Queenuchee</td>\n",
       "      <td>0</td>\n",
       "      <td>happy mothers day to this beautiful royalty so...</td>\n",
       "    </tr>\n",
       "    <tr>\n",
       "      <td>4</td>\n",
       "      <td>1.244876e+18</td>\n",
       "      <td>Remembering the 3 most amazing ladies who made...</td>\n",
       "      <td>en</td>\n",
       "      <td>0</td>\n",
       "      <td>brittan17446794</td>\n",
       "      <td>-1</td>\n",
       "      <td>remembering the 3 most amazing ladies who made...</td>\n",
       "    </tr>\n",
       "    <tr>\n",
       "      <td>...</td>\n",
       "      <td>...</td>\n",
       "      <td>...</td>\n",
       "      <td>...</td>\n",
       "      <td>...</td>\n",
       "      <td>...</td>\n",
       "      <td>...</td>\n",
       "      <td>...</td>\n",
       "    </tr>\n",
       "    <tr>\n",
       "      <td>3230</td>\n",
       "      <td>1.245745e+18</td>\n",
       "      <td>To all my sisters ,my sisters -in -law and als...</td>\n",
       "      <td>en</td>\n",
       "      <td>0</td>\n",
       "      <td>TheBookTweeters</td>\n",
       "      <td>0</td>\n",
       "      <td>to all my sisters my sisters in law and also m...</td>\n",
       "    </tr>\n",
       "    <tr>\n",
       "      <td>3231</td>\n",
       "      <td>1.244368e+18</td>\n",
       "      <td>Happy Mother’s Day to all the Mums, Step Mums,...</td>\n",
       "      <td>en</td>\n",
       "      <td>0</td>\n",
       "      <td>MPWTW</td>\n",
       "      <td>1</td>\n",
       "      <td>happy s day to all the step aunties you are al...</td>\n",
       "    </tr>\n",
       "    <tr>\n",
       "      <td>3232</td>\n",
       "      <td>1.245675e+18</td>\n",
       "      <td>Happy Mothers Day to the craziest woman I know...</td>\n",
       "      <td>en</td>\n",
       "      <td>0</td>\n",
       "      <td>localcreativity</td>\n",
       "      <td>0</td>\n",
       "      <td>happy mothers day to the craziest woman i than...</td>\n",
       "    </tr>\n",
       "    <tr>\n",
       "      <td>3233</td>\n",
       "      <td>1.243976e+18</td>\n",
       "      <td>Happy Mother's Day to my amazing wife! We both...</td>\n",
       "      <td>en</td>\n",
       "      <td>0</td>\n",
       "      <td>LoveluK77651882</td>\n",
       "      <td>0</td>\n",
       "      <td>happy s day to my amazing we both love you lik...</td>\n",
       "    </tr>\n",
       "    <tr>\n",
       "      <td>3234</td>\n",
       "      <td>1.245409e+18</td>\n",
       "      <td>Wishing you all a safe &amp; happy Mothers Day #mo...</td>\n",
       "      <td>en</td>\n",
       "      <td>0</td>\n",
       "      <td>andreaanderegg</td>\n",
       "      <td>-1</td>\n",
       "      <td>wishing you all a safe happy mothers day mothe...</td>\n",
       "    </tr>\n",
       "  </tbody>\n",
       "</table>\n",
       "<p>3235 rows × 7 columns</p>\n",
       "</div>"
      ],
      "text/plain": [
       "                id                                      original_text lang  \\\n",
       "0     1.245025e+18  Happy #MothersDay to all you amazing mothers o...   en   \n",
       "1     1.245759e+18  Happy Mothers Day Mum - I'm sorry I can't be t...   en   \n",
       "2     1.246087e+18  Happy mothers day To all This doing a mothers ...   en   \n",
       "3     1.244803e+18  Happy mothers day to this beautiful woman...ro...   en   \n",
       "4     1.244876e+18  Remembering the 3 most amazing ladies who made...   en   \n",
       "...            ...                                                ...  ...   \n",
       "3230  1.245745e+18  To all my sisters ,my sisters -in -law and als...   en   \n",
       "3231  1.244368e+18  Happy Mother’s Day to all the Mums, Step Mums,...   en   \n",
       "3232  1.245675e+18  Happy Mothers Day to the craziest woman I know...   en   \n",
       "3233  1.243976e+18  Happy Mother's Day to my amazing wife! We both...   en   \n",
       "3234  1.245409e+18  Wishing you all a safe & happy Mothers Day #mo...   en   \n",
       "\n",
       "     retweet_count  original_author  sentiment_class  \\\n",
       "0                0      BeenXXPired                0   \n",
       "1                1   FestiveFeeling                0   \n",
       "2                0     KrisAllenSak               -1   \n",
       "3                0       Queenuchee                0   \n",
       "4                0  brittan17446794               -1   \n",
       "...            ...              ...              ...   \n",
       "3230             0  TheBookTweeters                0   \n",
       "3231             0            MPWTW                1   \n",
       "3232             0  localcreativity                0   \n",
       "3233             0  LoveluK77651882                0   \n",
       "3234             0   andreaanderegg               -1   \n",
       "\n",
       "                                              filtered   \n",
       "0     happy mothersday to all you amazing mothers ou...  \n",
       "1     happy mothers day mum m sorry i t be there to ...  \n",
       "2     happy mothers day to all this doing a mothers ...  \n",
       "3     happy mothers day to this beautiful royalty so...  \n",
       "4     remembering the 3 most amazing ladies who made...  \n",
       "...                                                 ...  \n",
       "3230  to all my sisters my sisters in law and also m...  \n",
       "3231  happy s day to all the step aunties you are al...  \n",
       "3232  happy mothers day to the craziest woman i than...  \n",
       "3233  happy s day to my amazing we both love you lik...  \n",
       "3234  wishing you all a safe happy mothers day mothe...  \n",
       "\n",
       "[3235 rows x 7 columns]"
      ]
     },
     "execution_count": 16,
     "metadata": {},
     "output_type": "execute_result"
    }
   ],
   "source": [
    "train"
   ]
  },
  {
   "cell_type": "code",
   "execution_count": 21,
   "metadata": {},
   "outputs": [],
   "source": [
    "test['filtered '] = test.original_text.apply(lambda x: ''.join(pat.findall(x)).lower())"
   ]
  },
  {
   "cell_type": "code",
   "execution_count": 26,
   "metadata": {},
   "outputs": [
    {
     "data": {
      "text/plain": [
       "Index(['id', 'original_text', 'lang', 'retweet_count', 'original_author',\n",
       "       'filtered '],\n",
       "      dtype='object')"
      ]
     },
     "execution_count": 26,
     "metadata": {},
     "output_type": "execute_result"
    }
   ],
   "source": [
    "test.columns"
   ]
  },
  {
   "cell_type": "code",
   "execution_count": 23,
   "metadata": {},
   "outputs": [],
   "source": [
    "pat1 = re.compile(r'\\D')"
   ]
  },
  {
   "cell_type": "code",
   "execution_count": 28,
   "metadata": {},
   "outputs": [
    {
     "data": {
      "text/plain": [
       "'i once cooked potatoes when i was  years and by that i mean i threw a bag of spuds into the happy mothers day i made that time i thought i was cool by drawing the naked lady dachshund on the overhead projector in psychology '"
      ]
     },
     "execution_count": 28,
     "metadata": {},
     "output_type": "execute_result"
    }
   ],
   "source": [
    "''.join(pat1.findall(test['filtered '][0]))"
   ]
  },
  {
   "cell_type": "code",
   "execution_count": 29,
   "metadata": {},
   "outputs": [],
   "source": [
    "train['filtered'] = train.original_text.apply(lambda x: ''.join(pat1.findall(x)).lower())"
   ]
  },
  {
   "cell_type": "code",
   "execution_count": 30,
   "metadata": {},
   "outputs": [],
   "source": [
    "test['filtered'] = test.original_text.apply(lambda x: ''.join(pat1.findall(x)).lower())"
   ]
  },
  {
   "cell_type": "markdown",
   "metadata": {},
   "source": [
    "### One - hot encoding and Word Embedding"
   ]
  },
  {
   "cell_type": "code",
   "execution_count": 51,
   "metadata": {},
   "outputs": [],
   "source": [
    "from keras.preprocessing.text import Tokenizer\n",
    "from keras.preprocessing.sequence import pad_sequences"
   ]
  },
  {
   "cell_type": "code",
   "execution_count": 52,
   "metadata": {},
   "outputs": [],
   "source": [
    "max_features = 10000\n",
    "maxlen = 300"
   ]
  },
  {
   "cell_type": "code",
   "execution_count": 53,
   "metadata": {},
   "outputs": [],
   "source": [
    "toknzr = Tokenizer(num_words=max_features)"
   ]
  },
  {
   "cell_type": "code",
   "execution_count": 54,
   "metadata": {},
   "outputs": [],
   "source": [
    "toknzr.fit_on_texts(train.filtered)"
   ]
  },
  {
   "cell_type": "code",
   "execution_count": 57,
   "metadata": {},
   "outputs": [],
   "source": [
    "sequences = toknzr.texts_to_sequences(train.filtered)"
   ]
  },
  {
   "cell_type": "code",
   "execution_count": 59,
   "metadata": {},
   "outputs": [],
   "source": [
    "train_data = pad_sequences(sequences, maxlen=maxlen)"
   ]
  },
  {
   "cell_type": "code",
   "execution_count": 61,
   "metadata": {},
   "outputs": [],
   "source": [
    "toknzr1 = Tokenizer(num_words=max_features)"
   ]
  },
  {
   "cell_type": "code",
   "execution_count": 62,
   "metadata": {},
   "outputs": [],
   "source": [
    "toknzr1.fit_on_texts(test.filtered)\n",
    "sequences1 = toknzr1.texts_to_sequences(test.filtered)"
   ]
  },
  {
   "cell_type": "code",
   "execution_count": 63,
   "metadata": {},
   "outputs": [],
   "source": [
    "test_data = pad_sequences(sequences1, maxlen=maxlen)"
   ]
  },
  {
   "cell_type": "code",
   "execution_count": 67,
   "metadata": {},
   "outputs": [
    {
     "data": {
      "text/plain": [
       "(1387, 300)"
      ]
     },
     "execution_count": 67,
     "metadata": {},
     "output_type": "execute_result"
    }
   ],
   "source": [
    "test_data.shape"
   ]
  },
  {
   "cell_type": "code",
   "execution_count": 66,
   "metadata": {},
   "outputs": [
    {
     "data": {
      "text/plain": [
       "(3235, 300)"
      ]
     },
     "execution_count": 66,
     "metadata": {},
     "output_type": "execute_result"
    }
   ],
   "source": [
    "train_data.shape"
   ]
  },
  {
   "cell_type": "code",
   "execution_count": 68,
   "metadata": {},
   "outputs": [],
   "source": [
    "train_label = train.sentiment_class"
   ]
  },
  {
   "cell_type": "code",
   "execution_count": 69,
   "metadata": {},
   "outputs": [
    {
     "data": {
      "text/plain": [
       "(3235,)"
      ]
     },
     "execution_count": 69,
     "metadata": {},
     "output_type": "execute_result"
    }
   ],
   "source": [
    "train_label.shape"
   ]
  },
  {
   "cell_type": "code",
   "execution_count": 72,
   "metadata": {},
   "outputs": [],
   "source": [
    "from sklearn.model_selection import train_test_split"
   ]
  },
  {
   "cell_type": "code",
   "execution_count": 97,
   "metadata": {},
   "outputs": [],
   "source": [
    "train_x, test_x, train_y, test_y = train_test_split(train_data, train_label, test_size=0.3, random_state=100)"
   ]
  },
  {
   "cell_type": "markdown",
   "metadata": {},
   "source": [
    "### SimpleRNN"
   ]
  },
  {
   "cell_type": "code",
   "execution_count": 86,
   "metadata": {},
   "outputs": [],
   "source": [
    "from keras import models, layers, optimizers"
   ]
  },
  {
   "cell_type": "code",
   "execution_count": 125,
   "metadata": {},
   "outputs": [],
   "source": [
    "model_rnn = models.Sequential()"
   ]
  },
  {
   "cell_type": "code",
   "execution_count": 115,
   "metadata": {},
   "outputs": [
    {
     "name": "stdout",
     "output_type": "stream",
     "text": [
      "Model: \"sequential_6\"\n",
      "_________________________________________________________________\n",
      "Layer (type)                 Output Shape              Param #   \n",
      "=================================================================\n",
      "embedding_7 (Embedding)      (None, 300, 128)          1280000   \n",
      "_________________________________________________________________\n",
      "simple_rnn_4 (SimpleRNN)     (None, 32)                5152      \n",
      "_________________________________________________________________\n",
      "dense_5 (Dense)              (None, 3)                 99        \n",
      "=================================================================\n",
      "Total params: 1,285,251\n",
      "Trainable params: 1,285,251\n",
      "Non-trainable params: 0\n",
      "_________________________________________________________________\n"
     ]
    }
   ],
   "source": [
    "model_rnn.add(layers.Embedding(max_features, 128, input_length=maxlen))\n",
    "model_rnn.add(layers.SimpleRNN(32, dropout=0.2, recurrent_dropout=0.2))\n",
    "model_rnn.add(layers.Dense(3, activation='softmax'))\n",
    "model_rnn.summary()"
   ]
  },
  {
   "cell_type": "code",
   "execution_count": 116,
   "metadata": {},
   "outputs": [],
   "source": [
    "model_rnn.compile(optimizer=optimizers.RMSprop(lr=2e-4), loss='sparse_categorical_crossentropy', metrics=['acc'])"
   ]
  },
  {
   "cell_type": "code",
   "execution_count": 117,
   "metadata": {},
   "outputs": [
    {
     "name": "stdout",
     "output_type": "stream",
     "text": [
      "Train on 1811 samples, validate on 453 samples\n",
      "Epoch 1/10\n",
      "1811/1811 [==============================] - 5s 3ms/step - loss: 1.1578 - acc: 0.3429 - val_loss: 1.0767 - val_acc: 0.4194\n",
      "Epoch 2/10\n",
      "1811/1811 [==============================] - 5s 3ms/step - loss: 1.1214 - acc: 0.3650 - val_loss: 1.0698 - val_acc: 0.4327\n",
      "Epoch 3/10\n",
      "1811/1811 [==============================] - 4s 2ms/step - loss: 1.1203 - acc: 0.3782 - val_loss: 1.0615 - val_acc: 0.4459\n",
      "Epoch 4/10\n",
      "1811/1811 [==============================] - 5s 3ms/step - loss: 1.1163 - acc: 0.3882 - val_loss: 1.0549 - val_acc: 0.4680\n",
      "Epoch 5/10\n",
      "1811/1811 [==============================] - 4s 2ms/step - loss: 1.1086 - acc: 0.3838 - val_loss: 1.0486 - val_acc: 0.4746\n",
      "Epoch 6/10\n",
      "1811/1811 [==============================] - 4s 2ms/step - loss: 1.0937 - acc: 0.4180 - val_loss: 1.0433 - val_acc: 0.4857\n",
      "Epoch 7/10\n",
      "1811/1811 [==============================] - 4s 2ms/step - loss: 1.0810 - acc: 0.4263 - val_loss: 1.0386 - val_acc: 0.4945\n",
      "Epoch 8/10\n",
      "1811/1811 [==============================] - 5s 3ms/step - loss: 1.0859 - acc: 0.4324 - val_loss: 1.0358 - val_acc: 0.4989\n",
      "Epoch 9/10\n",
      "1811/1811 [==============================] - 5s 3ms/step - loss: 1.0714 - acc: 0.4550 - val_loss: 1.0343 - val_acc: 0.5033\n",
      "Epoch 10/10\n",
      "1811/1811 [==============================] - 4s 2ms/step - loss: 1.0507 - acc: 0.4832 - val_loss: 1.0331 - val_acc: 0.5033\n"
     ]
    }
   ],
   "source": [
    "history_rnn = model_rnn.fit(train_x, train_y, epochs=10, batch_size=128, validation_split=0.2)"
   ]
  },
  {
   "cell_type": "code",
   "execution_count": 118,
   "metadata": {},
   "outputs": [],
   "source": [
    "loss = history_rnn.history['loss']\n",
    "val_loss = history_rnn.history['val_loss']\n",
    "\n",
    "acc = history_rnn.history['acc']\n",
    "val_acc = history_rnn.history['val_acc']"
   ]
  },
  {
   "cell_type": "code",
   "execution_count": 119,
   "metadata": {},
   "outputs": [
    {
     "data": {
      "image/png": "[encoded data removed]",
      "text/plain": [
       "<Figure size 432x288 with 1 Axes>"
      ]
     },
     "metadata": {
      "needs_background": "light"
     },
     "output_type": "display_data"
    }
   ],
   "source": [
    "plt.plot(range(1, len(acc)+1), acc, label='Training')\n",
    "plt.plot(range(1, len(acc)+1), val_acc, label='Validation')\n",
    "plt.legend()\n",
    "plt.show()"
   ]
  },
  {
   "cell_type": "code",
   "execution_count": 120,
   "metadata": {},
   "outputs": [
    {
     "data": {
      "image/png": "[encoded data removed]",
      "text/plain": [
       "<Figure size 432x288 with 1 Axes>"
      ]
     },
     "metadata": {
      "needs_background": "light"
     },
     "output_type": "display_data"
    }
   ],
   "source": [
    "plt.plot(range(1, len(acc)+1), loss, label='Training')\n",
    "plt.plot(range(1, len(acc)+1), val_loss, label='Validation')\n",
    "plt.legend()\n",
    "plt.show()"
   ]
  },
  {
   "cell_type": "code",
   "execution_count": 121,
   "metadata": {},
   "outputs": [
    {
     "name": "stdout",
     "output_type": "stream",
     "text": [
      "971/971 [==============================] - 1s 1ms/step\n"
     ]
    },
    {
     "data": {
      "text/plain": [
       "[1.0508447469324333, 0.4850669503211975]"
      ]
     },
     "execution_count": 121,
     "metadata": {},
     "output_type": "execute_result"
    }
   ],
   "source": [
    "model_rnn.evaluate(test_x, test_y)"
   ]
  },
  {
   "cell_type": "markdown",
   "metadata": {},
   "source": [
    "### LSTM"
   ]
  },
  {
   "cell_type": "code",
   "execution_count": 130,
   "metadata": {},
   "outputs": [],
   "source": [
    "model_lstm = models.Sequential()"
   ]
  },
  {
   "cell_type": "code",
   "execution_count": 131,
   "metadata": {},
   "outputs": [
    {
     "name": "stdout",
     "output_type": "stream",
     "text": [
      "Model: \"sequential_11\"\n",
      "_________________________________________________________________\n",
      "Layer (type)                 Output Shape              Param #   \n",
      "=================================================================\n",
      "embedding_10 (Embedding)     (None, 300, 128)          1280000   \n",
      "_________________________________________________________________\n",
      "lstm_4 (LSTM)                (None, 300, 32)           20608     \n",
      "_________________________________________________________________\n",
      "flatten_1 (Flatten)          (None, 9600)              0         \n",
      "_________________________________________________________________\n",
      "dense_8 (Dense)              (None, 3)                 28803     \n",
      "=================================================================\n",
      "Total params: 1,329,411\n",
      "Trainable params: 1,329,411\n",
      "Non-trainable params: 0\n",
      "_________________________________________________________________\n"
     ]
    }
   ],
   "source": [
    "model_lstm.add(layers.Embedding(max_features, 128, input_length=maxlen))\n",
    "model_lstm.add(layers.LSTM(32, dropout=0.2, recurrent_dropout=0.2, return_sequences=True))\n",
    "model_lstm.add(layers.Flatten())\n",
    "model_lstm.add(layers.Dense(3, activation='softmax'))\n",
    "model_lstm.summary()"
   ]
  },
  {
   "cell_type": "code",
   "execution_count": 132,
   "metadata": {},
   "outputs": [],
   "source": [
    "model_lstm.compile(optimizer=optimizers.RMSprop(lr=2e-4), loss='sparse_categorical_crossentropy', metrics=['acc'])"
   ]
  },
  {
   "cell_type": "code",
   "execution_count": 133,
   "metadata": {},
   "outputs": [
    {
     "name": "stdout",
     "output_type": "stream",
     "text": [
      "Train on 1811 samples, validate on 453 samples\n",
      "Epoch 1/10\n",
      "1811/1811 [==============================] - 24s 13ms/step - loss: 1.0256 - acc: 0.5251 - val_loss: 1.0361 - val_acc: 0.5077\n",
      "Epoch 2/10\n",
      "1811/1811 [==============================] - 23s 13ms/step - loss: 1.0165 - acc: 0.5329 - val_loss: 1.0352 - val_acc: 0.5077\n",
      "Epoch 3/10\n",
      "1811/1811 [==============================] - 23s 13ms/step - loss: 1.0161 - acc: 0.5329 - val_loss: 1.0355 - val_acc: 0.5077\n",
      "Epoch 4/10\n",
      "1811/1811 [==============================] - 21s 12ms/step - loss: 1.0080 - acc: 0.5329 - val_loss: 1.0368 - val_acc: 0.5077\n",
      "Epoch 5/10\n",
      "1811/1811 [==============================] - 21s 12ms/step - loss: 1.0011 - acc: 0.5329 - val_loss: 1.0420 - val_acc: 0.5077\n",
      "Epoch 6/10\n",
      "1811/1811 [==============================] - 31s 17ms/step - loss: 0.9842 - acc: 0.5334 - val_loss: 1.0407 - val_acc: 0.5077\n",
      "Epoch 7/10\n",
      "1811/1811 [==============================] - 20s 11ms/step - loss: 0.9620 - acc: 0.5367 - val_loss: 1.0426 - val_acc: 0.4989\n",
      "Epoch 8/10\n",
      "1811/1811 [==============================] - 19s 11ms/step - loss: 0.9200 - acc: 0.5588 - val_loss: 1.0566 - val_acc: 0.4746\n",
      "Epoch 9/10\n",
      "1811/1811 [==============================] - 19s 10ms/step - loss: 0.8756 - acc: 0.5930 - val_loss: 1.0818 - val_acc: 0.4702\n",
      "Epoch 10/10\n",
      "1811/1811 [==============================] - 19s 10ms/step - loss: 0.8341 - acc: 0.6345 - val_loss: 1.1154 - val_acc: 0.4658\n"
     ]
    }
   ],
   "source": [
    "history_lstm = model_lstm.fit(train_x, train_y, epochs=10, batch_size=32, validation_split=0.2)"
   ]
  },
  {
   "cell_type": "code",
   "execution_count": 134,
   "metadata": {},
   "outputs": [],
   "source": [
    "loss = history_lstm.history['loss']\n",
    "val_loss = history_lstm.history['val_loss']\n",
    "\n",
    "acc = history_lstm.history['acc']\n",
    "val_acc = history_lstm.history['val_acc']"
   ]
  },
  {
   "cell_type": "code",
   "execution_count": 135,
   "metadata": {},
   "outputs": [
    {
     "data": {
      "image/png": "[encoded data removed]",
      "text/plain": [
       "<Figure size 432x288 with 1 Axes>"
      ]
     },
     "metadata": {
      "needs_background": "light"
     },
     "output_type": "display_data"
    }
   ],
   "source": [
    "plt.plot(range(1, len(acc)+1), acc, label='Training')\n",
    "plt.plot(range(1, len(acc)+1), val_acc, label='Validation')\n",
    "plt.legend()\n",
    "plt.show()"
   ]
  },
  {
   "cell_type": "code",
   "execution_count": 136,
   "metadata": {},
   "outputs": [
    {
     "data": {
      "image/png": "[encoded data removed]",
      "text/plain": [
       "<Figure size 432x288 with 1 Axes>"
      ]
     },
     "metadata": {
      "needs_background": "light"
     },
     "output_type": "display_data"
    }
   ],
   "source": [
    "plt.plot(range(1, len(acc)+1), loss, label='Training')\n",
    "plt.plot(range(1, len(acc)+1), val_loss, label='Validation')\n",
    "plt.legend()\n",
    "plt.show()"
   ]
  },
  {
   "cell_type": "code",
   "execution_count": 137,
   "metadata": {},
   "outputs": [
    {
     "name": "stdout",
     "output_type": "stream",
     "text": [
      "971/971 [==============================] - 2s 2ms/step\n"
     ]
    },
    {
     "data": {
      "text/plain": [
       "[1.0835406960714244, 0.49536558985710144]"
      ]
     },
     "execution_count": 137,
     "metadata": {},
     "output_type": "execute_result"
    }
   ],
   "source": [
    "model_lstm.evaluate(test_x, test_y)"
   ]
  },
  {
   "cell_type": "markdown",
   "metadata": {},
   "source": [
    "### Reverse"
   ]
  },
  {
   "cell_type": "code",
   "execution_count": 142,
   "metadata": {},
   "outputs": [],
   "source": [
    "x_rev = [x[::-1] for x in sequences]"
   ]
  },
  {
   "cell_type": "code",
   "execution_count": 148,
   "metadata": {},
   "outputs": [],
   "source": [
    "x_rev = sequence.pad_sequences(x_rev, maxlen=maxlen)"
   ]
  },
  {
   "cell_type": "code",
   "execution_count": 150,
   "metadata": {},
   "outputs": [],
   "source": [
    "train_x1, test_x1, train_y1, test_y1 = train_test_split(x_rev, train_label, test_size=0.3, random_state=100)"
   ]
  },
  {
   "cell_type": "code",
   "execution_count": 151,
   "metadata": {},
   "outputs": [],
   "source": [
    "model_rev = models.Sequential()"
   ]
  },
  {
   "cell_type": "code",
   "execution_count": 153,
   "metadata": {},
   "outputs": [
    {
     "name": "stdout",
     "output_type": "stream",
     "text": [
      "Model: \"sequential_12\"\n",
      "_________________________________________________________________\n",
      "Layer (type)                 Output Shape              Param #   \n",
      "=================================================================\n",
      "embedding_11 (Embedding)     (None, 300, 128)          1280000   \n",
      "_________________________________________________________________\n",
      "gru_1 (GRU)                  (None, 32)                15456     \n",
      "_________________________________________________________________\n",
      "dense_9 (Dense)              (None, 3)                 99        \n",
      "=================================================================\n",
      "Total params: 1,295,555\n",
      "Trainable params: 1,295,555\n",
      "Non-trainable params: 0\n",
      "_________________________________________________________________\n"
     ]
    }
   ],
   "source": [
    "model_rev.add(layers.Embedding(max_features, 128, input_length=maxlen))\n",
    "model_rev.add(layers.GRU(32, dropout=0.2, recurrent_dropout=0.2))\n",
    "model_rev.add(layers.Dense(3, activation='softmax'))\n",
    "model_rev.summary()"
   ]
  },
  {
   "cell_type": "code",
   "execution_count": 154,
   "metadata": {},
   "outputs": [],
   "source": [
    "model_rev.compile(optimizer=optimizers.RMSprop(lr=2e-4), loss='sparse_categorical_crossentropy', metrics=['acc'])"
   ]
  },
  {
   "cell_type": "code",
   "execution_count": 155,
   "metadata": {},
   "outputs": [
    {
     "name": "stdout",
     "output_type": "stream",
     "text": [
      "Train on 1811 samples, validate on 453 samples\n",
      "Epoch 1/10\n",
      "1811/1811 [==============================] - 30s 17ms/step - loss: 1.0735 - acc: 0.5019 - val_loss: 1.0645 - val_acc: 0.5077\n",
      "Epoch 2/10\n",
      "1811/1811 [==============================] - 30s 16ms/step - loss: 1.0319 - acc: 0.5329 - val_loss: 1.0465 - val_acc: 0.5077\n",
      "Epoch 3/10\n",
      "1811/1811 [==============================] - 27s 15ms/step - loss: 1.0156 - acc: 0.5329 - val_loss: 1.0417 - val_acc: 0.5077\n",
      "Epoch 4/10\n",
      "1811/1811 [==============================] - 26s 15ms/step - loss: 1.0085 - acc: 0.5329 - val_loss: 1.0405 - val_acc: 0.5077\n",
      "Epoch 5/10\n",
      "1811/1811 [==============================] - 26s 15ms/step - loss: 1.0066 - acc: 0.5329 - val_loss: 1.0402 - val_acc: 0.5077\n",
      "Epoch 6/10\n",
      "1811/1811 [==============================] - 26s 15ms/step - loss: 0.9961 - acc: 0.5329 - val_loss: 1.0409 - val_acc: 0.5077\n",
      "Epoch 7/10\n",
      "1811/1811 [==============================] - 26s 15ms/step - loss: 1676178874310.1702 - acc: 0.5329 - val_loss: 1.0401 - val_acc: 0.5077\n",
      "Epoch 8/10\n",
      "1811/1811 [==============================] - 27s 15ms/step - loss: 193.3194 - acc: 0.5329 - val_loss: 1.0400 - val_acc: 0.5077\n",
      "Epoch 9/10\n",
      "1811/1811 [==============================] - 76s 42ms/step - loss: 174619025374.1732 - acc: 0.5329 - val_loss: 1.0407 - val_acc: 0.5077\n",
      "Epoch 10/10\n",
      "1811/1811 [==============================] - 34s 19ms/step - loss: 0.9761 - acc: 0.5329 - val_loss: 1.0407 - val_acc: 0.5077\n"
     ]
    }
   ],
   "source": [
    "history_rev = model_rev.fit(train_x1, train_y1, epochs = 10, batch_size=32, validation_split=0.2)"
   ]
  },
  {
   "cell_type": "code",
   "execution_count": 156,
   "metadata": {},
   "outputs": [],
   "source": [
    "loss = history_rev.history['loss']\n",
    "val_loss = history_rev.history['val_loss']\n",
    "\n",
    "acc = history_rev.history['acc']\n",
    "val_acc = history_rev.history['val_acc']"
   ]
  },
  {
   "cell_type": "code",
   "execution_count": 157,
   "metadata": {},
   "outputs": [
    {
     "data": {
      "image/png": "[encoded data removed]",
      "text/plain": [
       "<Figure size 432x288 with 1 Axes>"
      ]
     },
     "metadata": {
      "needs_background": "light"
     },
     "output_type": "display_data"
    }
   ],
   "source": [
    "plt.plot(range(1, len(acc)+1), acc, label='Training')\n",
    "plt.plot(range(1, len(acc)+1), val_acc, label='Validation')\n",
    "plt.legend()\n",
    "plt.show()"
   ]
  },
  {
   "cell_type": "code",
   "execution_count": 158,
   "metadata": {},
   "outputs": [
    {
     "data": {
      "image/png": "[encoded data removed]",
      "text/plain": [
       "<Figure size 432x288 with 1 Axes>"
      ]
     },
     "metadata": {
      "needs_background": "light"
     },
     "output_type": "display_data"
    }
   ],
   "source": [
    "plt.plot(range(1, len(acc)+1), loss, label='Training')\n",
    "plt.plot(range(1, len(acc)+1), val_loss, label='Validation')\n",
    "plt.legend()\n",
    "plt.show()"
   ]
  },
  {
   "cell_type": "code",
   "execution_count": 159,
   "metadata": {},
   "outputs": [
    {
     "name": "stdout",
     "output_type": "stream",
     "text": [
      "971/971 [==============================] - 2s 2ms/step\n"
     ]
    },
    {
     "data": {
      "text/plain": [
       "[1.035894248684452, 0.5190525054931641]"
      ]
     },
     "execution_count": 159,
     "metadata": {},
     "output_type": "execute_result"
    }
   ],
   "source": [
    "model_rev.evaluate(test_x1, test_y1)"
   ]
  },
  {
   "cell_type": "markdown",
   "metadata": {},
   "source": [
    "### Bidirectional"
   ]
  },
  {
   "cell_type": "code",
   "execution_count": 194,
   "metadata": {},
   "outputs": [],
   "source": [
    "model_bi = models.Sequential()"
   ]
  },
  {
   "cell_type": "code",
   "execution_count": 195,
   "metadata": {},
   "outputs": [
    {
     "name": "stdout",
     "output_type": "stream",
     "text": [
      "Model: \"sequential_24\"\n",
      "_________________________________________________________________\n",
      "Layer (type)                 Output Shape              Param #   \n",
      "=================================================================\n",
      "embedding_20 (Embedding)     (None, 300, 32)           320000    \n",
      "_________________________________________________________________\n",
      "bidirectional_8 (Bidirection (None, 300, 64)           16640     \n",
      "_________________________________________________________________\n",
      "lstm_16 (LSTM)               (None, 64)                33024     \n",
      "_________________________________________________________________\n",
      "dense_15 (Dense)             (None, 32)                2080      \n",
      "_________________________________________________________________\n",
      "dense_16 (Dense)             (None, 3)                 99        \n",
      "=================================================================\n",
      "Total params: 371,843\n",
      "Trainable params: 371,843\n",
      "Non-trainable params: 0\n",
      "_________________________________________________________________\n"
     ]
    }
   ],
   "source": [
    "model_bi.add(layers.Embedding(max_features, 32, input_length=maxlen))\n",
    "model_bi.add(layers.Bidirectional(layers.LSTM(32, return_sequences=True)))\n",
    "model_bi.add(layers.LSTM(64, activation='relu'))\n",
    "model_bi.add(layers.Dense(32, activation='relu'))\n",
    "model_bi.add(layers.Dense(3, activation='softmax'))\n",
    "model_bi.summary()"
   ]
  },
  {
   "cell_type": "code",
   "execution_count": 196,
   "metadata": {},
   "outputs": [],
   "source": [
    "model_bi.compile(optimizer=optimizers.RMSprop(lr=2e-4), loss='sparse_categorical_crossentropy', metrics=['acc'])"
   ]
  },
  {
   "cell_type": "code",
   "execution_count": 197,
   "metadata": {},
   "outputs": [
    {
     "name": "stdout",
     "output_type": "stream",
     "text": [
      "Train on 1811 samples, validate on 453 samples\n",
      "Epoch 1/20\n",
      "1811/1811 [==============================] - 50s 27ms/step - loss: 1059950003363393.2500 - acc: 0.5279 - val_loss: 1.0385 - val_acc: 0.5077\n",
      "Epoch 2/20\n",
      "1811/1811 [==============================] - 48s 26ms/step - loss: 1.0147 - acc: 0.5329 - val_loss: 1.0385 - val_acc: 0.5077\n",
      "Epoch 3/20\n",
      "1811/1811 [==============================] - 48s 27ms/step - loss: 1.0122 - acc: 0.5329 - val_loss: 1.0389 - val_acc: 0.5077\n",
      "Epoch 4/20\n",
      "1811/1811 [==============================] - 50s 28ms/step - loss: 1.0102 - acc: 0.5329 - val_loss: 1.0392 - val_acc: 0.5077\n",
      "Epoch 5/20\n",
      "1811/1811 [==============================] - 49s 27ms/step - loss: 1.0083 - acc: 0.5329 - val_loss: 1.0397 - val_acc: 0.5077\n",
      "Epoch 6/20\n",
      "1811/1811 [==============================] - 70s 39ms/step - loss: 1.0063 - acc: 0.5329 - val_loss: 1.0400 - val_acc: 0.5077\n",
      "Epoch 7/20\n",
      "1811/1811 [==============================] - 81s 44ms/step - loss: 1.0041 - acc: 0.5329 - val_loss: 1.0407 - val_acc: 0.5077\n",
      "Epoch 8/20\n",
      "1811/1811 [==============================] - 57s 32ms/step - loss: 1.0016 - acc: 0.5329 - val_loss: 1.0414 - val_acc: 0.5077\n",
      "Epoch 9/20\n",
      "1811/1811 [==============================] - 82s 45ms/step - loss: 0.9989 - acc: 0.5329 - val_loss: 1.0420 - val_acc: 0.5077\n",
      "Epoch 10/20\n",
      "1811/1811 [==============================] - 63s 35ms/step - loss: 0.9962 - acc: 0.5329 - val_loss: 1.0428 - val_acc: 0.5077\n",
      "Epoch 11/20\n",
      "1811/1811 [==============================] - 61s 33ms/step - loss: 0.9934 - acc: 0.5329 - val_loss: 1.0431 - val_acc: 0.5077\n",
      "Epoch 12/20\n",
      "1811/1811 [==============================] - 85s 47ms/step - loss: 0.9904 - acc: 0.5329 - val_loss: 1.0444 - val_acc: 0.5077\n",
      "Epoch 13/20\n",
      "1811/1811 [==============================] - 72s 40ms/step - loss: 0.9872 - acc: 0.5329 - val_loss: 1.0460 - val_acc: 0.5077\n",
      "Epoch 14/20\n",
      "1811/1811 [==============================] - 55s 30ms/step - loss: 0.9838 - acc: 0.5329 - val_loss: 1.0487 - val_acc: 0.5077\n",
      "Epoch 15/20\n",
      "1811/1811 [==============================] - 60s 33ms/step - loss: 0.9782 - acc: 0.5329 - val_loss: 1.0448 - val_acc: 0.5077\n",
      "Epoch 16/20\n",
      "1811/1811 [==============================] - 57s 32ms/step - loss: 0.9681 - acc: 0.5329 - val_loss: 1.0487 - val_acc: 0.5077\n",
      "Epoch 17/20\n",
      "1811/1811 [==============================] - 59s 32ms/step - loss: 148369879436.7289 - acc: 0.5329 - val_loss: 1.0524 - val_acc: 0.5077\n",
      "Epoch 18/20\n",
      "1811/1811 [==============================] - 54s 30ms/step - loss: 0.9375 - acc: 0.5329 - val_loss: 1.0534 - val_acc: 0.5077\n",
      "Epoch 19/20\n",
      "1811/1811 [==============================] - 59s 33ms/step - loss: 0.9312 - acc: 0.5329 - val_loss: 1.0547 - val_acc: 0.5077\n",
      "Epoch 20/20\n",
      "1811/1811 [==============================] - 58s 32ms/step - loss: 0.9246 - acc: 0.5329 - val_loss: 1.0562 - val_acc: 0.5077\n"
     ]
    }
   ],
   "source": [
    "history_bi = model_bi.fit(train_x, train_y, epochs=20, batch_size=32, validation_split=0.2)"
   ]
  },
  {
   "cell_type": "code",
   "execution_count": 168,
   "metadata": {},
   "outputs": [],
   "source": [
    "loss = history_bi.history['loss']\n",
    "val_loss = history_bi.history['val_loss']\n",
    "\n",
    "acc = history_bi.history['acc']\n",
    "val_acc = history_bi.history['val_acc']"
   ]
  },
  {
   "cell_type": "code",
   "execution_count": 169,
   "metadata": {},
   "outputs": [
    {
     "data": {
      "image/png": "[encoded data removed]",
      "text/plain": [
       "<Figure size 432x288 with 1 Axes>"
      ]
     },
     "metadata": {
      "needs_background": "light"
     },
     "output_type": "display_data"
    }
   ],
   "source": [
    "plt.plot(range(1, len(acc)+1), acc, label='Training')\n",
    "plt.plot(range(1, len(acc)+1), val_acc, label='Validation')\n",
    "plt.legend()\n",
    "plt.show()"
   ]
  },
  {
   "cell_type": "code",
   "execution_count": 170,
   "metadata": {},
   "outputs": [
    {
     "data": {
      "image/png": "[encoded data removed]",
      "text/plain": [
       "<Figure size 432x288 with 1 Axes>"
      ]
     },
     "metadata": {
      "needs_background": "light"
     },
     "output_type": "display_data"
    }
   ],
   "source": [
    "plt.plot(range(1, len(acc)+1), loss, label='Training')\n",
    "plt.plot(range(1, len(acc)+1), val_loss, label='Validation')\n",
    "plt.legend()\n",
    "plt.show()"
   ]
  },
  {
   "cell_type": "markdown",
   "metadata": {},
   "source": [
    "### Conv1D"
   ]
  },
  {
   "cell_type": "code",
   "execution_count": 175,
   "metadata": {},
   "outputs": [],
   "source": [
    "model_conv = models.Sequential()"
   ]
  },
  {
   "cell_type": "code",
   "execution_count": 176,
   "metadata": {},
   "outputs": [
    {
     "name": "stdout",
     "output_type": "stream",
     "text": [
      "Model: \"sequential_18\"\n",
      "_________________________________________________________________\n",
      "Layer (type)                 Output Shape              Param #   \n",
      "=================================================================\n",
      "embedding_14 (Embedding)     (None, 300, 128)          1280000   \n",
      "_________________________________________________________________\n",
      "conv1d_3 (Conv1D)            (None, 296, 32)           20512     \n",
      "_________________________________________________________________\n",
      "max_pooling1d_2 (MaxPooling1 (None, 59, 32)            0         \n",
      "_________________________________________________________________\n",
      "conv1d_4 (Conv1D)            (None, 55, 32)            5152      \n",
      "_________________________________________________________________\n",
      "global_max_pooling1d_2 (Glob (None, 32)                0         \n",
      "_________________________________________________________________\n",
      "dense_12 (Dense)             (None, 3)                 99        \n",
      "=================================================================\n",
      "Total params: 1,305,763\n",
      "Trainable params: 1,305,763\n",
      "Non-trainable params: 0\n",
      "_________________________________________________________________\n"
     ]
    }
   ],
   "source": [
    "model_conv.add(layers.Embedding(max_features, 128, input_length=maxlen))\n",
    "model_conv.add(layers.Conv1D(32, 5, activation='relu'))\n",
    "model_conv.add(layers.MaxPooling1D(5))\n",
    "model_conv.add(layers.Conv1D(32, 5, activation='relu'))\n",
    "model_conv.add(layers.GlobalMaxPooling1D())\n",
    "model_conv.add(layers.Dense(3, activation='softmax'))\n",
    "model_conv.summary()"
   ]
  },
  {
   "cell_type": "code",
   "execution_count": 177,
   "metadata": {},
   "outputs": [],
   "source": [
    "model_conv.compile(optimizer=optimizers.RMSprop(lr=2e-4), loss='sparse_categorical_crossentropy', metrics=['acc'])"
   ]
  },
  {
   "cell_type": "code",
   "execution_count": 178,
   "metadata": {},
   "outputs": [
    {
     "name": "stdout",
     "output_type": "stream",
     "text": [
      "Train on 1811 samples, validate on 453 samples\n",
      "Epoch 1/20\n",
      "1811/1811 [==============================] - 4s 2ms/step - loss: 1.0527 - acc: 0.5064 - val_loss: 1.0346 - val_acc: 0.5077\n",
      "Epoch 2/20\n",
      "1811/1811 [==============================] - 4s 2ms/step - loss: 1.0118 - acc: 0.5329 - val_loss: 1.0348 - val_acc: 0.5077\n",
      "Epoch 3/20\n",
      "1811/1811 [==============================] - 3s 2ms/step - loss: 1.0036 - acc: 0.5329 - val_loss: 1.0349 - val_acc: 0.5077\n",
      "Epoch 4/20\n",
      "1811/1811 [==============================] - 4s 2ms/step - loss: 0.9957 - acc: 0.5329 - val_loss: 1.0345 - val_acc: 0.5077\n",
      "Epoch 5/20\n",
      "1811/1811 [==============================] - 4s 2ms/step - loss: 0.9873 - acc: 0.5329 - val_loss: 1.0359 - val_acc: 0.5077\n",
      "Epoch 6/20\n",
      "1811/1811 [==============================] - 4s 2ms/step - loss: 0.9773 - acc: 0.5329 - val_loss: 1.0381 - val_acc: 0.5077\n",
      "Epoch 7/20\n",
      "1811/1811 [==============================] - 4s 2ms/step - loss: 0.9662 - acc: 0.5329 - val_loss: 1.0378 - val_acc: 0.5077\n",
      "Epoch 8/20\n",
      "1811/1811 [==============================] - 4s 2ms/step - loss: 0.9534 - acc: 0.5329 - val_loss: 1.0387 - val_acc: 0.5077\n",
      "Epoch 9/20\n",
      "1811/1811 [==============================] - 4s 2ms/step - loss: 0.9387 - acc: 0.5329 - val_loss: 1.0388 - val_acc: 0.5077\n",
      "Epoch 10/20\n",
      "1811/1811 [==============================] - 4s 2ms/step - loss: 0.9223 - acc: 0.5329 - val_loss: 1.0418 - val_acc: 0.5077\n",
      "Epoch 11/20\n",
      "1811/1811 [==============================] - 4s 2ms/step - loss: 0.9021 - acc: 0.5340 - val_loss: 1.0466 - val_acc: 0.5077\n",
      "Epoch 12/20\n",
      "1811/1811 [==============================] - 4s 2ms/step - loss: 0.8816 - acc: 0.5334 - val_loss: 1.0451 - val_acc: 0.5077\n",
      "Epoch 13/20\n",
      "1811/1811 [==============================] - 4s 2ms/step - loss: 0.8561 - acc: 0.5428 - val_loss: 1.0471 - val_acc: 0.5077\n",
      "Epoch 14/20\n",
      "1811/1811 [==============================] - 4s 2ms/step - loss: 0.8268 - acc: 0.5704 - val_loss: 1.0507 - val_acc: 0.5077\n",
      "Epoch 15/20\n",
      "1811/1811 [==============================] - 5s 3ms/step - loss: 0.7943 - acc: 0.6052 - val_loss: 1.0524 - val_acc: 0.5055\n",
      "Epoch 16/20\n",
      "1811/1811 [==============================] - 4s 2ms/step - loss: 0.7579 - acc: 0.6538 - val_loss: 1.0574 - val_acc: 0.5055\n",
      "Epoch 17/20\n",
      "1811/1811 [==============================] - 3s 2ms/step - loss: 0.7172 - acc: 0.7013 - val_loss: 1.0669 - val_acc: 0.5055\n",
      "Epoch 18/20\n",
      "1811/1811 [==============================] - 4s 2ms/step - loss: 0.6734 - acc: 0.7361 - val_loss: 1.0715 - val_acc: 0.5011\n",
      "Epoch 19/20\n",
      "1811/1811 [==============================] - 4s 2ms/step - loss: 0.6260 - acc: 0.8045 - val_loss: 1.0819 - val_acc: 0.4790\n",
      "Epoch 20/20\n",
      "1811/1811 [==============================] - 3s 2ms/step - loss: 0.5765 - acc: 0.8470 - val_loss: 1.0969 - val_acc: 0.4989\n"
     ]
    }
   ],
   "source": [
    "history_conv = model_conv.fit(train_x, train_y, epochs=20, batch_size=32, validation_split=0.2)"
   ]
  },
  {
   "cell_type": "code",
   "execution_count": 179,
   "metadata": {},
   "outputs": [],
   "source": [
    "loss = history_conv.history['loss']\n",
    "val_loss = history_conv.history['val_loss']\n",
    "\n",
    "acc = history_conv.history['acc']\n",
    "val_acc = history_conv.history['val_acc']"
   ]
  },
  {
   "cell_type": "code",
   "execution_count": 180,
   "metadata": {},
   "outputs": [
    {
     "data": {
      "image/png": "[encoded data removed]",
      "text/plain": [
       "<Figure size 432x288 with 1 Axes>"
      ]
     },
     "metadata": {
      "needs_background": "light"
     },
     "output_type": "display_data"
    }
   ],
   "source": [
    "plt.plot(range(1, len(acc)+1), acc, label='Training')\n",
    "plt.plot(range(1, len(acc)+1), val_acc, label='Validation')\n",
    "plt.legend()\n",
    "plt.show()"
   ]
  },
  {
   "cell_type": "code",
   "execution_count": 181,
   "metadata": {},
   "outputs": [
    {
     "data": {
      "image/png": "[encoded data removed]",
      "text/plain": [
       "<Figure size 432x288 with 1 Axes>"
      ]
     },
     "metadata": {
      "needs_background": "light"
     },
     "output_type": "display_data"
    }
   ],
   "source": [
    "plt.plot(range(1, len(acc)+1), loss, label='Training')\n",
    "plt.plot(range(1, len(acc)+1), val_loss, label='Validation')\n",
    "plt.legend()\n",
    "plt.show()"
   ]
  },
  {
   "cell_type": "code",
   "execution_count": 200,
   "metadata": {},
   "outputs": [],
   "source": [
    "from sklearn.metrics import SCORERS, make_scorer"
   ]
  },
  {
   "cell_type": "code",
   "execution_count": 203,
   "metadata": {},
   "outputs": [
    {
     "data": {
      "text/plain": [
       "dict_keys(['explained_variance', 'r2', 'max_error', 'neg_median_absolute_error', 'neg_mean_absolute_error', 'neg_mean_squared_error', 'neg_mean_squared_log_error', 'accuracy', 'roc_auc', 'balanced_accuracy', 'average_precision', 'neg_log_loss', 'brier_score_loss', 'adjusted_rand_score', 'homogeneity_score', 'completeness_score', 'v_measure_score', 'mutual_info_score', 'adjusted_mutual_info_score', 'normalized_mutual_info_score', 'fowlkes_mallows_score', 'precision', 'precision_macro', 'precision_micro', 'precision_samples', 'precision_weighted', 'recall', 'recall_macro', 'recall_micro', 'recall_samples', 'recall_weighted', 'f1', 'f1_macro', 'f1_micro', 'f1_samples', 'f1_weighted', 'jaccard', 'jaccard_macro', 'jaccard_micro', 'jaccard_samples', 'jaccard_weighted'])"
      ]
     },
     "execution_count": 203,
     "metadata": {},
     "output_type": "execute_result"
    }
   ],
   "source": [
    "SCORERS.keys()"
   ]
  },
  {
   "cell_type": "code",
   "execution_count": null,
   "metadata": {},
   "outputs": [],
   "source": []
  }
 ],
 "metadata": {
  "kernelspec": {
   "display_name": "Python 3",
   "language": "python",
   "name": "python3"
  },
  "language_info": {
   "codemirror_mode": {
    "name": "ipython",
    "version": 3
   },
   "file_extension": ".py",
   "mimetype": "text/x-python",
   "name": "python",
   "nbconvert_exporter": "python",
   "pygments_lexer": "ipython3",
   "version": "3.7.4"
  }
 },
 "nbformat": 4,
 "nbformat_minor": 2
}
