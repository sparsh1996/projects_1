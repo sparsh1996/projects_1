{
 "cells": [
  {
   "cell_type": "code",
   "execution_count": 4,
   "metadata": {},
   "outputs": [],
   "source": [
    "fish = pd.read_csv('/Users/skylark/Desktop/Misc/datasets/Fish.csv')"
   ]
  },
  {
   "cell_type": "code",
   "execution_count": 2,
   "metadata": {},
   "outputs": [],
   "source": [
    "import pandas as pd\n",
    "import numpy as np\n",
    "import matplotlib.pyplot as plt\n",
    "import seaborn as sn\n",
    "%matplotlib inline"
   ]
  },
  {
   "cell_type": "code",
   "execution_count": 5,
   "metadata": {},
   "outputs": [
    {
     "data": {
      "text/html": [
       "<div>\n",
       "<style scoped>\n",
       "    .dataframe tbody tr th:only-of-type {\n",
       "        vertical-align: middle;\n",
       "    }\n",
       "\n",
       "    .dataframe tbody tr th {\n",
       "        vertical-align: top;\n",
       "    }\n",
       "\n",
       "    .dataframe thead th {\n",
       "        text-align: right;\n",
       "    }\n",
       "</style>\n",
       "<table border=\"1\" class=\"dataframe\">\n",
       "  <thead>\n",
       "    <tr style=\"text-align: right;\">\n",
       "      <th></th>\n",
       "      <th>Species</th>\n",
       "      <th>Weight</th>\n",
       "      <th>Length1</th>\n",
       "      <th>Length2</th>\n",
       "      <th>Length3</th>\n",
       "      <th>Height</th>\n",
       "      <th>Width</th>\n",
       "    </tr>\n",
       "  </thead>\n",
       "  <tbody>\n",
       "    <tr>\n",
       "      <td>0</td>\n",
       "      <td>Bream</td>\n",
       "      <td>242.0</td>\n",
       "      <td>23.2</td>\n",
       "      <td>25.4</td>\n",
       "      <td>30.0</td>\n",
       "      <td>11.5200</td>\n",
       "      <td>4.0200</td>\n",
       "    </tr>\n",
       "    <tr>\n",
       "      <td>1</td>\n",
       "      <td>Bream</td>\n",
       "      <td>290.0</td>\n",
       "      <td>24.0</td>\n",
       "      <td>26.3</td>\n",
       "      <td>31.2</td>\n",
       "      <td>12.4800</td>\n",
       "      <td>4.3056</td>\n",
       "    </tr>\n",
       "    <tr>\n",
       "      <td>2</td>\n",
       "      <td>Bream</td>\n",
       "      <td>340.0</td>\n",
       "      <td>23.9</td>\n",
       "      <td>26.5</td>\n",
       "      <td>31.1</td>\n",
       "      <td>12.3778</td>\n",
       "      <td>4.6961</td>\n",
       "    </tr>\n",
       "    <tr>\n",
       "      <td>3</td>\n",
       "      <td>Bream</td>\n",
       "      <td>363.0</td>\n",
       "      <td>26.3</td>\n",
       "      <td>29.0</td>\n",
       "      <td>33.5</td>\n",
       "      <td>12.7300</td>\n",
       "      <td>4.4555</td>\n",
       "    </tr>\n",
       "    <tr>\n",
       "      <td>4</td>\n",
       "      <td>Bream</td>\n",
       "      <td>430.0</td>\n",
       "      <td>26.5</td>\n",
       "      <td>29.0</td>\n",
       "      <td>34.0</td>\n",
       "      <td>12.4440</td>\n",
       "      <td>5.1340</td>\n",
       "    </tr>\n",
       "  </tbody>\n",
       "</table>\n",
       "</div>"
      ],
      "text/plain": [
       "  Species  Weight  Length1  Length2  Length3   Height   Width\n",
       "0   Bream   242.0     23.2     25.4     30.0  11.5200  4.0200\n",
       "1   Bream   290.0     24.0     26.3     31.2  12.4800  4.3056\n",
       "2   Bream   340.0     23.9     26.5     31.1  12.3778  4.6961\n",
       "3   Bream   363.0     26.3     29.0     33.5  12.7300  4.4555\n",
       "4   Bream   430.0     26.5     29.0     34.0  12.4440  5.1340"
      ]
     },
     "execution_count": 5,
     "metadata": {},
     "output_type": "execute_result"
    }
   ],
   "source": [
    "fish.head()"
   ]
  },
  {
   "cell_type": "code",
   "execution_count": 6,
   "metadata": {},
   "outputs": [
    {
     "data": {
      "text/html": [
       "<div>\n",
       "<style scoped>\n",
       "    .dataframe tbody tr th:only-of-type {\n",
       "        vertical-align: middle;\n",
       "    }\n",
       "\n",
       "    .dataframe tbody tr th {\n",
       "        vertical-align: top;\n",
       "    }\n",
       "\n",
       "    .dataframe thead th {\n",
       "        text-align: right;\n",
       "    }\n",
       "</style>\n",
       "<table border=\"1\" class=\"dataframe\">\n",
       "  <thead>\n",
       "    <tr style=\"text-align: right;\">\n",
       "      <th></th>\n",
       "      <th>Weight</th>\n",
       "      <th>Length1</th>\n",
       "      <th>Length2</th>\n",
       "      <th>Length3</th>\n",
       "      <th>Height</th>\n",
       "      <th>Width</th>\n",
       "    </tr>\n",
       "  </thead>\n",
       "  <tbody>\n",
       "    <tr>\n",
       "      <td>count</td>\n",
       "      <td>159.000000</td>\n",
       "      <td>159.000000</td>\n",
       "      <td>159.000000</td>\n",
       "      <td>159.000000</td>\n",
       "      <td>159.000000</td>\n",
       "      <td>159.000000</td>\n",
       "    </tr>\n",
       "    <tr>\n",
       "      <td>mean</td>\n",
       "      <td>398.326415</td>\n",
       "      <td>26.247170</td>\n",
       "      <td>28.415723</td>\n",
       "      <td>31.227044</td>\n",
       "      <td>8.970994</td>\n",
       "      <td>4.417486</td>\n",
       "    </tr>\n",
       "    <tr>\n",
       "      <td>std</td>\n",
       "      <td>357.978317</td>\n",
       "      <td>9.996441</td>\n",
       "      <td>10.716328</td>\n",
       "      <td>11.610246</td>\n",
       "      <td>4.286208</td>\n",
       "      <td>1.685804</td>\n",
       "    </tr>\n",
       "    <tr>\n",
       "      <td>min</td>\n",
       "      <td>0.000000</td>\n",
       "      <td>7.500000</td>\n",
       "      <td>8.400000</td>\n",
       "      <td>8.800000</td>\n",
       "      <td>1.728400</td>\n",
       "      <td>1.047600</td>\n",
       "    </tr>\n",
       "    <tr>\n",
       "      <td>25%</td>\n",
       "      <td>120.000000</td>\n",
       "      <td>19.050000</td>\n",
       "      <td>21.000000</td>\n",
       "      <td>23.150000</td>\n",
       "      <td>5.944800</td>\n",
       "      <td>3.385650</td>\n",
       "    </tr>\n",
       "    <tr>\n",
       "      <td>50%</td>\n",
       "      <td>273.000000</td>\n",
       "      <td>25.200000</td>\n",
       "      <td>27.300000</td>\n",
       "      <td>29.400000</td>\n",
       "      <td>7.786000</td>\n",
       "      <td>4.248500</td>\n",
       "    </tr>\n",
       "    <tr>\n",
       "      <td>75%</td>\n",
       "      <td>650.000000</td>\n",
       "      <td>32.700000</td>\n",
       "      <td>35.500000</td>\n",
       "      <td>39.650000</td>\n",
       "      <td>12.365900</td>\n",
       "      <td>5.584500</td>\n",
       "    </tr>\n",
       "    <tr>\n",
       "      <td>max</td>\n",
       "      <td>1650.000000</td>\n",
       "      <td>59.000000</td>\n",
       "      <td>63.400000</td>\n",
       "      <td>68.000000</td>\n",
       "      <td>18.957000</td>\n",
       "      <td>8.142000</td>\n",
       "    </tr>\n",
       "  </tbody>\n",
       "</table>\n",
       "</div>"
      ],
      "text/plain": [
       "            Weight     Length1     Length2     Length3      Height       Width\n",
       "count   159.000000  159.000000  159.000000  159.000000  159.000000  159.000000\n",
       "mean    398.326415   26.247170   28.415723   31.227044    8.970994    4.417486\n",
       "std     357.978317    9.996441   10.716328   11.610246    4.286208    1.685804\n",
       "min       0.000000    7.500000    8.400000    8.800000    1.728400    1.047600\n",
       "25%     120.000000   19.050000   21.000000   23.150000    5.944800    3.385650\n",
       "50%     273.000000   25.200000   27.300000   29.400000    7.786000    4.248500\n",
       "75%     650.000000   32.700000   35.500000   39.650000   12.365900    5.584500\n",
       "max    1650.000000   59.000000   63.400000   68.000000   18.957000    8.142000"
      ]
     },
     "execution_count": 6,
     "metadata": {},
     "output_type": "execute_result"
    }
   ],
   "source": [
    "fish.describe()"
   ]
  },
  {
   "cell_type": "code",
   "execution_count": 7,
   "metadata": {},
   "outputs": [
    {
     "data": {
      "text/plain": [
       "Species    0\n",
       "Weight     0\n",
       "Length1    0\n",
       "Length2    0\n",
       "Length3    0\n",
       "Height     0\n",
       "Width      0\n",
       "dtype: int64"
      ]
     },
     "execution_count": 7,
     "metadata": {},
     "output_type": "execute_result"
    }
   ],
   "source": [
    "fish.isnull().sum()"
   ]
  },
  {
   "cell_type": "code",
   "execution_count": 12,
   "metadata": {},
   "outputs": [
    {
     "data": {
      "text/html": [
       "<div>\n",
       "<style scoped>\n",
       "    .dataframe tbody tr th:only-of-type {\n",
       "        vertical-align: middle;\n",
       "    }\n",
       "\n",
       "    .dataframe tbody tr th {\n",
       "        vertical-align: top;\n",
       "    }\n",
       "\n",
       "    .dataframe thead th {\n",
       "        text-align: right;\n",
       "    }\n",
       "</style>\n",
       "<table border=\"1\" class=\"dataframe\">\n",
       "  <thead>\n",
       "    <tr style=\"text-align: right;\">\n",
       "      <th></th>\n",
       "      <th>Weight</th>\n",
       "      <th>Length1</th>\n",
       "      <th>Length2</th>\n",
       "      <th>Length3</th>\n",
       "      <th>Height</th>\n",
       "    </tr>\n",
       "  </thead>\n",
       "  <tbody>\n",
       "    <tr>\n",
       "      <td>Weight</td>\n",
       "      <td>1.000000</td>\n",
       "      <td>0.915712</td>\n",
       "      <td>0.918618</td>\n",
       "      <td>0.923044</td>\n",
       "      <td>0.724345</td>\n",
       "    </tr>\n",
       "    <tr>\n",
       "      <td>Length1</td>\n",
       "      <td>0.915712</td>\n",
       "      <td>1.000000</td>\n",
       "      <td>0.999517</td>\n",
       "      <td>0.992031</td>\n",
       "      <td>0.625378</td>\n",
       "    </tr>\n",
       "    <tr>\n",
       "      <td>Length2</td>\n",
       "      <td>0.918618</td>\n",
       "      <td>0.999517</td>\n",
       "      <td>1.000000</td>\n",
       "      <td>0.994103</td>\n",
       "      <td>0.640441</td>\n",
       "    </tr>\n",
       "    <tr>\n",
       "      <td>Length3</td>\n",
       "      <td>0.923044</td>\n",
       "      <td>0.992031</td>\n",
       "      <td>0.994103</td>\n",
       "      <td>1.000000</td>\n",
       "      <td>0.703409</td>\n",
       "    </tr>\n",
       "    <tr>\n",
       "      <td>Height</td>\n",
       "      <td>0.724345</td>\n",
       "      <td>0.625378</td>\n",
       "      <td>0.640441</td>\n",
       "      <td>0.703409</td>\n",
       "      <td>1.000000</td>\n",
       "    </tr>\n",
       "  </tbody>\n",
       "</table>\n",
       "</div>"
      ],
      "text/plain": [
       "           Weight   Length1   Length2   Length3    Height\n",
       "Weight   1.000000  0.915712  0.918618  0.923044  0.724345\n",
       "Length1  0.915712  1.000000  0.999517  0.992031  0.625378\n",
       "Length2  0.918618  0.999517  1.000000  0.994103  0.640441\n",
       "Length3  0.923044  0.992031  0.994103  1.000000  0.703409\n",
       "Height   0.724345  0.625378  0.640441  0.703409  1.000000"
      ]
     },
     "execution_count": 12,
     "metadata": {},
     "output_type": "execute_result"
    }
   ],
   "source": [
    "fish.iloc[:,:-1].corr()"
   ]
  },
  {
   "cell_type": "code",
   "execution_count": 13,
   "metadata": {},
   "outputs": [
    {
     "data": {
      "text/html": [
       "<div>\n",
       "<style scoped>\n",
       "    .dataframe tbody tr th:only-of-type {\n",
       "        vertical-align: middle;\n",
       "    }\n",
       "\n",
       "    .dataframe tbody tr th {\n",
       "        vertical-align: top;\n",
       "    }\n",
       "\n",
       "    .dataframe thead th {\n",
       "        text-align: right;\n",
       "    }\n",
       "</style>\n",
       "<table border=\"1\" class=\"dataframe\">\n",
       "  <thead>\n",
       "    <tr style=\"text-align: right;\">\n",
       "      <th></th>\n",
       "      <th>Species</th>\n",
       "      <th>Weight</th>\n",
       "      <th>Length1</th>\n",
       "      <th>Length2</th>\n",
       "      <th>Length3</th>\n",
       "      <th>Height</th>\n",
       "    </tr>\n",
       "  </thead>\n",
       "  <tbody>\n",
       "    <tr>\n",
       "      <td>67</td>\n",
       "      <td>Parkki</td>\n",
       "      <td>170.0</td>\n",
       "      <td>19.0</td>\n",
       "      <td>20.7</td>\n",
       "      <td>23.2</td>\n",
       "      <td>9.3960</td>\n",
       "    </tr>\n",
       "    <tr>\n",
       "      <td>7</td>\n",
       "      <td>Bream</td>\n",
       "      <td>390.0</td>\n",
       "      <td>27.6</td>\n",
       "      <td>30.0</td>\n",
       "      <td>35.0</td>\n",
       "      <td>12.6700</td>\n",
       "    </tr>\n",
       "    <tr>\n",
       "      <td>138</td>\n",
       "      <td>Pike</td>\n",
       "      <td>567.0</td>\n",
       "      <td>43.2</td>\n",
       "      <td>46.0</td>\n",
       "      <td>48.7</td>\n",
       "      <td>7.7920</td>\n",
       "    </tr>\n",
       "    <tr>\n",
       "      <td>100</td>\n",
       "      <td>Perch</td>\n",
       "      <td>197.0</td>\n",
       "      <td>23.5</td>\n",
       "      <td>25.6</td>\n",
       "      <td>27.0</td>\n",
       "      <td>6.5610</td>\n",
       "    </tr>\n",
       "    <tr>\n",
       "      <td>19</td>\n",
       "      <td>Bream</td>\n",
       "      <td>650.0</td>\n",
       "      <td>31.0</td>\n",
       "      <td>33.5</td>\n",
       "      <td>38.7</td>\n",
       "      <td>14.4738</td>\n",
       "    </tr>\n",
       "  </tbody>\n",
       "</table>\n",
       "</div>"
      ],
      "text/plain": [
       "    Species  Weight  Length1  Length2  Length3   Height\n",
       "67   Parkki   170.0     19.0     20.7     23.2   9.3960\n",
       "7     Bream   390.0     27.6     30.0     35.0  12.6700\n",
       "138    Pike   567.0     43.2     46.0     48.7   7.7920\n",
       "100   Perch   197.0     23.5     25.6     27.0   6.5610\n",
       "19    Bream   650.0     31.0     33.5     38.7  14.4738"
      ]
     },
     "execution_count": 13,
     "metadata": {},
     "output_type": "execute_result"
    }
   ],
   "source": [
    "x = fish.iloc[:,:-1]\n",
    "x.sample(5)"
   ]
  },
  {
   "cell_type": "code",
   "execution_count": 18,
   "metadata": {},
   "outputs": [
    {
     "data": {
      "text/html": [
       "<div>\n",
       "<style scoped>\n",
       "    .dataframe tbody tr th:only-of-type {\n",
       "        vertical-align: middle;\n",
       "    }\n",
       "\n",
       "    .dataframe tbody tr th {\n",
       "        vertical-align: top;\n",
       "    }\n",
       "\n",
       "    .dataframe thead th {\n",
       "        text-align: right;\n",
       "    }\n",
       "</style>\n",
       "<table border=\"1\" class=\"dataframe\">\n",
       "  <thead>\n",
       "    <tr style=\"text-align: right;\">\n",
       "      <th></th>\n",
       "      <th>Width</th>\n",
       "    </tr>\n",
       "  </thead>\n",
       "  <tbody>\n",
       "    <tr>\n",
       "      <td>0</td>\n",
       "      <td>4.0200</td>\n",
       "    </tr>\n",
       "    <tr>\n",
       "      <td>1</td>\n",
       "      <td>4.3056</td>\n",
       "    </tr>\n",
       "    <tr>\n",
       "      <td>2</td>\n",
       "      <td>4.6961</td>\n",
       "    </tr>\n",
       "    <tr>\n",
       "      <td>3</td>\n",
       "      <td>4.4555</td>\n",
       "    </tr>\n",
       "    <tr>\n",
       "      <td>4</td>\n",
       "      <td>5.1340</td>\n",
       "    </tr>\n",
       "  </tbody>\n",
       "</table>\n",
       "</div>"
      ],
      "text/plain": [
       "    Width\n",
       "0  4.0200\n",
       "1  4.3056\n",
       "2  4.6961\n",
       "3  4.4555\n",
       "4  5.1340"
      ]
     },
     "execution_count": 18,
     "metadata": {},
     "output_type": "execute_result"
    }
   ],
   "source": [
    "y = fish.iloc[:,6:7]\n",
    "y.head()"
   ]
  },
  {
   "cell_type": "code",
   "execution_count": 19,
   "metadata": {},
   "outputs": [],
   "source": [
    "import statsmodels.api as sm"
   ]
  },
  {
   "cell_type": "code",
   "execution_count": 21,
   "metadata": {},
   "outputs": [
    {
     "data": {
      "text/html": [
       "<div>\n",
       "<style scoped>\n",
       "    .dataframe tbody tr th:only-of-type {\n",
       "        vertical-align: middle;\n",
       "    }\n",
       "\n",
       "    .dataframe tbody tr th {\n",
       "        vertical-align: top;\n",
       "    }\n",
       "\n",
       "    .dataframe thead th {\n",
       "        text-align: right;\n",
       "    }\n",
       "</style>\n",
       "<table border=\"1\" class=\"dataframe\">\n",
       "  <thead>\n",
       "    <tr style=\"text-align: right;\">\n",
       "      <th></th>\n",
       "      <th>const</th>\n",
       "      <th>Species</th>\n",
       "      <th>Weight</th>\n",
       "      <th>Length1</th>\n",
       "      <th>Length2</th>\n",
       "      <th>Length3</th>\n",
       "      <th>Height</th>\n",
       "    </tr>\n",
       "  </thead>\n",
       "  <tbody>\n",
       "    <tr>\n",
       "      <td>0</td>\n",
       "      <td>1.0</td>\n",
       "      <td>Bream</td>\n",
       "      <td>242.0</td>\n",
       "      <td>23.2</td>\n",
       "      <td>25.4</td>\n",
       "      <td>30.0</td>\n",
       "      <td>11.5200</td>\n",
       "    </tr>\n",
       "    <tr>\n",
       "      <td>1</td>\n",
       "      <td>1.0</td>\n",
       "      <td>Bream</td>\n",
       "      <td>290.0</td>\n",
       "      <td>24.0</td>\n",
       "      <td>26.3</td>\n",
       "      <td>31.2</td>\n",
       "      <td>12.4800</td>\n",
       "    </tr>\n",
       "    <tr>\n",
       "      <td>2</td>\n",
       "      <td>1.0</td>\n",
       "      <td>Bream</td>\n",
       "      <td>340.0</td>\n",
       "      <td>23.9</td>\n",
       "      <td>26.5</td>\n",
       "      <td>31.1</td>\n",
       "      <td>12.3778</td>\n",
       "    </tr>\n",
       "    <tr>\n",
       "      <td>3</td>\n",
       "      <td>1.0</td>\n",
       "      <td>Bream</td>\n",
       "      <td>363.0</td>\n",
       "      <td>26.3</td>\n",
       "      <td>29.0</td>\n",
       "      <td>33.5</td>\n",
       "      <td>12.7300</td>\n",
       "    </tr>\n",
       "    <tr>\n",
       "      <td>4</td>\n",
       "      <td>1.0</td>\n",
       "      <td>Bream</td>\n",
       "      <td>430.0</td>\n",
       "      <td>26.5</td>\n",
       "      <td>29.0</td>\n",
       "      <td>34.0</td>\n",
       "      <td>12.4440</td>\n",
       "    </tr>\n",
       "  </tbody>\n",
       "</table>\n",
       "</div>"
      ],
      "text/plain": [
       "   const Species  Weight  Length1  Length2  Length3   Height\n",
       "0    1.0   Bream   242.0     23.2     25.4     30.0  11.5200\n",
       "1    1.0   Bream   290.0     24.0     26.3     31.2  12.4800\n",
       "2    1.0   Bream   340.0     23.9     26.5     31.1  12.3778\n",
       "3    1.0   Bream   363.0     26.3     29.0     33.5  12.7300\n",
       "4    1.0   Bream   430.0     26.5     29.0     34.0  12.4440"
      ]
     },
     "execution_count": 21,
     "metadata": {},
     "output_type": "execute_result"
    }
   ],
   "source": [
    "x1 = sm.add_constant(x)\n",
    "x1.head()"
   ]
  },
  {
   "cell_type": "code",
   "execution_count": 26,
   "metadata": {},
   "outputs": [
    {
     "data": {
      "text/html": [
       "<div>\n",
       "<style scoped>\n",
       "    .dataframe tbody tr th:only-of-type {\n",
       "        vertical-align: middle;\n",
       "    }\n",
       "\n",
       "    .dataframe tbody tr th {\n",
       "        vertical-align: top;\n",
       "    }\n",
       "\n",
       "    .dataframe thead th {\n",
       "        text-align: right;\n",
       "    }\n",
       "</style>\n",
       "<table border=\"1\" class=\"dataframe\">\n",
       "  <thead>\n",
       "    <tr style=\"text-align: right;\">\n",
       "      <th></th>\n",
       "      <th>const</th>\n",
       "      <th>Weight</th>\n",
       "      <th>Length1</th>\n",
       "      <th>Length2</th>\n",
       "      <th>Length3</th>\n",
       "      <th>Height</th>\n",
       "      <th>Species_Parkki</th>\n",
       "      <th>Species_Perch</th>\n",
       "      <th>Species_Pike</th>\n",
       "      <th>Species_Roach</th>\n",
       "      <th>Species_Smelt</th>\n",
       "      <th>Species_Whitefish</th>\n",
       "    </tr>\n",
       "  </thead>\n",
       "  <tbody>\n",
       "    <tr>\n",
       "      <td>0</td>\n",
       "      <td>1.0</td>\n",
       "      <td>242.0</td>\n",
       "      <td>23.2</td>\n",
       "      <td>25.4</td>\n",
       "      <td>30.0</td>\n",
       "      <td>11.5200</td>\n",
       "      <td>0</td>\n",
       "      <td>0</td>\n",
       "      <td>0</td>\n",
       "      <td>0</td>\n",
       "      <td>0</td>\n",
       "      <td>0</td>\n",
       "    </tr>\n",
       "    <tr>\n",
       "      <td>1</td>\n",
       "      <td>1.0</td>\n",
       "      <td>290.0</td>\n",
       "      <td>24.0</td>\n",
       "      <td>26.3</td>\n",
       "      <td>31.2</td>\n",
       "      <td>12.4800</td>\n",
       "      <td>0</td>\n",
       "      <td>0</td>\n",
       "      <td>0</td>\n",
       "      <td>0</td>\n",
       "      <td>0</td>\n",
       "      <td>0</td>\n",
       "    </tr>\n",
       "    <tr>\n",
       "      <td>2</td>\n",
       "      <td>1.0</td>\n",
       "      <td>340.0</td>\n",
       "      <td>23.9</td>\n",
       "      <td>26.5</td>\n",
       "      <td>31.1</td>\n",
       "      <td>12.3778</td>\n",
       "      <td>0</td>\n",
       "      <td>0</td>\n",
       "      <td>0</td>\n",
       "      <td>0</td>\n",
       "      <td>0</td>\n",
       "      <td>0</td>\n",
       "    </tr>\n",
       "    <tr>\n",
       "      <td>3</td>\n",
       "      <td>1.0</td>\n",
       "      <td>363.0</td>\n",
       "      <td>26.3</td>\n",
       "      <td>29.0</td>\n",
       "      <td>33.5</td>\n",
       "      <td>12.7300</td>\n",
       "      <td>0</td>\n",
       "      <td>0</td>\n",
       "      <td>0</td>\n",
       "      <td>0</td>\n",
       "      <td>0</td>\n",
       "      <td>0</td>\n",
       "    </tr>\n",
       "    <tr>\n",
       "      <td>4</td>\n",
       "      <td>1.0</td>\n",
       "      <td>430.0</td>\n",
       "      <td>26.5</td>\n",
       "      <td>29.0</td>\n",
       "      <td>34.0</td>\n",
       "      <td>12.4440</td>\n",
       "      <td>0</td>\n",
       "      <td>0</td>\n",
       "      <td>0</td>\n",
       "      <td>0</td>\n",
       "      <td>0</td>\n",
       "      <td>0</td>\n",
       "    </tr>\n",
       "  </tbody>\n",
       "</table>\n",
       "</div>"
      ],
      "text/plain": [
       "   const  Weight  Length1  Length2  Length3   Height  Species_Parkki  \\\n",
       "0    1.0   242.0     23.2     25.4     30.0  11.5200               0   \n",
       "1    1.0   290.0     24.0     26.3     31.2  12.4800               0   \n",
       "2    1.0   340.0     23.9     26.5     31.1  12.3778               0   \n",
       "3    1.0   363.0     26.3     29.0     33.5  12.7300               0   \n",
       "4    1.0   430.0     26.5     29.0     34.0  12.4440               0   \n",
       "\n",
       "   Species_Perch  Species_Pike  Species_Roach  Species_Smelt  \\\n",
       "0              0             0              0              0   \n",
       "1              0             0              0              0   \n",
       "2              0             0              0              0   \n",
       "3              0             0              0              0   \n",
       "4              0             0              0              0   \n",
       "\n",
       "   Species_Whitefish  \n",
       "0                  0  \n",
       "1                  0  \n",
       "2                  0  \n",
       "3                  0  \n",
       "4                  0  "
      ]
     },
     "execution_count": 26,
     "metadata": {},
     "output_type": "execute_result"
    }
   ],
   "source": [
    "x1 = pd.get_dummies(x1, drop_first=True)\n",
    "x1.head()"
   ]
  },
  {
   "cell_type": "code",
   "execution_count": 27,
   "metadata": {},
   "outputs": [
    {
     "data": {
      "text/plain": [
       "array(['Bream', 'Roach', 'Whitefish', 'Parkki', 'Perch', 'Pike', 'Smelt'],\n",
       "      dtype=object)"
      ]
     },
     "execution_count": 27,
     "metadata": {},
     "output_type": "execute_result"
    }
   ],
   "source": [
    "x.Species.unique()"
   ]
  },
  {
   "cell_type": "code",
   "execution_count": 28,
   "metadata": {},
   "outputs": [],
   "source": [
    "from sklearn.model_selection import train_test_split"
   ]
  },
  {
   "cell_type": "code",
   "execution_count": 29,
   "metadata": {},
   "outputs": [],
   "source": [
    "train_x, test_x, train_y, test_y = train_test_split(x1, y, test_size=0.3, random_state=40)"
   ]
  },
  {
   "cell_type": "code",
   "execution_count": 31,
   "metadata": {},
   "outputs": [
    {
     "data": {
      "text/html": [
       "<div>\n",
       "<style scoped>\n",
       "    .dataframe tbody tr th:only-of-type {\n",
       "        vertical-align: middle;\n",
       "    }\n",
       "\n",
       "    .dataframe tbody tr th {\n",
       "        vertical-align: top;\n",
       "    }\n",
       "\n",
       "    .dataframe thead th {\n",
       "        text-align: right;\n",
       "    }\n",
       "</style>\n",
       "<table border=\"1\" class=\"dataframe\">\n",
       "  <thead>\n",
       "    <tr style=\"text-align: right;\">\n",
       "      <th></th>\n",
       "      <th>const</th>\n",
       "      <th>Weight</th>\n",
       "      <th>Length1</th>\n",
       "      <th>Length2</th>\n",
       "      <th>Length3</th>\n",
       "      <th>Height</th>\n",
       "      <th>Species_Parkki</th>\n",
       "      <th>Species_Perch</th>\n",
       "      <th>Species_Pike</th>\n",
       "      <th>Species_Roach</th>\n",
       "      <th>Species_Smelt</th>\n",
       "      <th>Species_Whitefish</th>\n",
       "    </tr>\n",
       "  </thead>\n",
       "  <tbody>\n",
       "    <tr>\n",
       "      <td>38</td>\n",
       "      <td>1.0</td>\n",
       "      <td>87.0</td>\n",
       "      <td>18.2</td>\n",
       "      <td>19.8</td>\n",
       "      <td>22.2</td>\n",
       "      <td>5.6166</td>\n",
       "      <td>0</td>\n",
       "      <td>0</td>\n",
       "      <td>0</td>\n",
       "      <td>1</td>\n",
       "      <td>0</td>\n",
       "      <td>0</td>\n",
       "    </tr>\n",
       "    <tr>\n",
       "      <td>118</td>\n",
       "      <td>1.0</td>\n",
       "      <td>820.0</td>\n",
       "      <td>36.6</td>\n",
       "      <td>39.0</td>\n",
       "      <td>41.3</td>\n",
       "      <td>12.4313</td>\n",
       "      <td>0</td>\n",
       "      <td>1</td>\n",
       "      <td>0</td>\n",
       "      <td>0</td>\n",
       "      <td>0</td>\n",
       "      <td>0</td>\n",
       "    </tr>\n",
       "    <tr>\n",
       "      <td>140</td>\n",
       "      <td>1.0</td>\n",
       "      <td>950.0</td>\n",
       "      <td>48.3</td>\n",
       "      <td>51.7</td>\n",
       "      <td>55.1</td>\n",
       "      <td>8.9262</td>\n",
       "      <td>0</td>\n",
       "      <td>0</td>\n",
       "      <td>1</td>\n",
       "      <td>0</td>\n",
       "      <td>0</td>\n",
       "      <td>0</td>\n",
       "    </tr>\n",
       "    <tr>\n",
       "      <td>5</td>\n",
       "      <td>1.0</td>\n",
       "      <td>450.0</td>\n",
       "      <td>26.8</td>\n",
       "      <td>29.7</td>\n",
       "      <td>34.7</td>\n",
       "      <td>13.6024</td>\n",
       "      <td>0</td>\n",
       "      <td>0</td>\n",
       "      <td>0</td>\n",
       "      <td>0</td>\n",
       "      <td>0</td>\n",
       "      <td>0</td>\n",
       "    </tr>\n",
       "    <tr>\n",
       "      <td>113</td>\n",
       "      <td>1.0</td>\n",
       "      <td>700.0</td>\n",
       "      <td>34.0</td>\n",
       "      <td>36.0</td>\n",
       "      <td>38.3</td>\n",
       "      <td>10.6091</td>\n",
       "      <td>0</td>\n",
       "      <td>1</td>\n",
       "      <td>0</td>\n",
       "      <td>0</td>\n",
       "      <td>0</td>\n",
       "      <td>0</td>\n",
       "    </tr>\n",
       "  </tbody>\n",
       "</table>\n",
       "</div>"
      ],
      "text/plain": [
       "     const  Weight  Length1  Length2  Length3   Height  Species_Parkki  \\\n",
       "38     1.0    87.0     18.2     19.8     22.2   5.6166               0   \n",
       "118    1.0   820.0     36.6     39.0     41.3  12.4313               0   \n",
       "140    1.0   950.0     48.3     51.7     55.1   8.9262               0   \n",
       "5      1.0   450.0     26.8     29.7     34.7  13.6024               0   \n",
       "113    1.0   700.0     34.0     36.0     38.3  10.6091               0   \n",
       "\n",
       "     Species_Perch  Species_Pike  Species_Roach  Species_Smelt  \\\n",
       "38               0             0              1              0   \n",
       "118              1             0              0              0   \n",
       "140              0             1              0              0   \n",
       "5                0             0              0              0   \n",
       "113              1             0              0              0   \n",
       "\n",
       "     Species_Whitefish  \n",
       "38                   0  \n",
       "118                  0  \n",
       "140                  0  \n",
       "5                    0  \n",
       "113                  0  "
      ]
     },
     "execution_count": 31,
     "metadata": {},
     "output_type": "execute_result"
    }
   ],
   "source": [
    "test_x.head()"
   ]
  },
  {
   "cell_type": "code",
   "execution_count": 32,
   "metadata": {},
   "outputs": [],
   "source": [
    "mod = sm.OLS(train_y, train_x).fit()"
   ]
  },
  {
   "cell_type": "code",
   "execution_count": 33,
   "metadata": {},
   "outputs": [
    {
     "data": {
      "text/plain": [
       "const               -2.071379\n",
       "Weight               0.000295\n",
       "Length1              0.243248\n",
       "Length2             -0.286170\n",
       "Length3              0.120871\n",
       "Height               0.311574\n",
       "Species_Parkki       0.968863\n",
       "Species_Perch        2.397091\n",
       "Species_Pike         1.328297\n",
       "Species_Roach        1.957331\n",
       "Species_Smelt        1.838256\n",
       "Species_Whitefish    2.072231\n",
       "dtype: float64"
      ]
     },
     "execution_count": 33,
     "metadata": {},
     "output_type": "execute_result"
    }
   ],
   "source": [
    "mod.params"
   ]
  },
  {
   "cell_type": "code",
   "execution_count": 41,
   "metadata": {},
   "outputs": [
    {
     "data": {
      "text/plain": [
       "Index(['const', 'Weight', 'Length1', 'Length2', 'Length3', 'Height',\n",
       "       'Species_Parkki', 'Species_Perch', 'Species_Pike', 'Species_Roach',\n",
       "       'Species_Smelt', 'Species_Whitefish'],\n",
       "      dtype='object')"
      ]
     },
     "execution_count": 41,
     "metadata": {},
     "output_type": "execute_result"
    }
   ],
   "source": [
    "train_x.columns"
   ]
  },
  {
   "cell_type": "code",
   "execution_count": 37,
   "metadata": {},
   "outputs": [
    {
     "data": {
      "text/html": [
       "<table class=\"simpletable\">\n",
       "<tr>\n",
       "        <td>Model:</td>               <td>OLS</td>         <td>Adj. R-squared:</td>     <td>0.961</td> \n",
       "</tr>\n",
       "<tr>\n",
       "  <td>Dependent Variable:</td>       <td>Width</td>             <td>AIC:</td>          <td>82.4316</td>\n",
       "</tr>\n",
       "<tr>\n",
       "         <td>Date:</td>        <td>2020-03-11 17:55</td>        <td>BIC:</td>         <td>114.9460</td>\n",
       "</tr>\n",
       "<tr>\n",
       "   <td>No. Observations:</td>         <td>111</td>         <td>Log-Likelihood:</td>    <td>-29.216</td>\n",
       "</tr>\n",
       "<tr>\n",
       "       <td>Df Model:</td>             <td>11</td>           <td>F-statistic:</td>       <td>249.1</td> \n",
       "</tr>\n",
       "<tr>\n",
       "     <td>Df Residuals:</td>           <td>99</td>        <td>Prob (F-statistic):</td> <td>6.19e-67</td>\n",
       "</tr>\n",
       "<tr>\n",
       "      <td>R-squared:</td>            <td>0.965</td>            <td>Scale:</td>         <td>0.11113</td>\n",
       "</tr>\n",
       "</table>\n",
       "<table class=\"simpletable\">\n",
       "<tr>\n",
       "          <td></td>           <th>Coef.</th>  <th>Std.Err.</th>    <th>t</th>     <th>P>|t|</th> <th>[0.025</th>  <th>0.975]</th> \n",
       "</tr>\n",
       "<tr>\n",
       "  <th>const</th>             <td>-2.0714</td>  <td>0.5926</td>  <td>-3.4955</td> <td>0.0007</td> <td>-3.2472</td> <td>-0.8956</td>\n",
       "</tr>\n",
       "<tr>\n",
       "  <th>Weight</th>            <td>0.0003</td>   <td>0.0004</td>  <td>0.8112</td>  <td>0.4192</td> <td>-0.0004</td> <td>0.0010</td> \n",
       "</tr>\n",
       "<tr>\n",
       "  <th>Length1</th>           <td>0.2432</td>   <td>0.1623</td>  <td>1.4987</td>  <td>0.1371</td> <td>-0.0788</td> <td>0.5653</td> \n",
       "</tr>\n",
       "<tr>\n",
       "  <th>Length2</th>           <td>-0.2862</td>  <td>0.2042</td>  <td>-1.4015</td> <td>0.1642</td> <td>-0.6913</td> <td>0.1190</td> \n",
       "</tr>\n",
       "<tr>\n",
       "  <th>Length3</th>           <td>0.1209</td>   <td>0.1256</td>  <td>0.9620</td>  <td>0.3384</td> <td>-0.1284</td> <td>0.3702</td> \n",
       "</tr>\n",
       "<tr>\n",
       "  <th>Height</th>            <td>0.3116</td>   <td>0.0446</td>  <td>6.9853</td>  <td>0.0000</td> <td>0.2231</td>  <td>0.4001</td> \n",
       "</tr>\n",
       "<tr>\n",
       "  <th>Species_Parkki</th>    <td>0.9689</td>   <td>0.3072</td>  <td>3.1534</td>  <td>0.0021</td> <td>0.3592</td>  <td>1.5785</td> \n",
       "</tr>\n",
       "<tr>\n",
       "  <th>Species_Perch</th>     <td>2.3971</td>   <td>0.4563</td>  <td>5.2529</td>  <td>0.0000</td> <td>1.4916</td>  <td>3.3026</td> \n",
       "</tr>\n",
       "<tr>\n",
       "  <th>Species_Pike</th>      <td>1.3283</td>   <td>0.5723</td>  <td>2.3210</td>  <td>0.0223</td> <td>0.1928</td>  <td>2.4638</td> \n",
       "</tr>\n",
       "<tr>\n",
       "  <th>Species_Roach</th>     <td>1.9573</td>   <td>0.3396</td>  <td>5.7639</td>  <td>0.0000</td> <td>1.2835</td>  <td>2.6311</td> \n",
       "</tr>\n",
       "<tr>\n",
       "  <th>Species_Smelt</th>     <td>1.8383</td>   <td>0.4933</td>  <td>3.7263</td>  <td>0.0003</td> <td>0.8594</td>  <td>2.8171</td> \n",
       "</tr>\n",
       "<tr>\n",
       "  <th>Species_Whitefish</th> <td>2.0722</td>   <td>0.3454</td>  <td>5.9989</td>  <td>0.0000</td> <td>1.3868</td>  <td>2.7577</td> \n",
       "</tr>\n",
       "</table>\n",
       "<table class=\"simpletable\">\n",
       "<tr>\n",
       "     <td>Omnibus:</td>    <td>22.257</td>  <td>Durbin-Watson:</td>    <td>1.935</td>\n",
       "</tr>\n",
       "<tr>\n",
       "  <td>Prob(Omnibus):</td>  <td>0.000</td> <td>Jarque-Bera (JB):</td> <td>36.656</td>\n",
       "</tr>\n",
       "<tr>\n",
       "       <td>Skew:</td>      <td>0.893</td>     <td>Prob(JB):</td>      <td>0.000</td>\n",
       "</tr>\n",
       "<tr>\n",
       "     <td>Kurtosis:</td>    <td>5.176</td>  <td>Condition No.:</td>    <td>18454</td>\n",
       "</tr>\n",
       "</table>"
      ],
      "text/plain": [
       "<class 'statsmodels.iolib.summary2.Summary'>\n",
       "\"\"\"\n",
       "                 Results: Ordinary least squares\n",
       "=================================================================\n",
       "Model:              OLS              Adj. R-squared:     0.961   \n",
       "Dependent Variable: Width            AIC:                82.4316 \n",
       "Date:               2020-03-11 17:55 BIC:                114.9460\n",
       "No. Observations:   111              Log-Likelihood:     -29.216 \n",
       "Df Model:           11               F-statistic:        249.1   \n",
       "Df Residuals:       99               Prob (F-statistic): 6.19e-67\n",
       "R-squared:          0.965            Scale:              0.11113 \n",
       "-----------------------------------------------------------------\n",
       "                   Coef.  Std.Err.    t    P>|t|   [0.025  0.975]\n",
       "-----------------------------------------------------------------\n",
       "const             -2.0714   0.5926 -3.4955 0.0007 -3.2472 -0.8956\n",
       "Weight             0.0003   0.0004  0.8112 0.4192 -0.0004  0.0010\n",
       "Length1            0.2432   0.1623  1.4987 0.1371 -0.0788  0.5653\n",
       "Length2           -0.2862   0.2042 -1.4015 0.1642 -0.6913  0.1190\n",
       "Length3            0.1209   0.1256  0.9620 0.3384 -0.1284  0.3702\n",
       "Height             0.3116   0.0446  6.9853 0.0000  0.2231  0.4001\n",
       "Species_Parkki     0.9689   0.3072  3.1534 0.0021  0.3592  1.5785\n",
       "Species_Perch      2.3971   0.4563  5.2529 0.0000  1.4916  3.3026\n",
       "Species_Pike       1.3283   0.5723  2.3210 0.0223  0.1928  2.4638\n",
       "Species_Roach      1.9573   0.3396  5.7639 0.0000  1.2835  2.6311\n",
       "Species_Smelt      1.8383   0.4933  3.7263 0.0003  0.8594  2.8171\n",
       "Species_Whitefish  2.0722   0.3454  5.9989 0.0000  1.3868  2.7577\n",
       "-----------------------------------------------------------------\n",
       "Omnibus:              22.257       Durbin-Watson:          1.935 \n",
       "Prob(Omnibus):        0.000        Jarque-Bera (JB):       36.656\n",
       "Skew:                 0.893        Prob(JB):               0.000 \n",
       "Kurtosis:             5.176        Condition No.:          18454 \n",
       "=================================================================\n",
       "* The condition number is large (2e+04). This might indicate\n",
       "strong multicollinearity or other numerical problems.\n",
       "\"\"\""
      ]
     },
     "execution_count": 37,
     "metadata": {},
     "output_type": "execute_result"
    }
   ],
   "source": [
    "mod.summary2()"
   ]
  },
  {
   "cell_type": "markdown",
   "metadata": {},
   "source": [
    "### Multicollinearity"
   ]
  },
  {
   "cell_type": "code",
   "execution_count": 38,
   "metadata": {},
   "outputs": [],
   "source": [
    "from statsmodels.stats.outliers_influence import variance_inflation_factor"
   ]
  },
  {
   "cell_type": "code",
   "execution_count": 66,
   "metadata": {},
   "outputs": [],
   "source": [
    "x_matrix = np.array(x1)\n",
    "VIF1 = pd.DataFrame(columns=['Column', 'vif'])\n",
    "for i in range(x_matrix.shape[1]):\n",
    "    VIF1['vif']=variance_inflation_factor(x_matrix, i)\n",
    "    VIF1['Column'] = x1.columns"
   ]
  },
  {
   "cell_type": "code",
   "execution_count": 68,
   "metadata": {},
   "outputs": [],
   "source": [
    "vif = [variance_inflation_factor(x_matrix, i) for i in range(x_matrix.shape[1])]\n",
    "VIF_fact = pd.DataFrame()\n",
    "VIF_fact['Column'] = x1.columns\n",
    "VIF_fact['VIF'] = vif"
   ]
  },
  {
   "cell_type": "code",
   "execution_count": 69,
   "metadata": {},
   "outputs": [
    {
     "data": {
      "text/html": [
       "<div>\n",
       "<style scoped>\n",
       "    .dataframe tbody tr th:only-of-type {\n",
       "        vertical-align: middle;\n",
       "    }\n",
       "\n",
       "    .dataframe tbody tr th {\n",
       "        vertical-align: top;\n",
       "    }\n",
       "\n",
       "    .dataframe thead th {\n",
       "        text-align: right;\n",
       "    }\n",
       "</style>\n",
       "<table border=\"1\" class=\"dataframe\">\n",
       "  <thead>\n",
       "    <tr style=\"text-align: right;\">\n",
       "      <th></th>\n",
       "      <th>Column</th>\n",
       "      <th>VIF</th>\n",
       "    </tr>\n",
       "  </thead>\n",
       "  <tbody>\n",
       "    <tr>\n",
       "      <td>0</td>\n",
       "      <td>const</td>\n",
       "      <td>334.544729</td>\n",
       "    </tr>\n",
       "    <tr>\n",
       "      <td>1</td>\n",
       "      <td>Weight</td>\n",
       "      <td>15.645706</td>\n",
       "    </tr>\n",
       "    <tr>\n",
       "      <td>2</td>\n",
       "      <td>Length1</td>\n",
       "      <td>2428.538157</td>\n",
       "    </tr>\n",
       "    <tr>\n",
       "      <td>3</td>\n",
       "      <td>Length2</td>\n",
       "      <td>4354.938677</td>\n",
       "    </tr>\n",
       "    <tr>\n",
       "      <td>4</td>\n",
       "      <td>Length3</td>\n",
       "      <td>2057.881409</td>\n",
       "    </tr>\n",
       "    <tr>\n",
       "      <td>5</td>\n",
       "      <td>Height</td>\n",
       "      <td>37.123469</td>\n",
       "    </tr>\n",
       "    <tr>\n",
       "      <td>6</td>\n",
       "      <td>Species_Parkki</td>\n",
       "      <td>6.143438</td>\n",
       "    </tr>\n",
       "    <tr>\n",
       "      <td>7</td>\n",
       "      <td>Species_Perch</td>\n",
       "      <td>44.867245</td>\n",
       "    </tr>\n",
       "    <tr>\n",
       "      <td>8</td>\n",
       "      <td>Species_Pike</td>\n",
       "      <td>29.951524</td>\n",
       "    </tr>\n",
       "    <tr>\n",
       "      <td>9</td>\n",
       "      <td>Species_Roach</td>\n",
       "      <td>12.024212</td>\n",
       "    </tr>\n",
       "    <tr>\n",
       "      <td>10</td>\n",
       "      <td>Species_Smelt</td>\n",
       "      <td>19.111357</td>\n",
       "    </tr>\n",
       "    <tr>\n",
       "      <td>11</td>\n",
       "      <td>Species_Whitefish</td>\n",
       "      <td>4.423194</td>\n",
       "    </tr>\n",
       "  </tbody>\n",
       "</table>\n",
       "</div>"
      ],
      "text/plain": [
       "               Column          VIF\n",
       "0               const   334.544729\n",
       "1              Weight    15.645706\n",
       "2             Length1  2428.538157\n",
       "3             Length2  4354.938677\n",
       "4             Length3  2057.881409\n",
       "5              Height    37.123469\n",
       "6      Species_Parkki     6.143438\n",
       "7       Species_Perch    44.867245\n",
       "8        Species_Pike    29.951524\n",
       "9       Species_Roach    12.024212\n",
       "10      Species_Smelt    19.111357\n",
       "11  Species_Whitefish     4.423194"
      ]
     },
     "execution_count": 69,
     "metadata": {},
     "output_type": "execute_result"
    }
   ],
   "source": [
    "VIF_fact"
   ]
  },
  {
   "cell_type": "code",
   "execution_count": 70,
   "metadata": {},
   "outputs": [
    {
     "data": {
      "text/plain": [
       "15     5.405933\n",
       "3      4.149579\n",
       "66     3.101025\n",
       "4      4.189296\n",
       "109    5.744544\n",
       "         ...   \n",
       "71     4.430636\n",
       "12     4.826813\n",
       "50     4.139656\n",
       "7      4.350199\n",
       "70     4.257491\n",
       "Length: 111, dtype: float64"
      ]
     },
     "execution_count": 70,
     "metadata": {},
     "output_type": "execute_result"
    }
   ],
   "source": [
    "mod.fittedvalues"
   ]
  },
  {
   "cell_type": "code",
   "execution_count": 72,
   "metadata": {},
   "outputs": [
    {
     "data": {
      "text/plain": [
       "15     0.174067\n",
       "3      0.305921\n",
       "66     0.193375\n",
       "4      0.944704\n",
       "109    0.273456\n",
       "         ...   \n",
       "71    -0.196636\n",
       "12    -0.458813\n",
       "50    -0.012456\n",
       "7      0.339801\n",
       "70    -0.113491\n",
       "Length: 111, dtype: float64"
      ]
     },
     "execution_count": 72,
     "metadata": {},
     "output_type": "execute_result"
    }
   ],
   "source": [
    "mod.resid"
   ]
  },
  {
   "cell_type": "code",
   "execution_count": 76,
   "metadata": {},
   "outputs": [
    {
     "data": {
      "image/png": "[encoded data removed]",
      "text/plain": [
       "<Figure size 432x288 with 1 Axes>"
      ]
     },
     "metadata": {
      "needs_background": "light"
     },
     "output_type": "display_data"
    }
   ],
   "source": [
    "prob_p = sm.ProbPlot(mod.resid)\n",
    "prob_p.ppplot(line='45')\n",
    "plt.show()"
   ]
  },
  {
   "cell_type": "code",
   "execution_count": 77,
   "metadata": {},
   "outputs": [],
   "source": [
    "from sklearn.preprocessing import normalize"
   ]
  },
  {
   "cell_type": "code",
   "execution_count": 87,
   "metadata": {},
   "outputs": [],
   "source": [
    "res = (mod.resid - mod.resid.mean())/mod.resid.std()"
   ]
  },
  {
   "cell_type": "code",
   "execution_count": 89,
   "metadata": {},
   "outputs": [
    {
     "data": {
      "text/plain": [
       "15     0.621718\n",
       "3     -0.133324\n",
       "66    -0.763483\n",
       "4     -0.109455\n",
       "109    0.825216\n",
       "         ...   \n",
       "71     0.035586\n",
       "12     0.273679\n",
       "50    -0.139287\n",
       "7     -0.012755\n",
       "70    -0.068471\n",
       "Length: 111, dtype: float64"
      ]
     },
     "execution_count": 89,
     "metadata": {},
     "output_type": "execute_result"
    }
   ],
   "source": [
    "fit = (mod.fittedvalues - mod.fittedvalues.mean())/mod.fittedvalues.std()\n",
    "fit"
   ]
  },
  {
   "cell_type": "code",
   "execution_count": 90,
   "metadata": {},
   "outputs": [
    {
     "data": {
      "text/plain": [
       "<matplotlib.collections.PathCollection at 0x1c20033d50>"
      ]
     },
     "execution_count": 90,
     "metadata": {},
     "output_type": "execute_result"
    },
    {
     "data": {
      "image/png": "[encoded data removed]",
      "text/plain": [
       "<Figure size 432x288 with 1 Axes>"
      ]
     },
     "metadata": {
      "needs_background": "light"
     },
     "output_type": "display_data"
    }
   ],
   "source": [
    "plt.scatter(fit, res)"
   ]
  },
  {
   "cell_type": "code",
   "execution_count": 91,
   "metadata": {},
   "outputs": [],
   "source": [
    "from scipy.stats import zscore"
   ]
  },
  {
   "cell_type": "code",
   "execution_count": 92,
   "metadata": {},
   "outputs": [],
   "source": [
    "k = train_x.shape[1]\n",
    "n = train_x.shape[0]"
   ]
  },
  {
   "cell_type": "code",
   "execution_count": 94,
   "metadata": {},
   "outputs": [
    {
     "data": {
      "text/plain": [
       "0.35"
      ]
     },
     "execution_count": 94,
     "metadata": {},
     "output_type": "execute_result"
    }
   ],
   "source": [
    "round(3*(k+1)/n, 2)"
   ]
  },
  {
   "cell_type": "code",
   "execution_count": 95,
   "metadata": {},
   "outputs": [],
   "source": [
    "from statsmodels.graphics.regressionplots import influence_plot"
   ]
  },
  {
   "cell_type": "code",
   "execution_count": 96,
   "metadata": {},
   "outputs": [
    {
     "data": {
      "image/png": "[encoded data removed]",
      "text/plain": [
       "<Figure size 576x432 with 1 Axes>"
      ]
     },
     "metadata": {
      "needs_background": "light"
     },
     "output_type": "display_data"
    }
   ],
   "source": [
    "fig, ax = plt.subplots(figsize=(8,6))\n",
    "influence_plot(mod, ax=ax)\n",
    "plt.show()"
   ]
  },
  {
   "cell_type": "code",
   "execution_count": 97,
   "metadata": {},
   "outputs": [
    {
     "data": {
      "text/html": [
       "<div>\n",
       "<style scoped>\n",
       "    .dataframe tbody tr th:only-of-type {\n",
       "        vertical-align: middle;\n",
       "    }\n",
       "\n",
       "    .dataframe tbody tr th {\n",
       "        vertical-align: top;\n",
       "    }\n",
       "\n",
       "    .dataframe thead th {\n",
       "        text-align: right;\n",
       "    }\n",
       "</style>\n",
       "<table border=\"1\" class=\"dataframe\">\n",
       "  <thead>\n",
       "    <tr style=\"text-align: right;\">\n",
       "      <th></th>\n",
       "      <th>const</th>\n",
       "      <th>Weight</th>\n",
       "      <th>Length1</th>\n",
       "      <th>Length2</th>\n",
       "      <th>Length3</th>\n",
       "      <th>Height</th>\n",
       "      <th>Species_Parkki</th>\n",
       "      <th>Species_Perch</th>\n",
       "      <th>Species_Pike</th>\n",
       "      <th>Species_Roach</th>\n",
       "      <th>Species_Smelt</th>\n",
       "      <th>Species_Whitefish</th>\n",
       "    </tr>\n",
       "  </thead>\n",
       "  <tbody>\n",
       "    <tr>\n",
       "      <td>130</td>\n",
       "      <td>1.0</td>\n",
       "      <td>300.0</td>\n",
       "      <td>32.7</td>\n",
       "      <td>35.0</td>\n",
       "      <td>38.8</td>\n",
       "      <td>5.9364</td>\n",
       "      <td>0</td>\n",
       "      <td>0</td>\n",
       "      <td>1</td>\n",
       "      <td>0</td>\n",
       "      <td>0</td>\n",
       "      <td>0</td>\n",
       "    </tr>\n",
       "    <tr>\n",
       "      <td>143</td>\n",
       "      <td>1.0</td>\n",
       "      <td>1550.0</td>\n",
       "      <td>56.0</td>\n",
       "      <td>60.0</td>\n",
       "      <td>64.0</td>\n",
       "      <td>9.6000</td>\n",
       "      <td>0</td>\n",
       "      <td>0</td>\n",
       "      <td>1</td>\n",
       "      <td>0</td>\n",
       "      <td>0</td>\n",
       "      <td>0</td>\n",
       "    </tr>\n",
       "    <tr>\n",
       "      <td>144</td>\n",
       "      <td>1.0</td>\n",
       "      <td>1650.0</td>\n",
       "      <td>59.0</td>\n",
       "      <td>63.4</td>\n",
       "      <td>68.0</td>\n",
       "      <td>10.8120</td>\n",
       "      <td>0</td>\n",
       "      <td>0</td>\n",
       "      <td>1</td>\n",
       "      <td>0</td>\n",
       "      <td>0</td>\n",
       "      <td>0</td>\n",
       "    </tr>\n",
       "  </tbody>\n",
       "</table>\n",
       "</div>"
      ],
      "text/plain": [
       "     const  Weight  Length1  Length2  Length3   Height  Species_Parkki  \\\n",
       "130    1.0   300.0     32.7     35.0     38.8   5.9364               0   \n",
       "143    1.0  1550.0     56.0     60.0     64.0   9.6000               0   \n",
       "144    1.0  1650.0     59.0     63.4     68.0  10.8120               0   \n",
       "\n",
       "     Species_Perch  Species_Pike  Species_Roach  Species_Smelt  \\\n",
       "130              0             1              0              0   \n",
       "143              0             1              0              0   \n",
       "144              0             1              0              0   \n",
       "\n",
       "     Species_Whitefish  \n",
       "130                  0  \n",
       "143                  0  \n",
       "144                  0  "
      ]
     },
     "execution_count": 97,
     "metadata": {},
     "output_type": "execute_result"
    }
   ],
   "source": [
    "x1[x1.index.isin([130, 143, 144])]"
   ]
  },
  {
   "cell_type": "code",
   "execution_count": 98,
   "metadata": {},
   "outputs": [],
   "source": [
    "train_x_new = train_x.drop([130, 143, 144], axis=0)\n",
    "train_y_new = train_y.drop([130, 143, 144], axis=0)"
   ]
  },
  {
   "cell_type": "code",
   "execution_count": 99,
   "metadata": {},
   "outputs": [],
   "source": [
    "mod2 = sm.OLS(train_y_new, train_x_new).fit()"
   ]
  },
  {
   "cell_type": "code",
   "execution_count": 100,
   "metadata": {},
   "outputs": [
    {
     "data": {
      "text/html": [
       "<table class=\"simpletable\">\n",
       "<tr>\n",
       "        <td>Model:</td>               <td>OLS</td>         <td>Adj. R-squared:</td>     <td>0.966</td> \n",
       "</tr>\n",
       "<tr>\n",
       "  <td>Dependent Variable:</td>       <td>Width</td>             <td>AIC:</td>          <td>64.3312</td>\n",
       "</tr>\n",
       "<tr>\n",
       "         <td>Date:</td>        <td>2020-03-11 18:59</td>        <td>BIC:</td>          <td>96.5168</td>\n",
       "</tr>\n",
       "<tr>\n",
       "   <td>No. Observations:</td>         <td>108</td>         <td>Log-Likelihood:</td>    <td>-20.166</td>\n",
       "</tr>\n",
       "<tr>\n",
       "       <td>Df Model:</td>             <td>11</td>           <td>F-statistic:</td>       <td>278.7</td> \n",
       "</tr>\n",
       "<tr>\n",
       "     <td>Df Residuals:</td>           <td>96</td>        <td>Prob (F-statistic):</td> <td>1.12e-67</td>\n",
       "</tr>\n",
       "<tr>\n",
       "      <td>R-squared:</td>            <td>0.970</td>            <td>Scale:</td>        <td>0.095689</td>\n",
       "</tr>\n",
       "</table>\n",
       "<table class=\"simpletable\">\n",
       "<tr>\n",
       "          <td></td>           <th>Coef.</th>  <th>Std.Err.</th>    <th>t</th>     <th>P>|t|</th> <th>[0.025</th>  <th>0.975]</th>\n",
       "</tr>\n",
       "<tr>\n",
       "  <th>const</th>             <td>-1.0489</td>  <td>0.6097</td>  <td>-1.7202</td> <td>0.0886</td> <td>-2.2592</td> <td>0.1614</td>\n",
       "</tr>\n",
       "<tr>\n",
       "  <th>Weight</th>            <td>0.0012</td>   <td>0.0004</td>  <td>2.8644</td>  <td>0.0051</td> <td>0.0004</td>  <td>0.0020</td>\n",
       "</tr>\n",
       "<tr>\n",
       "  <th>Length1</th>           <td>0.0429</td>   <td>0.1616</td>  <td>0.2652</td>  <td>0.7914</td> <td>-0.2780</td> <td>0.3637</td>\n",
       "</tr>\n",
       "<tr>\n",
       "  <th>Length2</th>           <td>-0.0407</td>  <td>0.2064</td>  <td>-0.1972</td> <td>0.8441</td> <td>-0.4504</td> <td>0.3690</td>\n",
       "</tr>\n",
       "<tr>\n",
       "  <th>Length3</th>           <td>0.0887</td>   <td>0.1388</td>  <td>0.6393</td>  <td>0.5242</td> <td>-0.1868</td> <td>0.3642</td>\n",
       "</tr>\n",
       "<tr>\n",
       "  <th>Height</th>            <td>0.1534</td>   <td>0.0600</td>  <td>2.5554</td>  <td>0.0122</td> <td>0.0342</td>  <td>0.2725</td>\n",
       "</tr>\n",
       "<tr>\n",
       "  <th>Species_Parkki</th>    <td>0.7245</td>   <td>0.3158</td>  <td>2.2941</td>  <td>0.0240</td> <td>0.0976</td>  <td>1.3514</td>\n",
       "</tr>\n",
       "<tr>\n",
       "  <th>Species_Perch</th>     <td>1.5317</td>   <td>0.4910</td>  <td>3.1194</td>  <td>0.0024</td> <td>0.5570</td>  <td>2.5064</td>\n",
       "</tr>\n",
       "<tr>\n",
       "  <th>Species_Pike</th>      <td>0.0506</td>   <td>0.6283</td>  <td>0.0805</td>  <td>0.9360</td> <td>-1.1966</td> <td>1.2978</td>\n",
       "</tr>\n",
       "<tr>\n",
       "  <th>Species_Roach</th>     <td>1.3274</td>   <td>0.3546</td>  <td>3.7436</td>  <td>0.0003</td> <td>0.6236</td>  <td>2.0313</td>\n",
       "</tr>\n",
       "<tr>\n",
       "  <th>Species_Smelt</th>     <td>0.9035</td>   <td>0.5169</td>  <td>1.7478</td>  <td>0.0837</td> <td>-0.1226</td> <td>1.9296</td>\n",
       "</tr>\n",
       "<tr>\n",
       "  <th>Species_Whitefish</th> <td>1.3459</td>   <td>0.3710</td>  <td>3.6273</td>  <td>0.0005</td> <td>0.6094</td>  <td>2.0824</td>\n",
       "</tr>\n",
       "</table>\n",
       "<table class=\"simpletable\">\n",
       "<tr>\n",
       "     <td>Omnibus:</td>    <td>32.839</td>  <td>Durbin-Watson:</td>    <td>1.890</td>\n",
       "</tr>\n",
       "<tr>\n",
       "  <td>Prob(Omnibus):</td>  <td>0.000</td> <td>Jarque-Bera (JB):</td> <td>77.315</td>\n",
       "</tr>\n",
       "<tr>\n",
       "       <td>Skew:</td>      <td>1.142</td>     <td>Prob(JB):</td>      <td>0.000</td>\n",
       "</tr>\n",
       "<tr>\n",
       "     <td>Kurtosis:</td>    <td>6.459</td>  <td>Condition No.:</td>    <td>19522</td>\n",
       "</tr>\n",
       "</table>"
      ],
      "text/plain": [
       "<class 'statsmodels.iolib.summary2.Summary'>\n",
       "\"\"\"\n",
       "                 Results: Ordinary least squares\n",
       "=================================================================\n",
       "Model:              OLS              Adj. R-squared:     0.966   \n",
       "Dependent Variable: Width            AIC:                64.3312 \n",
       "Date:               2020-03-11 18:59 BIC:                96.5168 \n",
       "No. Observations:   108              Log-Likelihood:     -20.166 \n",
       "Df Model:           11               F-statistic:        278.7   \n",
       "Df Residuals:       96               Prob (F-statistic): 1.12e-67\n",
       "R-squared:          0.970            Scale:              0.095689\n",
       "-----------------------------------------------------------------\n",
       "                    Coef.  Std.Err.    t    P>|t|   [0.025 0.975]\n",
       "-----------------------------------------------------------------\n",
       "const              -1.0489   0.6097 -1.7202 0.0886 -2.2592 0.1614\n",
       "Weight              0.0012   0.0004  2.8644 0.0051  0.0004 0.0020\n",
       "Length1             0.0429   0.1616  0.2652 0.7914 -0.2780 0.3637\n",
       "Length2            -0.0407   0.2064 -0.1972 0.8441 -0.4504 0.3690\n",
       "Length3             0.0887   0.1388  0.6393 0.5242 -0.1868 0.3642\n",
       "Height              0.1534   0.0600  2.5554 0.0122  0.0342 0.2725\n",
       "Species_Parkki      0.7245   0.3158  2.2941 0.0240  0.0976 1.3514\n",
       "Species_Perch       1.5317   0.4910  3.1194 0.0024  0.5570 2.5064\n",
       "Species_Pike        0.0506   0.6283  0.0805 0.9360 -1.1966 1.2978\n",
       "Species_Roach       1.3274   0.3546  3.7436 0.0003  0.6236 2.0313\n",
       "Species_Smelt       0.9035   0.5169  1.7478 0.0837 -0.1226 1.9296\n",
       "Species_Whitefish   1.3459   0.3710  3.6273 0.0005  0.6094 2.0824\n",
       "-----------------------------------------------------------------\n",
       "Omnibus:              32.839       Durbin-Watson:          1.890 \n",
       "Prob(Omnibus):        0.000        Jarque-Bera (JB):       77.315\n",
       "Skew:                 1.142        Prob(JB):               0.000 \n",
       "Kurtosis:             6.459        Condition No.:          19522 \n",
       "=================================================================\n",
       "* The condition number is large (2e+04). This might indicate\n",
       "strong multicollinearity or other numerical problems.\n",
       "\"\"\""
      ]
     },
     "execution_count": 100,
     "metadata": {},
     "output_type": "execute_result"
    }
   ],
   "source": [
    "mod2.summary2()"
   ]
  },
  {
   "cell_type": "code",
   "execution_count": 107,
   "metadata": {},
   "outputs": [],
   "source": [
    "pvals = pd.DataFrame(mod2.pvalues.reset_index())"
   ]
  },
  {
   "cell_type": "code",
   "execution_count": 108,
   "metadata": {},
   "outputs": [],
   "source": [
    "pvals.columns = ['Column', 'Pvalues']"
   ]
  },
  {
   "cell_type": "code",
   "execution_count": 112,
   "metadata": {},
   "outputs": [],
   "source": [
    "sig=pvals[pvals.Pvalues<0.05]"
   ]
  },
  {
   "cell_type": "code",
   "execution_count": 114,
   "metadata": {},
   "outputs": [
    {
     "data": {
      "text/plain": [
       "1                Weight\n",
       "5                Height\n",
       "6        Species_Parkki\n",
       "7         Species_Perch\n",
       "9         Species_Roach\n",
       "11    Species_Whitefish\n",
       "Name: Column, dtype: object"
      ]
     },
     "execution_count": 114,
     "metadata": {},
     "output_type": "execute_result"
    }
   ],
   "source": [
    "list(sig.Column)"
   ]
  },
  {
   "cell_type": "code",
   "execution_count": null,
   "metadata": {},
   "outputs": [],
   "source": []
  }
 ],
 "metadata": {
  "kernelspec": {
   "display_name": "Python 3",
   "language": "python",
   "name": "python3"
  },
  "language_info": {
   "codemirror_mode": {
    "name": "ipython",
    "version": 3
   },
   "file_extension": ".py",
   "mimetype": "text/x-python",
   "name": "python",
   "nbconvert_exporter": "python",
   "pygments_lexer": "ipython3",
   "version": "3.7.4"
  }
 },
 "nbformat": 4,
 "nbformat_minor": 2
}
