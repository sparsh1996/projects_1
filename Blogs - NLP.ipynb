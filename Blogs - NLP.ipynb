{
 "cells": [
  {
   "cell_type": "code",
   "execution_count": 1,
   "metadata": {},
   "outputs": [],
   "source": [
    "from gensim.models import Word2Vec, KeyedVectors\n",
    "import pandas as pd\n",
    "import numpy as np\n",
    "import matplotlib.pyplot as plt\n",
    "import seaborn as sn\n",
    "import os\n",
    "import re\n",
    "import warnings\n",
    "from sklearn.model_selection import train_test_split\n",
    "warnings.filterwarnings('ignore')\n",
    "import statsmodels.api as sm\n",
    "%matplotlib inline"
   ]
  },
  {
   "cell_type": "code",
   "execution_count": 5,
   "metadata": {},
   "outputs": [
    {
     "data": {
      "text/plain": [
       "'/Users/skylark'"
      ]
     },
     "execution_count": 5,
     "metadata": {},
     "output_type": "execute_result"
    }
   ],
   "source": [
    "pwd"
   ]
  },
  {
   "cell_type": "code",
   "execution_count": 7,
   "metadata": {},
   "outputs": [
    {
     "name": "stdout",
     "output_type": "stream",
     "text": [
      "/Users/skylark/Desktop/blogs\n"
     ]
    }
   ],
   "source": [
    "cd /Users/skylark/Desktop/blogs"
   ]
  },
  {
   "cell_type": "code",
   "execution_count": 13,
   "metadata": {},
   "outputs": [],
   "source": [
    "file_names = []\n",
    "for file in os.listdir('/Users/skylark/Desktop/blogs'):\n",
    "    file_names.append(file)"
   ]
  },
  {
   "cell_type": "code",
   "execution_count": 15,
   "metadata": {},
   "outputs": [
    {
     "data": {
      "text/plain": [
       "19320"
      ]
     },
     "execution_count": 15,
     "metadata": {},
     "output_type": "execute_result"
    }
   ],
   "source": [
    "len(file_names)"
   ]
  },
  {
   "cell_type": "code",
   "execution_count": 17,
   "metadata": {},
   "outputs": [
    {
     "data": {
      "text/plain": [
       "'/Users/skylark/Desktop/blogs'"
      ]
     },
     "execution_count": 17,
     "metadata": {},
     "output_type": "execute_result"
    }
   ],
   "source": [
    "os.getcwd()"
   ]
  },
  {
   "cell_type": "code",
   "execution_count": 18,
   "metadata": {},
   "outputs": [
    {
     "data": {
      "text/plain": [
       "'/Users/skylark/Desktop/blogs/4162441.male.16.Student.Sagittarius.xml'"
      ]
     },
     "execution_count": 18,
     "metadata": {},
     "output_type": "execute_result"
    }
   ],
   "source": [
    "os.path.join(os.getcwd(), file_names[0])"
   ]
  },
  {
   "cell_type": "code",
   "execution_count": 19,
   "metadata": {},
   "outputs": [],
   "source": [
    "contents = []\n",
    "file_details =[]\n",
    "for file in file_names:\n",
    "    try:\n",
    "        with open(os.path.join(os.getcwd(), file)) as f:\n",
    "            content = f.readlines()\n",
    "        contents.append(content)\n",
    "        file_details.append(file)\n",
    "    except Exception as e:\n",
    "        pass    "
   ]
  },
  {
   "cell_type": "code",
   "execution_count": 21,
   "metadata": {},
   "outputs": [
    {
     "data": {
      "text/plain": [
       "18713"
      ]
     },
     "execution_count": 21,
     "metadata": {},
     "output_type": "execute_result"
    }
   ],
   "source": [
    "len(contents)"
   ]
  },
  {
   "cell_type": "code",
   "execution_count": 22,
   "metadata": {},
   "outputs": [
    {
     "data": {
      "text/plain": [
       "18713"
      ]
     },
     "execution_count": 22,
     "metadata": {},
     "output_type": "execute_result"
    }
   ],
   "source": [
    "len(file_details)"
   ]
  },
  {
   "cell_type": "code",
   "execution_count": 27,
   "metadata": {},
   "outputs": [],
   "source": [
    "ID = []\n",
    "gender = []\n",
    "age = []\n",
    "industry = []\n",
    "astrological_sign = []"
   ]
  },
  {
   "cell_type": "code",
   "execution_count": 28,
   "metadata": {},
   "outputs": [],
   "source": [
    "for detail in file_details:\n",
    "    ID.append(detail.split('.')[0])\n",
    "    gender.append(detail.split('.')[1])\n",
    "    age.append(detail.split('.')[2])\n",
    "    industry.append(detail.split('.')[3])\n",
    "    astrological_sign.append(detail.split('.')[4])"
   ]
  },
  {
   "cell_type": "markdown",
   "metadata": {},
   "source": [
    "### Preparing dataset"
   ]
  },
  {
   "cell_type": "code",
   "execution_count": 30,
   "metadata": {},
   "outputs": [],
   "source": [
    "data = pd.DataFrame({'ID':ID, 'text':contents, 'Gender':gender, 'Age':age, 'Industry':industry, 'Sun_Sign':astrological_sign})"
   ]
  },
  {
   "cell_type": "code",
   "execution_count": 41,
   "metadata": {},
   "outputs": [],
   "source": [
    "data['text'] = data.text.map(lambda x: x[6:])"
   ]
  },
  {
   "cell_type": "code",
   "execution_count": 48,
   "metadata": {},
   "outputs": [],
   "source": [
    "data['text'] = data.text.map(lambda x: ' '.join(x))"
   ]
  },
  {
   "cell_type": "code",
   "execution_count": 58,
   "metadata": {},
   "outputs": [],
   "source": [
    "pat1 = re.compile(r'\\w+')\n",
    "pat2 = re.compile(r'\\D')"
   ]
  },
  {
   "cell_type": "code",
   "execution_count": 56,
   "metadata": {},
   "outputs": [],
   "source": [
    "data['new_text'] = data.text.map(lambda x: ' '.join(pat1.findall(x.lower())))"
   ]
  },
  {
   "cell_type": "code",
   "execution_count": 66,
   "metadata": {},
   "outputs": [],
   "source": [
    "data['text'] = data.new_text.map(lambda x: ''.join(pat2.findall(x.lower())))"
   ]
  },
  {
   "cell_type": "code",
   "execution_count": 69,
   "metadata": {},
   "outputs": [],
   "source": [
    "data.drop('new_text', axis=1, inplace=True)"
   ]
  },
  {
   "cell_type": "code",
   "execution_count": 70,
   "metadata": {},
   "outputs": [
    {
     "data": {
      "text/html": [
       "<div>\n",
       "<style scoped>\n",
       "    .dataframe tbody tr th:only-of-type {\n",
       "        vertical-align: middle;\n",
       "    }\n",
       "\n",
       "    .dataframe tbody tr th {\n",
       "        vertical-align: top;\n",
       "    }\n",
       "\n",
       "    .dataframe thead th {\n",
       "        text-align: right;\n",
       "    }\n",
       "</style>\n",
       "<table border=\"1\" class=\"dataframe\">\n",
       "  <thead>\n",
       "    <tr style=\"text-align: right;\">\n",
       "      <th></th>\n",
       "      <th>ID</th>\n",
       "      <th>text</th>\n",
       "      <th>Gender</th>\n",
       "      <th>Age</th>\n",
       "      <th>Industry</th>\n",
       "      <th>Sun_Sign</th>\n",
       "    </tr>\n",
       "  </thead>\n",
       "  <tbody>\n",
       "    <tr>\n",
       "      <td>0</td>\n",
       "      <td>4162441</td>\n",
       "      <td>destiny you might not say anything but i can h...</td>\n",
       "      <td>male</td>\n",
       "      <td>16</td>\n",
       "      <td>Student</td>\n",
       "      <td>Sagittarius</td>\n",
       "    </tr>\n",
       "    <tr>\n",
       "      <td>1</td>\n",
       "      <td>3489929</td>\n",
       "      <td>it s been a long time coming but i have made s...</td>\n",
       "      <td>female</td>\n",
       "      <td>25</td>\n",
       "      <td>Student</td>\n",
       "      <td>Cancer</td>\n",
       "    </tr>\n",
       "    <tr>\n",
       "      <td>2</td>\n",
       "      <td>3954575</td>\n",
       "      <td>so here i sit at work only three more hours le...</td>\n",
       "      <td>female</td>\n",
       "      <td>23</td>\n",
       "      <td>BusinessServices</td>\n",
       "      <td>Gemini</td>\n",
       "    </tr>\n",
       "    <tr>\n",
       "      <td>3</td>\n",
       "      <td>3364931</td>\n",
       "      <td>today was normal nothing much to talk about ex...</td>\n",
       "      <td>male</td>\n",
       "      <td>16</td>\n",
       "      <td>Student</td>\n",
       "      <td>Virgo</td>\n",
       "    </tr>\n",
       "    <tr>\n",
       "      <td>4</td>\n",
       "      <td>3162067</td>\n",
       "      <td>i feel it in the water the crystal vibrations ...</td>\n",
       "      <td>female</td>\n",
       "      <td>24</td>\n",
       "      <td>Education</td>\n",
       "      <td>Cancer</td>\n",
       "    </tr>\n",
       "    <tr>\n",
       "      <td>...</td>\n",
       "      <td>...</td>\n",
       "      <td>...</td>\n",
       "      <td>...</td>\n",
       "      <td>...</td>\n",
       "      <td>...</td>\n",
       "      <td>...</td>\n",
       "    </tr>\n",
       "    <tr>\n",
       "      <td>18708</td>\n",
       "      <td>3591972</td>\n",
       "      <td>howdy yay my first journal entry ever woo but ...</td>\n",
       "      <td>female</td>\n",
       "      <td>16</td>\n",
       "      <td>Student</td>\n",
       "      <td>Capricorn</td>\n",
       "    </tr>\n",
       "    <tr>\n",
       "      <td>18709</td>\n",
       "      <td>228004</td>\n",
       "      <td>to prevent boredom setting in from seeing the ...</td>\n",
       "      <td>male</td>\n",
       "      <td>25</td>\n",
       "      <td>indUnk</td>\n",
       "      <td>Virgo</td>\n",
       "    </tr>\n",
       "    <tr>\n",
       "      <td>18710</td>\n",
       "      <td>3902987</td>\n",
       "      <td>wahaha three days nv cum in liao gt many prese...</td>\n",
       "      <td>male</td>\n",
       "      <td>13</td>\n",
       "      <td>indUnk</td>\n",
       "      <td>Pisces</td>\n",
       "    </tr>\n",
       "    <tr>\n",
       "      <td>18711</td>\n",
       "      <td>3724623</td>\n",
       "      <td>haiz today heard sth stupid den haiz stupid si...</td>\n",
       "      <td>male</td>\n",
       "      <td>15</td>\n",
       "      <td>Student</td>\n",
       "      <td>Leo</td>\n",
       "    </tr>\n",
       "    <tr>\n",
       "      <td>18712</td>\n",
       "      <td>1883213</td>\n",
       "      <td>how did scarface  get to be such a big deal i ...</td>\n",
       "      <td>male</td>\n",
       "      <td>23</td>\n",
       "      <td>Manufacturing</td>\n",
       "      <td>Cancer</td>\n",
       "    </tr>\n",
       "  </tbody>\n",
       "</table>\n",
       "<p>18713 rows × 6 columns</p>\n",
       "</div>"
      ],
      "text/plain": [
       "            ID                                               text  Gender Age  \\\n",
       "0      4162441  destiny you might not say anything but i can h...    male  16   \n",
       "1      3489929  it s been a long time coming but i have made s...  female  25   \n",
       "2      3954575  so here i sit at work only three more hours le...  female  23   \n",
       "3      3364931  today was normal nothing much to talk about ex...    male  16   \n",
       "4      3162067  i feel it in the water the crystal vibrations ...  female  24   \n",
       "...        ...                                                ...     ...  ..   \n",
       "18708  3591972  howdy yay my first journal entry ever woo but ...  female  16   \n",
       "18709   228004  to prevent boredom setting in from seeing the ...    male  25   \n",
       "18710  3902987  wahaha three days nv cum in liao gt many prese...    male  13   \n",
       "18711  3724623  haiz today heard sth stupid den haiz stupid si...    male  15   \n",
       "18712  1883213  how did scarface  get to be such a big deal i ...    male  23   \n",
       "\n",
       "               Industry     Sun_Sign  \n",
       "0               Student  Sagittarius  \n",
       "1               Student       Cancer  \n",
       "2      BusinessServices       Gemini  \n",
       "3               Student        Virgo  \n",
       "4             Education       Cancer  \n",
       "...                 ...          ...  \n",
       "18708           Student    Capricorn  \n",
       "18709            indUnk        Virgo  \n",
       "18710            indUnk       Pisces  \n",
       "18711           Student          Leo  \n",
       "18712     Manufacturing       Cancer  \n",
       "\n",
       "[18713 rows x 6 columns]"
      ]
     },
     "execution_count": 70,
     "metadata": {},
     "output_type": "execute_result"
    }
   ],
   "source": [
    "data"
   ]
  },
  {
   "cell_type": "code",
   "execution_count": 88,
   "metadata": {},
   "outputs": [
    {
     "data": {
      "text/plain": [
       "array(['Student', 'BusinessServices', 'Education', 'indUnk', 'Technology',\n",
       "       'Arts', 'Non-Profit', 'InvestmentBanking', 'Engineering',\n",
       "       'Science', 'Publishing', 'Construction', 'HumanResources',\n",
       "       'Communications-Media', 'Internet', 'Banking', 'Biotech',\n",
       "       'Architecture', 'Advertising', 'Military', 'Chemicals', 'Fashion',\n",
       "       'Law', 'Tourism', 'Museums-Libraries', 'Accounting',\n",
       "       'Transportation', 'Agriculture', 'Government', 'Marketing',\n",
       "       'Manufacturing', 'Religion', 'Sports-Recreation',\n",
       "       'Telecommunications', 'Consulting', 'RealEstate', 'Automotive',\n",
       "       'Maritime', 'LawEnforcement-Security', 'Environment'], dtype=object)"
      ]
     },
     "execution_count": 88,
     "metadata": {},
     "output_type": "execute_result"
    }
   ],
   "source": [
    "data.Industry.unique()"
   ]
  },
  {
   "cell_type": "code",
   "execution_count": 75,
   "metadata": {},
   "outputs": [
    {
     "data": {
      "text/plain": [
       "array(['Sagittarius', 'Cancer', 'Gemini', 'Virgo', 'Leo', 'Taurus',\n",
       "       'Scorpio', 'Aries', 'Pisces', 'Capricorn', 'Libra', 'Aquarius'],\n",
       "      dtype=object)"
      ]
     },
     "execution_count": 75,
     "metadata": {},
     "output_type": "execute_result"
    }
   ],
   "source": [
    "data.Sun_Sign.unique()"
   ]
  },
  {
   "cell_type": "code",
   "execution_count": 78,
   "metadata": {},
   "outputs": [
    {
     "data": {
      "text/plain": [
       "count    18713.000000\n",
       "mean        22.761823\n",
       "std          7.992861\n",
       "min         13.000000\n",
       "25%         16.000000\n",
       "50%         23.000000\n",
       "75%         26.000000\n",
       "max         48.000000\n",
       "Name: Age, dtype: float64"
      ]
     },
     "execution_count": 78,
     "metadata": {},
     "output_type": "execute_result"
    }
   ],
   "source": [
    "data.Age.describe()"
   ]
  },
  {
   "cell_type": "code",
   "execution_count": 82,
   "metadata": {},
   "outputs": [
    {
     "data": {
      "text/plain": [
       "array([16., 23., 26.])"
      ]
     },
     "execution_count": 82,
     "metadata": {},
     "output_type": "execute_result"
    }
   ],
   "source": [
    "np.percentile(data.Age, [25,50,75])"
   ]
  },
  {
   "cell_type": "code",
   "execution_count": 140,
   "metadata": {},
   "outputs": [],
   "source": [
    "data['age_grp'] = data.Age.map(lambda x: 0 if x<16 else 1 if x>=16 and x<23 else 2 if x>=23 and x<26 else 3)"
   ]
  },
  {
   "cell_type": "code",
   "execution_count": 94,
   "metadata": {},
   "outputs": [],
   "source": [
    "industry_dict = {}\n",
    "rev_industry_dict = {}\n",
    "for i,j in enumerate(set(data.Industry.unique())):\n",
    "    industry_dict[j] = i\n",
    "    rev_industry_dict[i] = j"
   ]
  },
  {
   "cell_type": "code",
   "execution_count": 91,
   "metadata": {},
   "outputs": [],
   "source": [
    "sun_sign = {}\n",
    "rev_sun_sign = {}\n",
    "for i,j in enumerate(set(data.Sun_Sign.unique())):\n",
    "    sun_sign[j] = i\n",
    "    rev_sun_sign[i] = j"
   ]
  },
  {
   "cell_type": "code",
   "execution_count": 141,
   "metadata": {},
   "outputs": [
    {
     "data": {
      "text/html": [
       "<div>\n",
       "<style scoped>\n",
       "    .dataframe tbody tr th:only-of-type {\n",
       "        vertical-align: middle;\n",
       "    }\n",
       "\n",
       "    .dataframe tbody tr th {\n",
       "        vertical-align: top;\n",
       "    }\n",
       "\n",
       "    .dataframe thead th {\n",
       "        text-align: right;\n",
       "    }\n",
       "</style>\n",
       "<table border=\"1\" class=\"dataframe\">\n",
       "  <thead>\n",
       "    <tr style=\"text-align: right;\">\n",
       "      <th></th>\n",
       "      <th>ID</th>\n",
       "      <th>text</th>\n",
       "      <th>Age</th>\n",
       "      <th>Industry</th>\n",
       "      <th>Sun_Sign</th>\n",
       "      <th>age_grp</th>\n",
       "      <th>Gender_male</th>\n",
       "    </tr>\n",
       "  </thead>\n",
       "  <tbody>\n",
       "    <tr>\n",
       "      <td>0</td>\n",
       "      <td>4162441</td>\n",
       "      <td>destiny you might not say anything but i can h...</td>\n",
       "      <td>16</td>\n",
       "      <td>12</td>\n",
       "      <td>9</td>\n",
       "      <td>1</td>\n",
       "      <td>1</td>\n",
       "    </tr>\n",
       "    <tr>\n",
       "      <td>1</td>\n",
       "      <td>3489929</td>\n",
       "      <td>it s been a long time coming but i have made s...</td>\n",
       "      <td>25</td>\n",
       "      <td>12</td>\n",
       "      <td>4</td>\n",
       "      <td>2</td>\n",
       "      <td>0</td>\n",
       "    </tr>\n",
       "    <tr>\n",
       "      <td>2</td>\n",
       "      <td>3954575</td>\n",
       "      <td>so here i sit at work only three more hours le...</td>\n",
       "      <td>23</td>\n",
       "      <td>21</td>\n",
       "      <td>7</td>\n",
       "      <td>2</td>\n",
       "      <td>0</td>\n",
       "    </tr>\n",
       "    <tr>\n",
       "      <td>3</td>\n",
       "      <td>3364931</td>\n",
       "      <td>today was normal nothing much to talk about ex...</td>\n",
       "      <td>16</td>\n",
       "      <td>12</td>\n",
       "      <td>11</td>\n",
       "      <td>1</td>\n",
       "      <td>1</td>\n",
       "    </tr>\n",
       "    <tr>\n",
       "      <td>4</td>\n",
       "      <td>3162067</td>\n",
       "      <td>i feel it in the water the crystal vibrations ...</td>\n",
       "      <td>24</td>\n",
       "      <td>0</td>\n",
       "      <td>4</td>\n",
       "      <td>2</td>\n",
       "      <td>0</td>\n",
       "    </tr>\n",
       "    <tr>\n",
       "      <td>...</td>\n",
       "      <td>...</td>\n",
       "      <td>...</td>\n",
       "      <td>...</td>\n",
       "      <td>...</td>\n",
       "      <td>...</td>\n",
       "      <td>...</td>\n",
       "      <td>...</td>\n",
       "    </tr>\n",
       "    <tr>\n",
       "      <td>18708</td>\n",
       "      <td>3591972</td>\n",
       "      <td>howdy yay my first journal entry ever woo but ...</td>\n",
       "      <td>16</td>\n",
       "      <td>12</td>\n",
       "      <td>8</td>\n",
       "      <td>1</td>\n",
       "      <td>0</td>\n",
       "    </tr>\n",
       "    <tr>\n",
       "      <td>18709</td>\n",
       "      <td>228004</td>\n",
       "      <td>to prevent boredom setting in from seeing the ...</td>\n",
       "      <td>25</td>\n",
       "      <td>23</td>\n",
       "      <td>11</td>\n",
       "      <td>2</td>\n",
       "      <td>1</td>\n",
       "    </tr>\n",
       "    <tr>\n",
       "      <td>18710</td>\n",
       "      <td>3902987</td>\n",
       "      <td>wahaha three days nv cum in liao gt many prese...</td>\n",
       "      <td>13</td>\n",
       "      <td>23</td>\n",
       "      <td>0</td>\n",
       "      <td>0</td>\n",
       "      <td>1</td>\n",
       "    </tr>\n",
       "    <tr>\n",
       "      <td>18711</td>\n",
       "      <td>3724623</td>\n",
       "      <td>haiz today heard sth stupid den haiz stupid si...</td>\n",
       "      <td>15</td>\n",
       "      <td>12</td>\n",
       "      <td>2</td>\n",
       "      <td>0</td>\n",
       "      <td>1</td>\n",
       "    </tr>\n",
       "    <tr>\n",
       "      <td>18712</td>\n",
       "      <td>1883213</td>\n",
       "      <td>how did scarface  get to be such a big deal i ...</td>\n",
       "      <td>23</td>\n",
       "      <td>4</td>\n",
       "      <td>4</td>\n",
       "      <td>2</td>\n",
       "      <td>1</td>\n",
       "    </tr>\n",
       "  </tbody>\n",
       "</table>\n",
       "<p>18713 rows × 7 columns</p>\n",
       "</div>"
      ],
      "text/plain": [
       "            ID                                               text  Age  \\\n",
       "0      4162441  destiny you might not say anything but i can h...   16   \n",
       "1      3489929  it s been a long time coming but i have made s...   25   \n",
       "2      3954575  so here i sit at work only three more hours le...   23   \n",
       "3      3364931  today was normal nothing much to talk about ex...   16   \n",
       "4      3162067  i feel it in the water the crystal vibrations ...   24   \n",
       "...        ...                                                ...  ...   \n",
       "18708  3591972  howdy yay my first journal entry ever woo but ...   16   \n",
       "18709   228004  to prevent boredom setting in from seeing the ...   25   \n",
       "18710  3902987  wahaha three days nv cum in liao gt many prese...   13   \n",
       "18711  3724623  haiz today heard sth stupid den haiz stupid si...   15   \n",
       "18712  1883213  how did scarface  get to be such a big deal i ...   23   \n",
       "\n",
       "       Industry  Sun_Sign  age_grp  Gender_male  \n",
       "0            12         9        1            1  \n",
       "1            12         4        2            0  \n",
       "2            21         7        2            0  \n",
       "3            12        11        1            1  \n",
       "4             0         4        2            0  \n",
       "...         ...       ...      ...          ...  \n",
       "18708        12         8        1            0  \n",
       "18709        23        11        2            1  \n",
       "18710        23         0        0            1  \n",
       "18711        12         2        0            1  \n",
       "18712         4         4        2            1  \n",
       "\n",
       "[18713 rows x 7 columns]"
      ]
     },
     "execution_count": 141,
     "metadata": {},
     "output_type": "execute_result"
    }
   ],
   "source": [
    "data"
   ]
  },
  {
   "cell_type": "markdown",
   "metadata": {},
   "source": [
    "### Preprocessing"
   ]
  },
  {
   "cell_type": "code",
   "execution_count": 111,
   "metadata": {},
   "outputs": [],
   "source": [
    "from keras.preprocessing.text import Tokenizer\n",
    "from keras.preprocessing.sequence import pad_sequences\n",
    "from gensim.models import KeyedVectors"
   ]
  },
  {
   "cell_type": "code",
   "execution_count": 151,
   "metadata": {},
   "outputs": [],
   "source": [
    "toknzr = Tokenizer(num_words=10000)"
   ]
  },
  {
   "cell_type": "code",
   "execution_count": 152,
   "metadata": {},
   "outputs": [],
   "source": [
    "toknzr.fit_on_texts(data.text)"
   ]
  },
  {
   "cell_type": "code",
   "execution_count": 153,
   "metadata": {},
   "outputs": [],
   "source": [
    "seq = toknzr.texts_to_sequences(data.text)"
   ]
  },
  {
   "cell_type": "code",
   "execution_count": 154,
   "metadata": {},
   "outputs": [],
   "source": [
    "seq = pad_sequences(seq, maxlen=500)"
   ]
  },
  {
   "cell_type": "code",
   "execution_count": 155,
   "metadata": {},
   "outputs": [],
   "source": [
    "word_idx = toknzr.word_index"
   ]
  },
  {
   "cell_type": "code",
   "execution_count": null,
   "metadata": {},
   "outputs": [],
   "source": [
    "data['Industry'] = data.Industry.map(lambda x: industry_dict[x])\n",
    "data['Sun_Sign'] = data.Sun_Sign.map(lambda x: sun_sign[x])"
   ]
  },
  {
   "cell_type": "code",
   "execution_count": 186,
   "metadata": {},
   "outputs": [
    {
     "data": {
      "text/html": [
       "<div>\n",
       "<style scoped>\n",
       "    .dataframe tbody tr th:only-of-type {\n",
       "        vertical-align: middle;\n",
       "    }\n",
       "\n",
       "    .dataframe tbody tr th {\n",
       "        vertical-align: top;\n",
       "    }\n",
       "\n",
       "    .dataframe thead th {\n",
       "        text-align: right;\n",
       "    }\n",
       "</style>\n",
       "<table border=\"1\" class=\"dataframe\">\n",
       "  <thead>\n",
       "    <tr style=\"text-align: right;\">\n",
       "      <th></th>\n",
       "      <th>ID</th>\n",
       "      <th>text</th>\n",
       "      <th>Age</th>\n",
       "      <th>Industry</th>\n",
       "      <th>Sun_Sign</th>\n",
       "      <th>age_grp</th>\n",
       "      <th>Gender_male</th>\n",
       "    </tr>\n",
       "  </thead>\n",
       "  <tbody>\n",
       "    <tr>\n",
       "      <td>0</td>\n",
       "      <td>4162441</td>\n",
       "      <td>destiny you might not say anything but i can h...</td>\n",
       "      <td>16</td>\n",
       "      <td>12</td>\n",
       "      <td>9</td>\n",
       "      <td>1</td>\n",
       "      <td>1</td>\n",
       "    </tr>\n",
       "    <tr>\n",
       "      <td>1</td>\n",
       "      <td>3489929</td>\n",
       "      <td>it s been a long time coming but i have made s...</td>\n",
       "      <td>25</td>\n",
       "      <td>12</td>\n",
       "      <td>4</td>\n",
       "      <td>2</td>\n",
       "      <td>0</td>\n",
       "    </tr>\n",
       "    <tr>\n",
       "      <td>2</td>\n",
       "      <td>3954575</td>\n",
       "      <td>so here i sit at work only three more hours le...</td>\n",
       "      <td>23</td>\n",
       "      <td>21</td>\n",
       "      <td>7</td>\n",
       "      <td>2</td>\n",
       "      <td>0</td>\n",
       "    </tr>\n",
       "    <tr>\n",
       "      <td>3</td>\n",
       "      <td>3364931</td>\n",
       "      <td>today was normal nothing much to talk about ex...</td>\n",
       "      <td>16</td>\n",
       "      <td>12</td>\n",
       "      <td>11</td>\n",
       "      <td>1</td>\n",
       "      <td>1</td>\n",
       "    </tr>\n",
       "    <tr>\n",
       "      <td>4</td>\n",
       "      <td>3162067</td>\n",
       "      <td>i feel it in the water the crystal vibrations ...</td>\n",
       "      <td>24</td>\n",
       "      <td>0</td>\n",
       "      <td>4</td>\n",
       "      <td>2</td>\n",
       "      <td>0</td>\n",
       "    </tr>\n",
       "    <tr>\n",
       "      <td>...</td>\n",
       "      <td>...</td>\n",
       "      <td>...</td>\n",
       "      <td>...</td>\n",
       "      <td>...</td>\n",
       "      <td>...</td>\n",
       "      <td>...</td>\n",
       "      <td>...</td>\n",
       "    </tr>\n",
       "    <tr>\n",
       "      <td>18708</td>\n",
       "      <td>3591972</td>\n",
       "      <td>howdy yay my first journal entry ever woo but ...</td>\n",
       "      <td>16</td>\n",
       "      <td>12</td>\n",
       "      <td>8</td>\n",
       "      <td>1</td>\n",
       "      <td>0</td>\n",
       "    </tr>\n",
       "    <tr>\n",
       "      <td>18709</td>\n",
       "      <td>228004</td>\n",
       "      <td>to prevent boredom setting in from seeing the ...</td>\n",
       "      <td>25</td>\n",
       "      <td>23</td>\n",
       "      <td>11</td>\n",
       "      <td>2</td>\n",
       "      <td>1</td>\n",
       "    </tr>\n",
       "    <tr>\n",
       "      <td>18710</td>\n",
       "      <td>3902987</td>\n",
       "      <td>wahaha three days nv cum in liao gt many prese...</td>\n",
       "      <td>13</td>\n",
       "      <td>23</td>\n",
       "      <td>0</td>\n",
       "      <td>0</td>\n",
       "      <td>1</td>\n",
       "    </tr>\n",
       "    <tr>\n",
       "      <td>18711</td>\n",
       "      <td>3724623</td>\n",
       "      <td>haiz today heard sth stupid den haiz stupid si...</td>\n",
       "      <td>15</td>\n",
       "      <td>12</td>\n",
       "      <td>2</td>\n",
       "      <td>0</td>\n",
       "      <td>1</td>\n",
       "    </tr>\n",
       "    <tr>\n",
       "      <td>18712</td>\n",
       "      <td>1883213</td>\n",
       "      <td>how did scarface  get to be such a big deal i ...</td>\n",
       "      <td>23</td>\n",
       "      <td>4</td>\n",
       "      <td>4</td>\n",
       "      <td>2</td>\n",
       "      <td>1</td>\n",
       "    </tr>\n",
       "  </tbody>\n",
       "</table>\n",
       "<p>18713 rows × 7 columns</p>\n",
       "</div>"
      ],
      "text/plain": [
       "            ID                                               text  Age  \\\n",
       "0      4162441  destiny you might not say anything but i can h...   16   \n",
       "1      3489929  it s been a long time coming but i have made s...   25   \n",
       "2      3954575  so here i sit at work only three more hours le...   23   \n",
       "3      3364931  today was normal nothing much to talk about ex...   16   \n",
       "4      3162067  i feel it in the water the crystal vibrations ...   24   \n",
       "...        ...                                                ...  ...   \n",
       "18708  3591972  howdy yay my first journal entry ever woo but ...   16   \n",
       "18709   228004  to prevent boredom setting in from seeing the ...   25   \n",
       "18710  3902987  wahaha three days nv cum in liao gt many prese...   13   \n",
       "18711  3724623  haiz today heard sth stupid den haiz stupid si...   15   \n",
       "18712  1883213  how did scarface  get to be such a big deal i ...   23   \n",
       "\n",
       "       Industry  Sun_Sign  age_grp  Gender_male  \n",
       "0            12         9        1            1  \n",
       "1            12         4        2            0  \n",
       "2            21         7        2            0  \n",
       "3            12        11        1            1  \n",
       "4             0         4        2            0  \n",
       "...         ...       ...      ...          ...  \n",
       "18708        12         8        1            0  \n",
       "18709        23        11        2            1  \n",
       "18710        23         0        0            1  \n",
       "18711        12         2        0            1  \n",
       "18712         4         4        2            1  \n",
       "\n",
       "[18713 rows x 7 columns]"
      ]
     },
     "execution_count": 186,
     "metadata": {},
     "output_type": "execute_result"
    }
   ],
   "source": [
    "data"
   ]
  },
  {
   "cell_type": "markdown",
   "metadata": {},
   "source": [
    "#### Word2Vec"
   ]
  },
  {
   "cell_type": "code",
   "execution_count": 158,
   "metadata": {},
   "outputs": [],
   "source": [
    "word2vec = KeyedVectors.load_word2vec_format('/Users/skylark/Desktop/Misc/pretrained embeddings/GoogleNews-vectors-negative300.bin', binary=True, limit=10000)"
   ]
  },
  {
   "cell_type": "code",
   "execution_count": 159,
   "metadata": {},
   "outputs": [],
   "source": [
    "embedding_matrix_word2vec = np.zeros((10000, 300))\n",
    "for word, i in word_idx.items():\n",
    "    if i<10000:\n",
    "        try:\n",
    "            vec = word2vec[word]\n",
    "            embedding_matrix_word2vec[i] = vec\n",
    "        except Exception as e:\n",
    "            pass"
   ]
  },
  {
   "cell_type": "markdown",
   "metadata": {},
   "source": [
    "#### GloVe"
   ]
  },
  {
   "cell_type": "code",
   "execution_count": 160,
   "metadata": {},
   "outputs": [],
   "source": [
    "with open('/Users/skylark/Desktop/Misc/pretrained embeddings/glove.6B/glove.6B.300d.txt') as f:\n",
    "    glove = f.readlines()"
   ]
  },
  {
   "cell_type": "code",
   "execution_count": 161,
   "metadata": {},
   "outputs": [],
   "source": [
    "glove_weight = {}\n",
    "for wt in glove:\n",
    "    glove_weight[wt.split()[0]] = np.array(wt.split()[1:])   "
   ]
  },
  {
   "cell_type": "code",
   "execution_count": 162,
   "metadata": {},
   "outputs": [],
   "source": [
    "embedding_matrix_glove = np.zeros((10000, 300))\n",
    "for word, i in word_idx.items():\n",
    "    if i<10000:\n",
    "        try:\n",
    "            vec = glove_weight[word]\n",
    "            embedding_matrix_glove[i] = vec\n",
    "        except Exception as e:\n",
    "            pass"
   ]
  },
  {
   "cell_type": "code",
   "execution_count": 163,
   "metadata": {},
   "outputs": [],
   "source": [
    "from sklearn.model_selection import train_test_split\n",
    "train_x, test_x, train_y, test_y = train_test_split(seq, data[['Industry','Sun_Sign','age_grp','Gender_male']], test_size=0.3, random_state=42)"
   ]
  },
  {
   "cell_type": "code",
   "execution_count": 171,
   "metadata": {},
   "outputs": [
    {
     "data": {
      "text/plain": [
       "40"
      ]
     },
     "execution_count": 171,
     "metadata": {},
     "output_type": "execute_result"
    }
   ],
   "source": [
    "len(data.Industry.unique())"
   ]
  },
  {
   "cell_type": "markdown",
   "metadata": {},
   "source": [
    "### Modelling"
   ]
  },
  {
   "cell_type": "code",
   "execution_count": 164,
   "metadata": {},
   "outputs": [],
   "source": [
    "from keras import models, layers, regularizers, optimizers"
   ]
  },
  {
   "cell_type": "markdown",
   "metadata": {},
   "source": [
    "#### Word2vec"
   ]
  },
  {
   "cell_type": "markdown",
   "metadata": {},
   "source": [
    "##### Gender"
   ]
  },
  {
   "cell_type": "code",
   "execution_count": 165,
   "metadata": {},
   "outputs": [],
   "source": [
    "model = models.Sequential()"
   ]
  },
  {
   "cell_type": "code",
   "execution_count": 166,
   "metadata": {},
   "outputs": [
    {
     "name": "stdout",
     "output_type": "stream",
     "text": [
      "Model: \"sequential_3\"\n",
      "_________________________________________________________________\n",
      "Layer (type)                 Output Shape              Param #   \n",
      "=================================================================\n",
      "embedding_3 (Embedding)      (None, 500, 300)          3000000   \n",
      "_________________________________________________________________\n",
      "bidirectional_7 (Bidirection (None, 500, 128)          186880    \n",
      "_________________________________________________________________\n",
      "bidirectional_8 (Bidirection (None, 500, 256)          263168    \n",
      "_________________________________________________________________\n",
      "bidirectional_9 (Bidirection (None, 512)               1050624   \n",
      "_________________________________________________________________\n",
      "dense_7 (Dense)              (None, 128)               65664     \n",
      "_________________________________________________________________\n",
      "dense_8 (Dense)              (None, 256)               33024     \n",
      "_________________________________________________________________\n",
      "dense_9 (Dense)              (None, 1)                 257       \n",
      "=================================================================\n",
      "Total params: 4,599,617\n",
      "Trainable params: 4,599,617\n",
      "Non-trainable params: 0\n",
      "_________________________________________________________________\n"
     ]
    }
   ],
   "source": [
    "model.add(layers.Embedding(10000, 300, input_length=500))\n",
    "model.add(layers.Bidirectional(layers.LSTM(64, return_sequences=True)))\n",
    "model.add(layers.Bidirectional(layers.LSTM(128, return_sequences=True)))\n",
    "model.add(layers.Bidirectional(layers.LSTM(256)))\n",
    "model.add(layers.Dense(128, activation='relu'))\n",
    "model.add(layers.Dense(256, activation='relu'))\n",
    "model.add(layers.Dense(1, activation='sigmoid'))\n",
    "\n",
    "model.summary()"
   ]
  },
  {
   "cell_type": "code",
   "execution_count": 167,
   "metadata": {},
   "outputs": [
    {
     "name": "stdout",
     "output_type": "stream",
     "text": [
      "Train on 10479 samples, validate on 2620 samples\n",
      "Epoch 1/1\n",
      "10479/10479 [==============================] - 2732s 261ms/step - loss: 0.6626 - acc: 0.6024 - val_loss: 0.6392 - val_acc: 0.6576\n"
     ]
    }
   ],
   "source": [
    "model.compile(optimizer=optimizers.RMSprop(2e-4), loss='binary_crossentropy', metrics=['acc'])\n",
    "history = model.fit(train_x, train_y.Gender_male, epochs=1, batch_size=32, validation_split=0.2)"
   ]
  },
  {
   "cell_type": "code",
   "execution_count": 168,
   "metadata": {},
   "outputs": [
    {
     "name": "stdout",
     "output_type": "stream",
     "text": [
      "5614/5614 [==============================] - 367s 65ms/step\n"
     ]
    },
    {
     "data": {
      "text/plain": [
       "[0.6415674543100445, 0.6635197997093201]"
      ]
     },
     "execution_count": 168,
     "metadata": {},
     "output_type": "execute_result"
    }
   ],
   "source": [
    "model.evaluate(test_x, test_y.Gender_male)"
   ]
  },
  {
   "cell_type": "markdown",
   "metadata": {},
   "source": [
    "##### Industry"
   ]
  },
  {
   "cell_type": "code",
   "execution_count": 174,
   "metadata": {},
   "outputs": [],
   "source": [
    "model = models.Sequential()"
   ]
  },
  {
   "cell_type": "code",
   "execution_count": 175,
   "metadata": {},
   "outputs": [
    {
     "name": "stdout",
     "output_type": "stream",
     "text": [
      "Model: \"sequential_5\"\n",
      "_________________________________________________________________\n",
      "Layer (type)                 Output Shape              Param #   \n",
      "=================================================================\n",
      "embedding_5 (Embedding)      (None, 500, 300)          3000000   \n",
      "_________________________________________________________________\n",
      "bidirectional_13 (Bidirectio (None, 500, 128)          186880    \n",
      "_________________________________________________________________\n",
      "bidirectional_14 (Bidirectio (None, 500, 256)          263168    \n",
      "_________________________________________________________________\n",
      "bidirectional_15 (Bidirectio (None, 512)               1050624   \n",
      "_________________________________________________________________\n",
      "dense_13 (Dense)             (None, 128)               65664     \n",
      "_________________________________________________________________\n",
      "dense_14 (Dense)             (None, 256)               33024     \n",
      "_________________________________________________________________\n",
      "dense_15 (Dense)             (None, 40)                10280     \n",
      "=================================================================\n",
      "Total params: 4,609,640\n",
      "Trainable params: 4,609,640\n",
      "Non-trainable params: 0\n",
      "_________________________________________________________________\n"
     ]
    }
   ],
   "source": [
    "model.add(layers.Embedding(10000, 300, input_length=500))\n",
    "model.add(layers.Bidirectional(layers.LSTM(64, return_sequences=True)))\n",
    "model.add(layers.Bidirectional(layers.LSTM(128, return_sequences=True)))\n",
    "model.add(layers.Bidirectional(layers.LSTM(256)))\n",
    "model.add(layers.Dense(128, activation='relu'))\n",
    "model.add(layers.Dense(256, activation='relu'))\n",
    "model.add(layers.Dense(40, activation='softmax'))\n",
    "\n",
    "model.summary()"
   ]
  },
  {
   "cell_type": "code",
   "execution_count": 176,
   "metadata": {},
   "outputs": [
    {
     "name": "stdout",
     "output_type": "stream",
     "text": [
      "Train on 10479 samples, validate on 2620 samples\n",
      "Epoch 1/1\n",
      "10479/10479 [==============================] - 3178s 303ms/step - loss: 2.3313 - acc: 0.3394 - val_loss: 2.2619 - val_acc: 0.3588\n"
     ]
    }
   ],
   "source": [
    "model.compile(optimizer=optimizers.RMSprop(2e-4), loss='sparse_categorical_crossentropy', metrics=['acc'])\n",
    "history = model.fit(train_x, train_y.Industry, epochs=1, batch_size=32, validation_split=0.2)"
   ]
  },
  {
   "cell_type": "code",
   "execution_count": 178,
   "metadata": {},
   "outputs": [
    {
     "name": "stdout",
     "output_type": "stream",
     "text": [
      "5614/5614 [==============================] - 331s 59ms/step\n"
     ]
    },
    {
     "data": {
      "text/plain": [
       "[2.297132601931633, 0.34075525403022766]"
      ]
     },
     "execution_count": 178,
     "metadata": {},
     "output_type": "execute_result"
    }
   ],
   "source": [
    "model.evaluate(test_x, test_y.Industry)"
   ]
  },
  {
   "cell_type": "markdown",
   "metadata": {},
   "source": [
    "##### Sun Sign"
   ]
  },
  {
   "cell_type": "code",
   "execution_count": 181,
   "metadata": {},
   "outputs": [],
   "source": [
    "model = models.Sequential()"
   ]
  },
  {
   "cell_type": "code",
   "execution_count": 182,
   "metadata": {},
   "outputs": [
    {
     "name": "stdout",
     "output_type": "stream",
     "text": [
      "Model: \"sequential_6\"\n",
      "_________________________________________________________________\n",
      "Layer (type)                 Output Shape              Param #   \n",
      "=================================================================\n",
      "embedding_6 (Embedding)      (None, 500, 300)          3000000   \n",
      "_________________________________________________________________\n",
      "bidirectional_16 (Bidirectio (None, 500, 128)          186880    \n",
      "_________________________________________________________________\n",
      "bidirectional_17 (Bidirectio (None, 500, 256)          263168    \n",
      "_________________________________________________________________\n",
      "bidirectional_18 (Bidirectio (None, 512)               1050624   \n",
      "_________________________________________________________________\n",
      "dense_16 (Dense)             (None, 128)               65664     \n",
      "_________________________________________________________________\n",
      "dense_17 (Dense)             (None, 256)               33024     \n",
      "_________________________________________________________________\n",
      "dense_18 (Dense)             (None, 12)                3084      \n",
      "=================================================================\n",
      "Total params: 4,602,444\n",
      "Trainable params: 4,602,444\n",
      "Non-trainable params: 0\n",
      "_________________________________________________________________\n"
     ]
    }
   ],
   "source": [
    "model.add(layers.Embedding(10000, 300, input_length=500))\n",
    "model.add(layers.Bidirectional(layers.LSTM(64, return_sequences=True)))\n",
    "model.add(layers.Bidirectional(layers.LSTM(128, return_sequences=True)))\n",
    "model.add(layers.Bidirectional(layers.LSTM(256)))\n",
    "model.add(layers.Dense(128, activation='relu'))\n",
    "model.add(layers.Dense(256, activation='relu'))\n",
    "model.add(layers.Dense(12, activation='softmax'))\n",
    "\n",
    "model.summary()"
   ]
  },
  {
   "cell_type": "code",
   "execution_count": 183,
   "metadata": {},
   "outputs": [
    {
     "name": "stdout",
     "output_type": "stream",
     "text": [
      "Train on 10479 samples, validate on 2620 samples\n",
      "Epoch 1/1\n",
      "10479/10479 [==============================] - 2509s 239ms/step - loss: 2.4845 - acc: 0.0901 - val_loss: 2.4826 - val_acc: 0.0996\n"
     ]
    }
   ],
   "source": [
    "model.compile(optimizer=optimizers.RMSprop(2e-4), loss='sparse_categorical_crossentropy', metrics=['acc'])\n",
    "history = model.fit(train_x, train_y.Sun_Sign, epochs=1, batch_size=32, validation_split=0.2)"
   ]
  },
  {
   "cell_type": "markdown",
   "metadata": {},
   "source": [
    "##### Age Group"
   ]
  },
  {
   "cell_type": "code",
   "execution_count": 184,
   "metadata": {},
   "outputs": [],
   "source": [
    "model = models.Sequential()"
   ]
  },
  {
   "cell_type": "code",
   "execution_count": 187,
   "metadata": {},
   "outputs": [
    {
     "name": "stdout",
     "output_type": "stream",
     "text": [
      "Model: \"sequential_7\"\n",
      "_________________________________________________________________\n",
      "Layer (type)                 Output Shape              Param #   \n",
      "=================================================================\n",
      "embedding_7 (Embedding)      (None, 500, 300)          3000000   \n",
      "_________________________________________________________________\n",
      "bidirectional_19 (Bidirectio (None, 500, 128)          186880    \n",
      "_________________________________________________________________\n",
      "bidirectional_20 (Bidirectio (None, 500, 256)          263168    \n",
      "_________________________________________________________________\n",
      "bidirectional_21 (Bidirectio (None, 512)               1050624   \n",
      "_________________________________________________________________\n",
      "dense_19 (Dense)             (None, 128)               65664     \n",
      "_________________________________________________________________\n",
      "dense_20 (Dense)             (None, 256)               33024     \n",
      "_________________________________________________________________\n",
      "dense_21 (Dense)             (None, 4)                 1028      \n",
      "=================================================================\n",
      "Total params: 4,600,388\n",
      "Trainable params: 4,600,388\n",
      "Non-trainable params: 0\n",
      "_________________________________________________________________\n"
     ]
    }
   ],
   "source": [
    "model.add(layers.Embedding(10000, 300, input_length=500))\n",
    "model.add(layers.Bidirectional(layers.LSTM(64, return_sequences=True)))\n",
    "model.add(layers.Bidirectional(layers.LSTM(128, return_sequences=True)))\n",
    "model.add(layers.Bidirectional(layers.LSTM(256)))\n",
    "model.add(layers.Dense(128, activation='relu'))\n",
    "model.add(layers.Dense(256, activation='relu'))\n",
    "model.add(layers.Dense(4, activation='softmax'))\n",
    "\n",
    "model.summary()"
   ]
  },
  {
   "cell_type": "code",
   "execution_count": 188,
   "metadata": {},
   "outputs": [
    {
     "name": "stdout",
     "output_type": "stream",
     "text": [
      "Train on 10479 samples, validate on 2620 samples\n",
      "Epoch 1/1\n",
      "10479/10479 [==============================] - 2815s 269ms/step - loss: 1.2233 - acc: 0.3842 - val_loss: 1.0996 - val_acc: 0.4580\n"
     ]
    }
   ],
   "source": [
    "model.compile(optimizer=optimizers.RMSprop(2e-4), loss='sparse_categorical_crossentropy', metrics=['acc'])\n",
    "history = model.fit(train_x, train_y.age_grp, epochs=1, batch_size=32, validation_split=0.2)"
   ]
  },
  {
   "cell_type": "code",
   "execution_count": 189,
   "metadata": {},
   "outputs": [
    {
     "name": "stdout",
     "output_type": "stream",
     "text": [
      "5614/5614 [==============================] - 356s 63ms/step\n"
     ]
    },
    {
     "data": {
      "text/plain": [
       "[1.109371331479569, 0.44246527552604675]"
      ]
     },
     "execution_count": 189,
     "metadata": {},
     "output_type": "execute_result"
    }
   ],
   "source": [
    "model.evaluate(test_x, test_y.age_grp)"
   ]
  },
  {
   "cell_type": "markdown",
   "metadata": {},
   "source": [
    "### Functional API"
   ]
  },
  {
   "cell_type": "code",
   "execution_count": 221,
   "metadata": {},
   "outputs": [],
   "source": [
    "from keras.models import Model\n",
    "from keras import layers, Input"
   ]
  },
  {
   "cell_type": "code",
   "execution_count": 222,
   "metadata": {},
   "outputs": [
    {
     "name": "stdout",
     "output_type": "stream",
     "text": [
      "Model: \"model_10\"\n",
      "__________________________________________________________________________________________________\n",
      "Layer (type)                    Output Shape         Param #     Connected to                     \n",
      "==================================================================================================\n",
      "Input (InputLayer)              (None, None)         0                                            \n",
      "__________________________________________________________________________________________________\n",
      "Word_embeddings (Embedding)     (None, 500, 300)     3000000     Input[0][0]                      \n",
      "__________________________________________________________________________________________________\n",
      "bidirectional_53 (Bidirectional (None, 500, 128)     186880      Word_embeddings[0][0]            \n",
      "__________________________________________________________________________________________________\n",
      "bidirectional_54 (Bidirectional (None, 500, 256)     263168      bidirectional_53[0][0]           \n",
      "__________________________________________________________________________________________________\n",
      "bidirectional_55 (Bidirectional (None, 512)          1050624     bidirectional_54[0][0]           \n",
      "__________________________________________________________________________________________________\n",
      "Dense_1 (Dense)                 (None, 128)          65664       bidirectional_55[0][0]           \n",
      "__________________________________________________________________________________________________\n",
      "Dense_2 (Dense)                 (None, 256)          33024       Dense_1[0][0]                    \n",
      "__________________________________________________________________________________________________\n",
      "Gender (Dense)                  (None, 1)            257         Dense_2[0][0]                    \n",
      "__________________________________________________________________________________________________\n",
      "Industry (Dense)                (None, 40)           10280       Dense_2[0][0]                    \n",
      "__________________________________________________________________________________________________\n",
      "Sun_Sign (Dense)                (None, 12)           3084        Dense_2[0][0]                    \n",
      "__________________________________________________________________________________________________\n",
      "Age_Group (Dense)               (None, 4)            1028        Dense_2[0][0]                    \n",
      "==================================================================================================\n",
      "Total params: 4,614,009\n",
      "Trainable params: 4,614,009\n",
      "Non-trainable params: 0\n",
      "__________________________________________________________________________________________________\n"
     ]
    }
   ],
   "source": [
    "ip = Input(shape=(None,), dtype='int32',name='Input')\n",
    "\n",
    "embed = layers.Embedding(10000, 300, input_length=500, name='Word_embeddings')(ip)\n",
    "x = layers.Bidirectional(layers.LSTM(64, return_sequences=True, name = 'Bi_LSTM_1'))(embed)\n",
    "x = layers.Bidirectional(layers.LSTM(128, return_sequences=True, name = 'Bi_LSTM_2'))(x)\n",
    "x = layers.Bidirectional(layers.LSTM(256, name = 'Bi_LSTM_3'))(x)\n",
    "\n",
    "x = layers.Dense(128, activation='relu', name='Dense_1')(x)\n",
    "x = layers.Dense(256, activation='relu', name='Dense_2')(x)\n",
    "\n",
    "gender = layers.Dense(1, activation='sigmoid', name='Gender')(x)\n",
    "industry = layers.Dense(40, activation='softmax', name='Industry')(x)\n",
    "sun_sign = layers.Dense(12, activation='softmax', name='Sun_Sign')(x)\n",
    "age_grp = layers.Dense(4, activation='softmax', name='Age_Group')(x)\n",
    "\n",
    "model = Model(ip, [gender, industry, sun_sign, age_grp])\n",
    "model.summary()"
   ]
  },
  {
   "cell_type": "code",
   "execution_count": 223,
   "metadata": {},
   "outputs": [],
   "source": [
    "model.layers[1].set_weights([embedding_matrix_glove])\n",
    "model.layers[1].trainable = False"
   ]
  },
  {
   "cell_type": "code",
   "execution_count": 224,
   "metadata": {},
   "outputs": [],
   "source": [
    "model.compile(optimizer=optimizers.RMSprop(2e-4), loss=['binary_crossentropy', 'sparse_categorical_crossentropy', 'sparse_categorical_crossentropy', 'sparse_categorical_crossentropy'], metrics=['acc'])"
   ]
  },
  {
   "cell_type": "code",
   "execution_count": 225,
   "metadata": {},
   "outputs": [
    {
     "name": "stdout",
     "output_type": "stream",
     "text": [
      "Train on 10479 samples, validate on 2620 samples\n",
      "Epoch 1/1\n",
      "10479/10479 [==============================] - 2501s 239ms/step - loss: 6.8057 - Gender_loss: 0.6775 - Industry_loss: 2.3196 - Sun_Sign_loss: 2.5000 - Age_Group_loss: 1.3074 - Gender_acc: 0.5665 - Industry_acc: 0.3511 - Sun_Sign_acc: 0.0848 - Age_Group_acc: 0.3325 - val_loss: 6.6943 - val_Gender_loss: 0.6699 - val_Industry_loss: 2.2705 - val_Sun_Sign_loss: 2.4950 - val_Age_Group_loss: 1.2591 - val_Gender_acc: 0.5924 - val_Industry_acc: 0.3492 - val_Sun_Sign_acc: 0.0889 - val_Age_Group_acc: 0.3622\n"
     ]
    },
    {
     "data": {
      "text/plain": [
       "<keras.callbacks.callbacks.History at 0x26303c350>"
      ]
     },
     "execution_count": 225,
     "metadata": {},
     "output_type": "execute_result"
    }
   ],
   "source": [
    "model.fit(train_x, [train_y.Gender_male, train_y.Industry, train_y.Sun_Sign, train_y.age_grp], batch_size=32, epochs=1, validation_split=0.2)"
   ]
  },
  {
   "cell_type": "code",
   "execution_count": 226,
   "metadata": {},
   "outputs": [
    {
     "name": "stdout",
     "output_type": "stream",
     "text": [
      "5614/5614 [==============================] - 899s 160ms/step\n"
     ]
    },
    {
     "data": {
      "text/plain": [
       "[6.714425373722915,\n",
       " 0.6676380634307861,\n",
       " 2.292409658432007,\n",
       " 2.490910768508911,\n",
       " 1.2615333795547485,\n",
       " 0.5944068431854248,\n",
       " 0.35411471128463745,\n",
       " 0.08478803187608719,\n",
       " 0.3596366345882416]"
      ]
     },
     "execution_count": 226,
     "metadata": {},
     "output_type": "execute_result"
    }
   ],
   "source": [
    "model.evaluate(test_x, [test_y.Gender_male, test_y.Industry, test_y.Sun_Sign, test_y.age_grp])"
   ]
  },
  {
   "cell_type": "code",
   "execution_count": null,
   "metadata": {},
   "outputs": [],
   "source": []
  }
 ],
 "metadata": {
  "kernelspec": {
   "display_name": "Python 3",
   "language": "python",
   "name": "python3"
  },
  "language_info": {
   "codemirror_mode": {
    "name": "ipython",
    "version": 3
   },
   "file_extension": ".py",
   "mimetype": "text/x-python",
   "name": "python",
   "nbconvert_exporter": "python",
   "pygments_lexer": "ipython3",
   "version": "3.7.4"
  }
 },
 "nbformat": 4,
 "nbformat_minor": 2
}
