{
 "cells": [
  {
   "cell_type": "code",
   "execution_count": 6,
   "metadata": {},
   "outputs": [],
   "source": [
    "import pandas as pd\n",
    "import numpy as np\n",
    "import matplotlib.pyplot as plt\n",
    "import seaborn as sn\n",
    "import os\n",
    "import warnings\n",
    "warnings.filterwarnings('ignore')\n",
    "import statsmodels.api as sm\n",
    "%matplotlib inline"
   ]
  },
  {
   "cell_type": "code",
   "execution_count": 2,
   "metadata": {},
   "outputs": [],
   "source": [
    "train = pd.read_csv('/Users/skylark/Desktop/cv/train_SOaYf6m/train.csv')\n",
    "test = pd.read_csv('/Users/skylark/Desktop/cv/test.csv')"
   ]
  },
  {
   "cell_type": "code",
   "execution_count": 3,
   "metadata": {},
   "outputs": [],
   "source": [
    "train['img'] = pd.to_numeric(train.image_names.apply(lambda x: x.split('.')[0]))\n",
    "test['img'] = pd.to_numeric(test.image_names.apply(lambda x: x.split('.')[0]))"
   ]
  },
  {
   "cell_type": "code",
   "execution_count": 5,
   "metadata": {},
   "outputs": [],
   "source": [
    "train.sort_values('img', inplace=True)\n",
    "test.sort_values('img', inplace=True)"
   ]
  },
  {
   "cell_type": "code",
   "execution_count": 8,
   "metadata": {},
   "outputs": [],
   "source": [
    "train.drop('img', axis=1, inplace=True)\n",
    "test.drop('img', axis=1, inplace=True)"
   ]
  },
  {
   "cell_type": "code",
   "execution_count": 7,
   "metadata": {},
   "outputs": [],
   "source": [
    "from keras.preprocessing import image"
   ]
  },
  {
   "cell_type": "code",
   "execution_count": 11,
   "metadata": {},
   "outputs": [],
   "source": [
    "path = '/Users/skylark/Desktop/cv/train_SOaYf6m/images'"
   ]
  },
  {
   "cell_type": "code",
   "execution_count": 12,
   "metadata": {},
   "outputs": [],
   "source": [
    "train_img = []\n",
    "for i in train.image_names:\n",
    "    train_img.append(image.img_to_array(image.load_img(os.path.join(path, i), target_size=(150, 150))))\n",
    "    \n",
    "train_img = np.array(train_img)    "
   ]
  },
  {
   "cell_type": "code",
   "execution_count": 13,
   "metadata": {},
   "outputs": [],
   "source": [
    "test_img = []\n",
    "for i in test.image_names:\n",
    "    test_img.append(image.img_to_array(image.load_img(os.path.join(path, i), target_size=(150, 150))))\n",
    "    \n",
    "test_img = np.array(test_img)    "
   ]
  },
  {
   "cell_type": "code",
   "execution_count": 15,
   "metadata": {},
   "outputs": [],
   "source": [
    "train_labels = train.emergency_or_not"
   ]
  },
  {
   "cell_type": "code",
   "execution_count": 16,
   "metadata": {},
   "outputs": [],
   "source": [
    "from sklearn.model_selection import train_test_split"
   ]
  },
  {
   "cell_type": "code",
   "execution_count": 17,
   "metadata": {},
   "outputs": [],
   "source": [
    "train_x, test_x, train_y, test_y = train_test_split(train_img, train_labels, test_size=0.3, random_state=42)"
   ]
  },
  {
   "cell_type": "code",
   "execution_count": 18,
   "metadata": {},
   "outputs": [],
   "source": [
    "datagen = image.ImageDataGenerator(rescale=1./255, width_shift_range=0.2,horizontal_flip=True, height_shift_range=0.2, rotation_range=40, shear_range=0.2, zoom_range=0.2)\n",
    "datagen_test = image.ImageDataGenerator(rescale=1./255)"
   ]
  },
  {
   "cell_type": "code",
   "execution_count": 19,
   "metadata": {},
   "outputs": [],
   "source": [
    "train_gen = datagen.flow(train_x[345:], train_y[345:], batch_size=20)\n",
    "validation_gen = datagen.flow(train_x[:345], train_y[:345],  batch_size=20)\n",
    "test_gen = datagen.flow(test_x, test_y,  batch_size=20)"
   ]
  },
  {
   "cell_type": "code",
   "execution_count": 8,
   "metadata": {},
   "outputs": [],
   "source": [
    "from keras import layers, models, optimizers, regularizers"
   ]
  },
  {
   "cell_type": "code",
   "execution_count": 17,
   "metadata": {},
   "outputs": [],
   "source": [
    "model = models.Sequential()"
   ]
  },
  {
   "cell_type": "code",
   "execution_count": 18,
   "metadata": {},
   "outputs": [],
   "source": [
    "model.add(layers.Conv2D(128, (3,3), activation='relu', input_shape=(150,150,3), padding='same'))\n",
    "model.add(layers.MaxPooling2D((2,2), padding='same'))\n",
    "\n",
    "model.add(layers.Conv2D(256, (3,3), activation='relu'))\n",
    "model.add(layers.MaxPooling2D(2,2))\n",
    "\n",
    "model.add(layers.Conv2D(512, (3,3), activation='relu'))\n",
    "model.add(layers.MaxPooling2D(2,2))"
   ]
  },
  {
   "cell_type": "code",
   "execution_count": 19,
   "metadata": {},
   "outputs": [],
   "source": [
    "model.add(layers.Flatten())\n",
    "model.add(layers.Dropout(0.5))\n",
    "model.add(layers.Dense(512, activation='relu'))\n",
    "model.add(layers.Dense(1, activation='sigmoid'))"
   ]
  },
  {
   "cell_type": "code",
   "execution_count": 20,
   "metadata": {},
   "outputs": [
    {
     "name": "stdout",
     "output_type": "stream",
     "text": [
      "Model: \"sequential_4\"\n",
      "_________________________________________________________________\n",
      "Layer (type)                 Output Shape              Param #   \n",
      "=================================================================\n",
      "conv2d_10 (Conv2D)           (None, 150, 150, 128)     3584      \n",
      "_________________________________________________________________\n",
      "max_pooling2d_10 (MaxPooling (None, 75, 75, 128)       0         \n",
      "_________________________________________________________________\n",
      "conv2d_11 (Conv2D)           (None, 73, 73, 256)       295168    \n",
      "_________________________________________________________________\n",
      "max_pooling2d_11 (MaxPooling (None, 36, 36, 256)       0         \n",
      "_________________________________________________________________\n",
      "conv2d_12 (Conv2D)           (None, 34, 34, 512)       1180160   \n",
      "_________________________________________________________________\n",
      "max_pooling2d_12 (MaxPooling (None, 17, 17, 512)       0         \n",
      "_________________________________________________________________\n",
      "flatten_4 (Flatten)          (None, 147968)            0         \n",
      "_________________________________________________________________\n",
      "dropout_4 (Dropout)          (None, 147968)            0         \n",
      "_________________________________________________________________\n",
      "dense_7 (Dense)              (None, 512)               75760128  \n",
      "_________________________________________________________________\n",
      "dense_8 (Dense)              (None, 1)                 513       \n",
      "=================================================================\n",
      "Total params: 77,239,553\n",
      "Trainable params: 77,239,553\n",
      "Non-trainable params: 0\n",
      "_________________________________________________________________\n"
     ]
    }
   ],
   "source": [
    "model.summary()"
   ]
  },
  {
   "cell_type": "code",
   "execution_count": 32,
   "metadata": {},
   "outputs": [],
   "source": [
    "model.compile(optimizer=optimizers.RMSprop(lr=2e-4), loss='binary_crossentropy', metrics=['acc'])"
   ]
  },
  {
   "cell_type": "code",
   "execution_count": 33,
   "metadata": {},
   "outputs": [
    {
     "name": "stdout",
     "output_type": "stream",
     "text": [
      "Epoch 1/30\n",
      "100/100 [==============================] - 529s 5s/step - loss: 0.6975 - acc: 0.6288 - val_loss: 0.5982 - val_acc: 0.6969\n",
      "Epoch 2/30\n",
      "100/100 [==============================] - 516s 5s/step - loss: 0.5955 - acc: 0.7259 - val_loss: 0.5283 - val_acc: 0.7319\n",
      "Epoch 3/30\n",
      "100/100 [==============================] - 614s 6s/step - loss: 0.5528 - acc: 0.7381 - val_loss: 0.9101 - val_acc: 0.6995\n",
      "Epoch 4/30\n",
      "100/100 [==============================] - 835s 8s/step - loss: 0.5506 - acc: 0.7532 - val_loss: 0.8047 - val_acc: 0.7120\n",
      "Epoch 5/30\n",
      "100/100 [==============================] - 523s 5s/step - loss: 0.4851 - acc: 0.7888 - val_loss: 0.5433 - val_acc: 0.7454\n",
      "Epoch 6/30\n",
      "100/100 [==============================] - 531s 5s/step - loss: 0.4792 - acc: 0.7847 - val_loss: 0.6558 - val_acc: 0.7403\n",
      "Epoch 7/30\n",
      "100/100 [==============================] - 550s 6s/step - loss: 0.4598 - acc: 0.7889 - val_loss: 0.8456 - val_acc: 0.6743\n",
      "Epoch 8/30\n",
      "100/100 [==============================] - 570s 6s/step - loss: 0.4425 - acc: 0.7882 - val_loss: 0.4467 - val_acc: 0.7613\n",
      "Epoch 9/30\n",
      "100/100 [==============================] - 584s 6s/step - loss: 0.4267 - acc: 0.8141 - val_loss: 0.3433 - val_acc: 0.7424\n",
      "Epoch 10/30\n",
      "100/100 [==============================] - 591s 6s/step - loss: 0.4138 - acc: 0.8157 - val_loss: 0.5540 - val_acc: 0.7938\n",
      "Epoch 11/30\n",
      "100/100 [==============================] - 678s 7s/step - loss: 0.4032 - acc: 0.8228 - val_loss: 0.5908 - val_acc: 0.7696\n",
      "Epoch 12/30\n",
      "100/100 [==============================] - 632s 6s/step - loss: 0.3808 - acc: 0.8388 - val_loss: 0.7627 - val_acc: 0.7885\n",
      "Epoch 13/30\n",
      "100/100 [==============================] - 531s 5s/step - loss: 0.3881 - acc: 0.8394 - val_loss: 0.4147 - val_acc: 0.7728\n",
      "Epoch 14/30\n",
      "100/100 [==============================] - 543s 5s/step - loss: 0.3790 - acc: 0.8389 - val_loss: 0.4698 - val_acc: 0.7794\n",
      "Epoch 15/30\n",
      "100/100 [==============================] - 585s 6s/step - loss: 0.3908 - acc: 0.8354 - val_loss: 0.9961 - val_acc: 0.7204\n",
      "Epoch 16/30\n",
      "100/100 [==============================] - 586s 6s/step - loss: 0.3614 - acc: 0.8445 - val_loss: 0.7992 - val_acc: 0.7686\n",
      "Epoch 17/30\n",
      "100/100 [==============================] - 588s 6s/step - loss: 0.3642 - acc: 0.8435 - val_loss: 0.5238 - val_acc: 0.8168\n",
      "Epoch 18/30\n",
      "100/100 [==============================] - 590s 6s/step - loss: 0.3617 - acc: 0.8556 - val_loss: 0.1970 - val_acc: 0.7832\n",
      "Epoch 19/30\n",
      "100/100 [==============================] - 587s 6s/step - loss: 0.3782 - acc: 0.8542 - val_loss: 0.2022 - val_acc: 0.7845\n",
      "Epoch 20/30\n",
      "100/100 [==============================] - 583s 6s/step - loss: 0.3466 - acc: 0.8546 - val_loss: 0.6293 - val_acc: 0.7351\n",
      "Epoch 21/30\n",
      "100/100 [==============================] - 543s 5s/step - loss: 0.3628 - acc: 0.8659 - val_loss: 0.4130 - val_acc: 0.8084\n",
      "Epoch 22/30\n",
      "100/100 [==============================] - 727s 7s/step - loss: 0.3540 - acc: 0.8679 - val_loss: 0.5343 - val_acc: 0.8126\n",
      "Epoch 23/30\n",
      "100/100 [==============================] - 610s 6s/step - loss: 0.3272 - acc: 0.8713 - val_loss: 0.3377 - val_acc: 0.7856\n",
      "Epoch 24/30\n",
      "100/100 [==============================] - 651s 7s/step - loss: 0.3421 - acc: 0.8658 - val_loss: 0.1514 - val_acc: 0.8136\n",
      "Epoch 25/30\n",
      "100/100 [==============================] - 662s 7s/step - loss: 0.3317 - acc: 0.8664 - val_loss: 0.3330 - val_acc: 0.8230\n",
      "Epoch 26/30\n",
      "100/100 [==============================] - 6531s 65s/step - loss: 0.3104 - acc: 0.8776 - val_loss: 0.9836 - val_acc: 0.8251\n",
      "Epoch 27/30\n",
      "100/100 [==============================] - 708s 7s/step - loss: 0.3250 - acc: 0.8845 - val_loss: 4.4419 - val_acc: 0.7990\n",
      "Epoch 28/30\n",
      "100/100 [==============================] - 757s 8s/step - loss: 0.3272 - acc: 0.8728 - val_loss: 0.4274 - val_acc: 0.7711\n",
      "Epoch 29/30\n",
      "100/100 [==============================] - 728s 7s/step - loss: 0.3229 - acc: 0.8751 - val_loss: 0.7440 - val_acc: 0.8105\n",
      "Epoch 30/30\n",
      "100/100 [==============================] - 705s 7s/step - loss: 0.3104 - acc: 0.8789 - val_loss: 4.3252 - val_acc: 0.8188\n"
     ]
    }
   ],
   "source": [
    "history = model.fit_generator(train_gen, steps_per_epoch=100, epochs=30, validation_data=validation_gen, validation_steps=50)"
   ]
  },
  {
   "cell_type": "code",
   "execution_count": 34,
   "metadata": {},
   "outputs": [
    {
     "data": {
      "text/plain": [
       "dict_keys(['val_loss', 'val_acc', 'loss', 'acc'])"
      ]
     },
     "execution_count": 34,
     "metadata": {},
     "output_type": "execute_result"
    }
   ],
   "source": [
    "history.history.keys()"
   ]
  },
  {
   "cell_type": "code",
   "execution_count": 35,
   "metadata": {},
   "outputs": [],
   "source": [
    "loss = history.history['loss']\n",
    "val_loss = history.history['val_loss']\n",
    "\n",
    "acc = history.history['acc']\n",
    "val_acc = history.history['val_acc']"
   ]
  },
  {
   "cell_type": "code",
   "execution_count": 36,
   "metadata": {},
   "outputs": [
    {
     "data": {
      "text/plain": [
       "range(1, 31)"
      ]
     },
     "execution_count": 36,
     "metadata": {},
     "output_type": "execute_result"
    }
   ],
   "source": [
    "range(1,len(acc)+1)"
   ]
  },
  {
   "cell_type": "code",
   "execution_count": 37,
   "metadata": {},
   "outputs": [
    {
     "data": {
      "image/png": "[encoded data removed]",
      "text/plain": [
       "<Figure size 432x288 with 1 Axes>"
      ]
     },
     "metadata": {
      "needs_background": "light"
     },
     "output_type": "display_data"
    }
   ],
   "source": [
    "plt.plot(range(1,len(acc)+1), loss, label='Training')\n",
    "plt.plot(range(1,len(acc)+1), val_loss, label='Validation')\n",
    "plt.legend()\n",
    "plt.show()"
   ]
  },
  {
   "cell_type": "code",
   "execution_count": 38,
   "metadata": {},
   "outputs": [
    {
     "data": {
      "image/png": "[encoded data removed]",
      "text/plain": [
       "<Figure size 432x288 with 1 Axes>"
      ]
     },
     "metadata": {
      "needs_background": "light"
     },
     "output_type": "display_data"
    }
   ],
   "source": [
    "plt.plot(range(1,len(acc)+1), acc, label='Training')\n",
    "plt.plot(range(1,len(acc)+1), val_acc, label='Validation')\n",
    "plt.legend()\n",
    "plt.show()"
   ]
  },
  {
   "cell_type": "code",
   "execution_count": 39,
   "metadata": {},
   "outputs": [
    {
     "data": {
      "text/plain": [
       "[0.8228206634521484, 0.840080976486206]"
      ]
     },
     "execution_count": 39,
     "metadata": {},
     "output_type": "execute_result"
    }
   ],
   "source": [
    "model.evaluate_generator(test_gen)"
   ]
  },
  {
   "cell_type": "code",
   "execution_count": 44,
   "metadata": {},
   "outputs": [],
   "source": [
    "pred = model.predict_generator(test_input)"
   ]
  },
  {
   "cell_type": "code",
   "execution_count": 46,
   "metadata": {},
   "outputs": [],
   "source": [
    "pred_class = model.predict_classes(test_img/255)"
   ]
  },
  {
   "cell_type": "code",
   "execution_count": 63,
   "metadata": {},
   "outputs": [],
   "source": [
    "test['emergency_or_not'] = pred_class"
   ]
  },
  {
   "cell_type": "code",
   "execution_count": 66,
   "metadata": {},
   "outputs": [],
   "source": [
    "test.sort_index(inplace=True)"
   ]
  },
  {
   "cell_type": "code",
   "execution_count": 69,
   "metadata": {},
   "outputs": [],
   "source": [
    "test.set_index('image_names').to_csv('/Users/skylark/Desktop/cv/result.csv')"
   ]
  },
  {
   "cell_type": "markdown",
   "metadata": {},
   "source": [
    "### VGG 16"
   ]
  },
  {
   "cell_type": "code",
   "execution_count": 70,
   "metadata": {},
   "outputs": [],
   "source": [
    "from keras.applications import VGG16"
   ]
  },
  {
   "cell_type": "code",
   "execution_count": 71,
   "metadata": {},
   "outputs": [],
   "source": [
    "conv_base = VGG16(weights='imagenet', include_top=False, input_shape=(150,150,3))"
   ]
  },
  {
   "cell_type": "code",
   "execution_count": 72,
   "metadata": {},
   "outputs": [
    {
     "name": "stdout",
     "output_type": "stream",
     "text": [
      "Model: \"vgg16\"\n",
      "_________________________________________________________________\n",
      "Layer (type)                 Output Shape              Param #   \n",
      "=================================================================\n",
      "input_1 (InputLayer)         (None, 150, 150, 3)       0         \n",
      "_________________________________________________________________\n",
      "block1_conv1 (Conv2D)        (None, 150, 150, 64)      1792      \n",
      "_________________________________________________________________\n",
      "block1_conv2 (Conv2D)        (None, 150, 150, 64)      36928     \n",
      "_________________________________________________________________\n",
      "block1_pool (MaxPooling2D)   (None, 75, 75, 64)        0         \n",
      "_________________________________________________________________\n",
      "block2_conv1 (Conv2D)        (None, 75, 75, 128)       73856     \n",
      "_________________________________________________________________\n",
      "block2_conv2 (Conv2D)        (None, 75, 75, 128)       147584    \n",
      "_________________________________________________________________\n",
      "block2_pool (MaxPooling2D)   (None, 37, 37, 128)       0         \n",
      "_________________________________________________________________\n",
      "block3_conv1 (Conv2D)        (None, 37, 37, 256)       295168    \n",
      "_________________________________________________________________\n",
      "block3_conv2 (Conv2D)        (None, 37, 37, 256)       590080    \n",
      "_________________________________________________________________\n",
      "block3_conv3 (Conv2D)        (None, 37, 37, 256)       590080    \n",
      "_________________________________________________________________\n",
      "block3_pool (MaxPooling2D)   (None, 18, 18, 256)       0         \n",
      "_________________________________________________________________\n",
      "block4_conv1 (Conv2D)        (None, 18, 18, 512)       1180160   \n",
      "_________________________________________________________________\n",
      "block4_conv2 (Conv2D)        (None, 18, 18, 512)       2359808   \n",
      "_________________________________________________________________\n",
      "block4_conv3 (Conv2D)        (None, 18, 18, 512)       2359808   \n",
      "_________________________________________________________________\n",
      "block4_pool (MaxPooling2D)   (None, 9, 9, 512)         0         \n",
      "_________________________________________________________________\n",
      "block5_conv1 (Conv2D)        (None, 9, 9, 512)         2359808   \n",
      "_________________________________________________________________\n",
      "block5_conv2 (Conv2D)        (None, 9, 9, 512)         2359808   \n",
      "_________________________________________________________________\n",
      "block5_conv3 (Conv2D)        (None, 9, 9, 512)         2359808   \n",
      "_________________________________________________________________\n",
      "block5_pool (MaxPooling2D)   (None, 4, 4, 512)         0         \n",
      "=================================================================\n",
      "Total params: 14,714,688\n",
      "Trainable params: 14,714,688\n",
      "Non-trainable params: 0\n",
      "_________________________________________________________________\n"
     ]
    }
   ],
   "source": [
    "conv_base.summary()"
   ]
  },
  {
   "cell_type": "code",
   "execution_count": 73,
   "metadata": {},
   "outputs": [],
   "source": [
    "conv_base.trainable = True\n",
    "set_trainable = False\n",
    "\n",
    "for layer in conv_base.layers:\n",
    "    if layer.name == 'block5_conv1':\n",
    "        set_trainable = True\n",
    "    if set_trainable:\n",
    "        layer.trainable = True\n",
    "    else:\n",
    "        layer.trainable = False"
   ]
  },
  {
   "cell_type": "code",
   "execution_count": 87,
   "metadata": {},
   "outputs": [],
   "source": [
    "model2 = models.Sequential()"
   ]
  },
  {
   "cell_type": "code",
   "execution_count": 90,
   "metadata": {},
   "outputs": [],
   "source": [
    "model2.add(conv_base)"
   ]
  },
  {
   "cell_type": "code",
   "execution_count": 91,
   "metadata": {},
   "outputs": [],
   "source": [
    "model2.add(layers.Flatten())\n",
    "model2.add(layers.Dense(256, activation='relu'))\n",
    "model2.add(layers.Dense(1, activation='sigmoid'))"
   ]
  },
  {
   "cell_type": "code",
   "execution_count": 92,
   "metadata": {},
   "outputs": [],
   "source": [
    "model2.compile(optimizer=optimizers.RMSprop(lr=2e-5), loss='binary_crossentropy', metrics=['acc'])"
   ]
  },
  {
   "cell_type": "code",
   "execution_count": 81,
   "metadata": {},
   "outputs": [
    {
     "name": "stdout",
     "output_type": "stream",
     "text": [
      "Epoch 1/30\n",
      "100/100 [==============================] - 405s 4s/step - loss: 0.4647 - acc: 0.7720 - val_loss: 0.5377 - val_acc: 0.8237\n",
      "Epoch 2/30\n",
      "100/100 [==============================] - 1088s 11s/step - loss: 0.3143 - acc: 0.8623 - val_loss: 0.3252 - val_acc: 0.8356\n",
      "Epoch 3/30\n",
      "100/100 [==============================] - 462s 5s/step - loss: 0.2525 - acc: 0.8975 - val_loss: 0.1974 - val_acc: 0.8775\n",
      "Epoch 4/30\n",
      "100/100 [==============================] - 455s 5s/step - loss: 0.2191 - acc: 0.9149 - val_loss: 0.1693 - val_acc: 0.8754\n",
      "Epoch 5/30\n",
      "100/100 [==============================] - 409s 4s/step - loss: 0.1888 - acc: 0.9225 - val_loss: 0.2442 - val_acc: 0.8938\n",
      "Epoch 6/30\n",
      "100/100 [==============================] - 564s 6s/step - loss: 0.1853 - acc: 0.9276 - val_loss: 0.1979 - val_acc: 0.8733\n",
      "Epoch 7/30\n",
      "100/100 [==============================] - 436s 4s/step - loss: 0.1585 - acc: 0.9422 - val_loss: 0.2234 - val_acc: 0.9089\n",
      "Epoch 8/30\n",
      "100/100 [==============================] - 425s 4s/step - loss: 0.1227 - acc: 0.9498 - val_loss: 0.1108 - val_acc: 0.8932\n",
      "Epoch 9/30\n",
      "100/100 [==============================] - 455s 5s/step - loss: 0.1122 - acc: 0.9567 - val_loss: 0.0141 - val_acc: 0.9026\n",
      "Epoch 10/30\n",
      "100/100 [==============================] - 410s 4s/step - loss: 0.1185 - acc: 0.9529 - val_loss: 0.1174 - val_acc: 0.9031\n",
      "Epoch 11/30\n",
      "100/100 [==============================] - 403s 4s/step - loss: 0.0991 - acc: 0.9643 - val_loss: 0.4096 - val_acc: 0.8984\n",
      "Epoch 12/30\n",
      "100/100 [==============================] - 447s 4s/step - loss: 0.0842 - acc: 0.9726 - val_loss: 0.1376 - val_acc: 0.8848\n",
      "Epoch 13/30\n",
      "100/100 [==============================] - 447s 4s/step - loss: 0.0731 - acc: 0.9704 - val_loss: 0.0734 - val_acc: 0.9099\n",
      "Epoch 14/30\n",
      "100/100 [==============================] - 409s 4s/step - loss: 0.0706 - acc: 0.9757 - val_loss: 0.3463 - val_acc: 0.9103\n",
      "Epoch 15/30\n",
      "100/100 [==============================] - 399s 4s/step - loss: 0.0590 - acc: 0.9767 - val_loss: 0.0979 - val_acc: 0.8639\n",
      "Epoch 16/30\n",
      "100/100 [==============================] - 396s 4s/step - loss: 0.0595 - acc: 0.9776 - val_loss: 0.7478 - val_acc: 0.8827\n",
      "Epoch 17/30\n",
      "100/100 [==============================] - 425s 4s/step - loss: 0.0504 - acc: 0.9796 - val_loss: 0.0731 - val_acc: 0.8953\n",
      "Epoch 18/30\n",
      "100/100 [==============================] - 488s 5s/step - loss: 0.0608 - acc: 0.9767 - val_loss: 1.6857 - val_acc: 0.9037\n",
      "Epoch 19/30\n",
      "100/100 [==============================] - 488s 5s/step - loss: 0.0387 - acc: 0.9842 - val_loss: 0.5997 - val_acc: 0.8979\n",
      "Epoch 20/30\n",
      "100/100 [==============================] - 492s 5s/step - loss: 0.0393 - acc: 0.9883 - val_loss: 1.4920 - val_acc: 0.8377\n",
      "Epoch 21/30\n",
      "100/100 [==============================] - 511s 5s/step - loss: 0.0296 - acc: 0.9894 - val_loss: 0.1604 - val_acc: 0.9026\n",
      "Epoch 22/30\n",
      "100/100 [==============================] - 442s 4s/step - loss: 0.0237 - acc: 0.9904 - val_loss: 0.7365 - val_acc: 0.8838\n",
      "Epoch 23/30\n",
      "100/100 [==============================] - 479s 5s/step - loss: 0.0236 - acc: 0.9913 - val_loss: 0.3239 - val_acc: 0.9082\n",
      "Epoch 24/30\n",
      "100/100 [==============================] - 486s 5s/step - loss: 0.0317 - acc: 0.9903 - val_loss: 0.3073 - val_acc: 0.8984\n",
      "Epoch 25/30\n",
      "100/100 [==============================] - 460s 5s/step - loss: 0.0240 - acc: 0.9894 - val_loss: 0.1605 - val_acc: 0.8995\n",
      "Epoch 26/30\n",
      "100/100 [==============================] - 499s 5s/step - loss: 0.0289 - acc: 0.9873 - val_loss: 1.9412 - val_acc: 0.7696\n",
      "Epoch 27/30\n",
      "100/100 [==============================] - 481s 5s/step - loss: 0.0309 - acc: 0.9888 - val_loss: 4.4994 - val_acc: 0.8628\n",
      "Epoch 28/30\n",
      "100/100 [==============================] - 729s 7s/step - loss: 0.0266 - acc: 0.9909 - val_loss: 0.9322 - val_acc: 0.8814\n",
      "Epoch 29/30\n",
      "100/100 [==============================] - 419s 4s/step - loss: 0.0329 - acc: 0.9883 - val_loss: 0.2697 - val_acc: 0.8880\n",
      "Epoch 30/30\n",
      "100/100 [==============================] - 415s 4s/step - loss: 0.0168 - acc: 0.9919 - val_loss: 0.2848 - val_acc: 0.9058\n"
     ]
    }
   ],
   "source": [
    "history = model2.fit_generator(train_gen, steps_per_epoch=100, epochs=30, validation_data=validation_gen, validation_steps=50)"
   ]
  },
  {
   "cell_type": "code",
   "execution_count": 82,
   "metadata": {},
   "outputs": [],
   "source": [
    "loss = history.history['loss']\n",
    "val_loss = history.history['val_loss']\n",
    "\n",
    "acc = history.history['acc']\n",
    "val_acc = history.history['val_acc']"
   ]
  },
  {
   "cell_type": "code",
   "execution_count": 83,
   "metadata": {},
   "outputs": [
    {
     "data": {
      "image/png": "[encoded data removed]",
      "text/plain": [
       "<Figure size 432x288 with 1 Axes>"
      ]
     },
     "metadata": {
      "needs_background": "light"
     },
     "output_type": "display_data"
    }
   ],
   "source": [
    "plt.plot(range(1,len(acc)+1), loss, label='Training')\n",
    "plt.plot(range(1,len(acc)+1), val_loss, label='Validation')\n",
    "plt.legend()\n",
    "plt.show()"
   ]
  },
  {
   "cell_type": "code",
   "execution_count": 84,
   "metadata": {},
   "outputs": [
    {
     "data": {
      "image/png": "[encoded data removed]",
      "text/plain": [
       "<Figure size 432x288 with 1 Axes>"
      ]
     },
     "metadata": {
      "needs_background": "light"
     },
     "output_type": "display_data"
    }
   ],
   "source": [
    "plt.plot(range(1,len(acc)+1), acc, label='Training')\n",
    "plt.plot(range(1,len(acc)+1), val_acc, label='Validation')\n",
    "plt.legend()\n",
    "plt.show()"
   ]
  },
  {
   "cell_type": "code",
   "execution_count": 93,
   "metadata": {},
   "outputs": [
    {
     "name": "stdout",
     "output_type": "stream",
     "text": [
      "Epoch 1/7\n",
      "100/100 [==============================] - 554s 6s/step - loss: 0.1281 - acc: 0.9500 - val_loss: 0.0463 - val_acc: 0.9124\n",
      "Epoch 2/7\n",
      "100/100 [==============================] - 561s 6s/step - loss: 0.0630 - acc: 0.9787 - val_loss: 0.4548 - val_acc: 0.8932\n",
      "Epoch 3/7\n",
      "100/100 [==============================] - 563s 6s/step - loss: 0.0432 - acc: 0.9833 - val_loss: 0.0617 - val_acc: 0.9110\n",
      "Epoch 4/7\n",
      "100/100 [==============================] - 609s 6s/step - loss: 0.0278 - acc: 0.9898 - val_loss: 0.0313 - val_acc: 0.9131\n",
      "Epoch 5/7\n",
      "100/100 [==============================] - 576s 6s/step - loss: 0.0264 - acc: 0.9909 - val_loss: 0.5688 - val_acc: 0.8423\n",
      "Epoch 6/7\n",
      "100/100 [==============================] - 452s 5s/step - loss: 0.0261 - acc: 0.9913 - val_loss: 0.0900 - val_acc: 0.9120\n",
      "Epoch 7/7\n",
      "100/100 [==============================] - 502s 5s/step - loss: 0.0359 - acc: 0.9899 - val_loss: 0.0257 - val_acc: 0.9173\n"
     ]
    },
    {
     "data": {
      "text/plain": [
       "<keras.callbacks.callbacks.History at 0x19013e6d0>"
      ]
     },
     "execution_count": 93,
     "metadata": {},
     "output_type": "execute_result"
    }
   ],
   "source": [
    "model2.fit_generator(train_gen, steps_per_epoch=100, epochs=7, validation_data=validation_gen, validation_steps=50)"
   ]
  },
  {
   "cell_type": "code",
   "execution_count": 94,
   "metadata": {},
   "outputs": [
    {
     "data": {
      "text/plain": [
       "[0.553673267364502, 0.8967611193656921]"
      ]
     },
     "execution_count": 94,
     "metadata": {},
     "output_type": "execute_result"
    }
   ],
   "source": [
    "model2.evaluate_generator(test_gen)"
   ]
  },
  {
   "cell_type": "code",
   "execution_count": 95,
   "metadata": {},
   "outputs": [],
   "source": [
    "pred = model2.predict_generator(test_input)"
   ]
  },
  {
   "cell_type": "code",
   "execution_count": 96,
   "metadata": {},
   "outputs": [],
   "source": [
    "pred_class = model2.predict_classes(test_img/255)"
   ]
  },
  {
   "cell_type": "code",
   "execution_count": 102,
   "metadata": {},
   "outputs": [],
   "source": [
    "test['img'] = pd.to_numeric(test.image_names.apply(lambda x: x.split('.')[0]))"
   ]
  },
  {
   "cell_type": "code",
   "execution_count": 103,
   "metadata": {},
   "outputs": [],
   "source": [
    "test.sort_values('img', inplace=True)"
   ]
  },
  {
   "cell_type": "code",
   "execution_count": 105,
   "metadata": {},
   "outputs": [],
   "source": [
    "test.drop('img', axis=1, inplace=True)"
   ]
  },
  {
   "cell_type": "code",
   "execution_count": 108,
   "metadata": {},
   "outputs": [],
   "source": [
    "test['emergency_or_not'] = pred_class"
   ]
  },
  {
   "cell_type": "code",
   "execution_count": 113,
   "metadata": {},
   "outputs": [],
   "source": [
    "test.sort_index().set_index('image_names').to_csv('/Users/skylark/Desktop/cv/result2.csv')"
   ]
  },
  {
   "cell_type": "code",
   "execution_count": null,
   "metadata": {},
   "outputs": [],
   "source": []
  }
 ],
 "metadata": {
  "kernelspec": {
   "display_name": "Python 3",
   "language": "python",
   "name": "python3"
  },
  "language_info": {
   "codemirror_mode": {
    "name": "ipython",
    "version": 3
   },
   "file_extension": ".py",
   "mimetype": "text/x-python",
   "name": "python",
   "nbconvert_exporter": "python",
   "pygments_lexer": "ipython3",
   "version": "3.7.4"
  }
 },
 "nbformat": 4,
 "nbformat_minor": 2
}
